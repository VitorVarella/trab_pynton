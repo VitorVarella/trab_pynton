{
  "nbformat": 4,
  "nbformat_minor": 0,
  "metadata": {
    "colab": {
      "provenance": [],
      "mount_file_id": "1TBBouKUDSc1F2oTB1uY0ZBX2UuarA97u",
      "authorship_tag": "ABX9TyO2hPUaicHNqXJsI2z18Ynf",
      "include_colab_link": true
    },
    "kernelspec": {
      "name": "python3",
      "display_name": "Python 3"
    },
    "language_info": {
      "name": "python"
    }
  },
  "cells": [
    {
      "cell_type": "markdown",
      "metadata": {
        "id": "view-in-github",
        "colab_type": "text"
      },
      "source": [
        "<a href=\"https://colab.research.google.com/github/samuellevistrauss/trab_pynton/blob/main/C%C3%B3pia_de_Dados_estatistico_VR_.ipynb\" target=\"_parent\"><img src=\"https://colab.research.google.com/assets/colab-badge.svg\" alt=\"Open In Colab\"/></a>"
      ]
    },
    {
      "cell_type": "code",
      "execution_count": 233,
      "metadata": {
        "id": "wxqsYTBKifMP"
      },
      "outputs": [],
      "source": [
        "import pandas as pd\n",
        "import matplotlib.pyplot as plt\n",
        "def post_execute():\n",
        " if matplotlib.is_interactive():\n",
        "  draw_all()"
      ]
    },
    {
      "cell_type": "markdown",
      "source": [
        "importando o Data frame "
      ],
      "metadata": {
        "id": "rP7ZNDKZjC_a"
      }
    },
    {
      "cell_type": "code",
      "source": [
        "Dados=pd.read_excel('/content/drive/MyDrive/Projeto Python/Dados.xlsx')\n",
        "Dados.head()"
      ],
      "metadata": {
        "colab": {
          "base_uri": "https://localhost:8080/",
          "height": 617
        },
        "id": "2BDCddPnjHbf",
        "outputId": "4cff4547-b3a1-4ca3-83d6-d8df361619b2"
      },
      "execution_count": 234,
      "outputs": [
        {
          "output_type": "execute_result",
          "data": {
            "text/plain": [
              "     Carimbo de data/hora                   Nome  Idade         Cidade   \\\n",
              "0 2022-10-08 14:04:12.035                wallace     34  Volta Redonda    \n",
              "1 2022-10-08 14:39:58.652                 Daniel     20  Volta Redonda    \n",
              "2 2022-10-08 16:00:06.378        Douglas Adriano     29  Volta Redonda    \n",
              "3 2022-10-08 16:05:28.263          Luiz Anderson     33         Valença   \n",
              "4 2022-10-08 16:12:31.973  Maxwel Dutra de Paula     56  Volta Redonda    \n",
              "\n",
              "           CPF Graduação  Há quanto anos treina Jiu-Jitsu.           Bairro  \\\n",
              "0  05922115766     Preta                                 13             249   \n",
              "1  17793635752      Roxa                                  3  Nova esperança   \n",
              "2  15120923712    Marrom                                 10   Monte castelo   \n",
              "3  13326919786     Preta                                 12       Aparecida   \n",
              "4  84644087734     Preta                                 30      Água limpa   \n",
              "\n",
              "        Sexo  Quanto tempo demorou para obter a graduação atual  \\\n",
              "0  Masculino                                                  7   \n",
              "1  Masculino                                                  2   \n",
              "2  Masculino                                                 10   \n",
              "3  Masculino                                                 12   \n",
              "4  Masculino                                                 19   \n",
              "\n",
              "   Está há quanto anos na graduação atual   \\\n",
              "0                                        5   \n",
              "1                                        1   \n",
              "2                                        2   \n",
              "3                                        2   \n",
              "4                                       11   \n",
              "\n",
              "  Em relação aos treinos, qual a sua frequência ?  \\\n",
              "0                       De 1 a 2 vezes por semana   \n",
              "1                       De 1 a 2 vezes por semana   \n",
              "2                       De 2 a 3 vezes por semana   \n",
              "3                       De 5 a 6 vezes por semana   \n",
              "4                       De 3 a 4 vezes por semana   \n",
              "\n",
              "    Se  você parou de treinar, Qual o foi o motivo ? É  federado.  CPF.1  \n",
              "0                                           Trabalho           Sim   NaN  \n",
              "1                                           Trabalho           Sim   NaN  \n",
              "2  Lesão no treino, Trabalho, Mudança de de cidad...           Não   NaN  \n",
              "3                       Mudança de de cidade/ estado           Sim   NaN  \n",
              "4                                          Não parei           Sim   NaN  "
            ],
            "text/html": [
              "\n",
              "  <div id=\"df-b4a02c49-0c31-48db-ae71-c1957e208975\">\n",
              "    <div class=\"colab-df-container\">\n",
              "      <div>\n",
              "<style scoped>\n",
              "    .dataframe tbody tr th:only-of-type {\n",
              "        vertical-align: middle;\n",
              "    }\n",
              "\n",
              "    .dataframe tbody tr th {\n",
              "        vertical-align: top;\n",
              "    }\n",
              "\n",
              "    .dataframe thead th {\n",
              "        text-align: right;\n",
              "    }\n",
              "</style>\n",
              "<table border=\"1\" class=\"dataframe\">\n",
              "  <thead>\n",
              "    <tr style=\"text-align: right;\">\n",
              "      <th></th>\n",
              "      <th>Carimbo de data/hora</th>\n",
              "      <th>Nome</th>\n",
              "      <th>Idade</th>\n",
              "      <th>Cidade</th>\n",
              "      <th>CPF</th>\n",
              "      <th>Graduação</th>\n",
              "      <th>Há quanto anos treina Jiu-Jitsu.</th>\n",
              "      <th>Bairro</th>\n",
              "      <th>Sexo</th>\n",
              "      <th>Quanto tempo demorou para obter a graduação atual</th>\n",
              "      <th>Está há quanto anos na graduação atual</th>\n",
              "      <th>Em relação aos treinos, qual a sua frequência ?</th>\n",
              "      <th>Se  você parou de treinar, Qual o foi o motivo ?</th>\n",
              "      <th>É  federado.</th>\n",
              "      <th>CPF.1</th>\n",
              "    </tr>\n",
              "  </thead>\n",
              "  <tbody>\n",
              "    <tr>\n",
              "      <th>0</th>\n",
              "      <td>2022-10-08 14:04:12.035</td>\n",
              "      <td>wallace</td>\n",
              "      <td>34</td>\n",
              "      <td>Volta Redonda</td>\n",
              "      <td>05922115766</td>\n",
              "      <td>Preta</td>\n",
              "      <td>13</td>\n",
              "      <td>249</td>\n",
              "      <td>Masculino</td>\n",
              "      <td>7</td>\n",
              "      <td>5</td>\n",
              "      <td>De 1 a 2 vezes por semana</td>\n",
              "      <td>Trabalho</td>\n",
              "      <td>Sim</td>\n",
              "      <td>NaN</td>\n",
              "    </tr>\n",
              "    <tr>\n",
              "      <th>1</th>\n",
              "      <td>2022-10-08 14:39:58.652</td>\n",
              "      <td>Daniel</td>\n",
              "      <td>20</td>\n",
              "      <td>Volta Redonda</td>\n",
              "      <td>17793635752</td>\n",
              "      <td>Roxa</td>\n",
              "      <td>3</td>\n",
              "      <td>Nova esperança</td>\n",
              "      <td>Masculino</td>\n",
              "      <td>2</td>\n",
              "      <td>1</td>\n",
              "      <td>De 1 a 2 vezes por semana</td>\n",
              "      <td>Trabalho</td>\n",
              "      <td>Sim</td>\n",
              "      <td>NaN</td>\n",
              "    </tr>\n",
              "    <tr>\n",
              "      <th>2</th>\n",
              "      <td>2022-10-08 16:00:06.378</td>\n",
              "      <td>Douglas Adriano</td>\n",
              "      <td>29</td>\n",
              "      <td>Volta Redonda</td>\n",
              "      <td>15120923712</td>\n",
              "      <td>Marrom</td>\n",
              "      <td>10</td>\n",
              "      <td>Monte castelo</td>\n",
              "      <td>Masculino</td>\n",
              "      <td>10</td>\n",
              "      <td>2</td>\n",
              "      <td>De 2 a 3 vezes por semana</td>\n",
              "      <td>Lesão no treino, Trabalho, Mudança de de cidad...</td>\n",
              "      <td>Não</td>\n",
              "      <td>NaN</td>\n",
              "    </tr>\n",
              "    <tr>\n",
              "      <th>3</th>\n",
              "      <td>2022-10-08 16:05:28.263</td>\n",
              "      <td>Luiz Anderson</td>\n",
              "      <td>33</td>\n",
              "      <td>Valença</td>\n",
              "      <td>13326919786</td>\n",
              "      <td>Preta</td>\n",
              "      <td>12</td>\n",
              "      <td>Aparecida</td>\n",
              "      <td>Masculino</td>\n",
              "      <td>12</td>\n",
              "      <td>2</td>\n",
              "      <td>De 5 a 6 vezes por semana</td>\n",
              "      <td>Mudança de de cidade/ estado</td>\n",
              "      <td>Sim</td>\n",
              "      <td>NaN</td>\n",
              "    </tr>\n",
              "    <tr>\n",
              "      <th>4</th>\n",
              "      <td>2022-10-08 16:12:31.973</td>\n",
              "      <td>Maxwel Dutra de Paula</td>\n",
              "      <td>56</td>\n",
              "      <td>Volta Redonda</td>\n",
              "      <td>84644087734</td>\n",
              "      <td>Preta</td>\n",
              "      <td>30</td>\n",
              "      <td>Água limpa</td>\n",
              "      <td>Masculino</td>\n",
              "      <td>19</td>\n",
              "      <td>11</td>\n",
              "      <td>De 3 a 4 vezes por semana</td>\n",
              "      <td>Não parei</td>\n",
              "      <td>Sim</td>\n",
              "      <td>NaN</td>\n",
              "    </tr>\n",
              "  </tbody>\n",
              "</table>\n",
              "</div>\n",
              "      <button class=\"colab-df-convert\" onclick=\"convertToInteractive('df-b4a02c49-0c31-48db-ae71-c1957e208975')\"\n",
              "              title=\"Convert this dataframe to an interactive table.\"\n",
              "              style=\"display:none;\">\n",
              "        \n",
              "  <svg xmlns=\"http://www.w3.org/2000/svg\" height=\"24px\"viewBox=\"0 0 24 24\"\n",
              "       width=\"24px\">\n",
              "    <path d=\"M0 0h24v24H0V0z\" fill=\"none\"/>\n",
              "    <path d=\"M18.56 5.44l.94 2.06.94-2.06 2.06-.94-2.06-.94-.94-2.06-.94 2.06-2.06.94zm-11 1L8.5 8.5l.94-2.06 2.06-.94-2.06-.94L8.5 2.5l-.94 2.06-2.06.94zm10 10l.94 2.06.94-2.06 2.06-.94-2.06-.94-.94-2.06-.94 2.06-2.06.94z\"/><path d=\"M17.41 7.96l-1.37-1.37c-.4-.4-.92-.59-1.43-.59-.52 0-1.04.2-1.43.59L10.3 9.45l-7.72 7.72c-.78.78-.78 2.05 0 2.83L4 21.41c.39.39.9.59 1.41.59.51 0 1.02-.2 1.41-.59l7.78-7.78 2.81-2.81c.8-.78.8-2.07 0-2.86zM5.41 20L4 18.59l7.72-7.72 1.47 1.35L5.41 20z\"/>\n",
              "  </svg>\n",
              "      </button>\n",
              "      \n",
              "  <style>\n",
              "    .colab-df-container {\n",
              "      display:flex;\n",
              "      flex-wrap:wrap;\n",
              "      gap: 12px;\n",
              "    }\n",
              "\n",
              "    .colab-df-convert {\n",
              "      background-color: #E8F0FE;\n",
              "      border: none;\n",
              "      border-radius: 50%;\n",
              "      cursor: pointer;\n",
              "      display: none;\n",
              "      fill: #1967D2;\n",
              "      height: 32px;\n",
              "      padding: 0 0 0 0;\n",
              "      width: 32px;\n",
              "    }\n",
              "\n",
              "    .colab-df-convert:hover {\n",
              "      background-color: #E2EBFA;\n",
              "      box-shadow: 0px 1px 2px rgba(60, 64, 67, 0.3), 0px 1px 3px 1px rgba(60, 64, 67, 0.15);\n",
              "      fill: #174EA6;\n",
              "    }\n",
              "\n",
              "    [theme=dark] .colab-df-convert {\n",
              "      background-color: #3B4455;\n",
              "      fill: #D2E3FC;\n",
              "    }\n",
              "\n",
              "    [theme=dark] .colab-df-convert:hover {\n",
              "      background-color: #434B5C;\n",
              "      box-shadow: 0px 1px 3px 1px rgba(0, 0, 0, 0.15);\n",
              "      filter: drop-shadow(0px 1px 2px rgba(0, 0, 0, 0.3));\n",
              "      fill: #FFFFFF;\n",
              "    }\n",
              "  </style>\n",
              "\n",
              "      <script>\n",
              "        const buttonEl =\n",
              "          document.querySelector('#df-b4a02c49-0c31-48db-ae71-c1957e208975 button.colab-df-convert');\n",
              "        buttonEl.style.display =\n",
              "          google.colab.kernel.accessAllowed ? 'block' : 'none';\n",
              "\n",
              "        async function convertToInteractive(key) {\n",
              "          const element = document.querySelector('#df-b4a02c49-0c31-48db-ae71-c1957e208975');\n",
              "          const dataTable =\n",
              "            await google.colab.kernel.invokeFunction('convertToInteractive',\n",
              "                                                     [key], {});\n",
              "          if (!dataTable) return;\n",
              "\n",
              "          const docLinkHtml = 'Like what you see? Visit the ' +\n",
              "            '<a target=\"_blank\" href=https://colab.research.google.com/notebooks/data_table.ipynb>data table notebook</a>'\n",
              "            + ' to learn more about interactive tables.';\n",
              "          element.innerHTML = '';\n",
              "          dataTable['output_type'] = 'display_data';\n",
              "          await google.colab.output.renderOutput(dataTable, element);\n",
              "          const docLink = document.createElement('div');\n",
              "          docLink.innerHTML = docLinkHtml;\n",
              "          element.appendChild(docLink);\n",
              "        }\n",
              "      </script>\n",
              "    </div>\n",
              "  </div>\n",
              "  "
            ]
          },
          "metadata": {},
          "execution_count": 234
        }
      ]
    },
    {
      "cell_type": "markdown",
      "source": [
        "Responta por cidade \n"
      ],
      "metadata": {
        "id": "7XuQmsaLkFZb"
      }
    },
    {
      "cell_type": "code",
      "source": [
        "DPC =Dados.groupby('Cidade ').size()\n",
        "display(DPC)"
      ],
      "metadata": {
        "colab": {
          "base_uri": "https://localhost:8080/",
          "height": 347
        },
        "id": "1nczpvFTkK5F",
        "outputId": "ab67d5c0-183c-4101-ec87-a970d8d3f205"
      },
      "execution_count": 235,
      "outputs": [
        {
          "output_type": "display_data",
          "data": {
            "text/plain": [
              "Cidade \n",
              "Angra dos reis       1\n",
              "Barra do Piraí       7\n",
              "Barra mansa         10\n",
              "Mendes               5\n",
              "Miguel Pereira       2\n",
              "Pinheiral            8\n",
              "Piraí                1\n",
              "Resende              4\n",
              "Resende RJ           1\n",
              "Valença              1\n",
              "Vassouras            5\n",
              "Vassouras            1\n",
              "Volta Redonda        2\n",
              "Volta Redonda        1\n",
              "Volta Redonda      107\n",
              "Volta redonda        1\n",
              "Volta redonda        1\n",
              "dtype: int64"
            ]
          },
          "metadata": {}
        }
      ]
    },
    {
      "cell_type": "code",
      "source": [
        "Dados['Cidade '].unique()"
      ],
      "metadata": {
        "colab": {
          "base_uri": "https://localhost:8080/"
        },
        "id": "1iVo1ED2lS1z",
        "outputId": "c4f3d5f7-e4e2-410e-9f85-d5e01ed516d0"
      },
      "execution_count": 236,
      "outputs": [
        {
          "output_type": "execute_result",
          "data": {
            "text/plain": [
              "array(['Volta Redonda\\xa0', 'Valença', 'Barra mansa\\xa0', 'Pinheiral',\n",
              "       'Vassouras', 'Barra do Piraí', 'Miguel Pereira', 'Resende',\n",
              "       'Volta Redonda', 'Angra dos reis ', 'Piraí', 'Mendes',\n",
              "       'Volta redonda', 'Resende RJ ', 'Vassouras ', 'Volta Redonda ',\n",
              "       'Volta redonda '], dtype=object)"
            ]
          },
          "metadata": {},
          "execution_count": 236
        }
      ]
    },
    {
      "cell_type": "markdown",
      "source": [
        "Na aplicação do questionário, obtivemos respota de forma com  o nome da cidade escrita de forma diferente. Precimaos tratar os dados. Vamos usar  a função replace  para tratar os dados. "
      ],
      "metadata": {
        "id": "AB2wnPlzmYU0"
      }
    },
    {
      "cell_type": "code",
      "source": [
        "Dados['Cidade '] = Dados['Cidade '].apply(lambda x: str(x).replace('Volta redonda','Volta Redonda'))\n",
        "DPC =Dados.groupby('Cidade ').size()"
      ],
      "metadata": {
        "id": "13hloS0LsI3b"
      },
      "execution_count": 237,
      "outputs": []
    },
    {
      "cell_type": "code",
      "source": [
        "Dados['Cidade '] = Dados['Cidade '].apply(lambda x: str(x).replace('Volta Redonda ','Volta Redonda'))\n",
        "DPC =Dados.groupby('Cidade ').size()"
      ],
      "metadata": {
        "id": "HE45eswatfcj"
      },
      "execution_count": 238,
      "outputs": []
    },
    {
      "cell_type": "code",
      "source": [
        "Dados['Cidade '] = Dados['Cidade '].apply(lambda x: str(x).replace('Volta redonda ','Volta Redonda'))\n",
        "DPC =Dados.groupby('Cidade ').size()"
      ],
      "metadata": {
        "id": "Zkhj1rErsbSA"
      },
      "execution_count": 239,
      "outputs": []
    },
    {
      "cell_type": "code",
      "source": [
        "Dados['Cidade '] = Dados['Cidade '].apply(lambda x: str(x).replace('Volta redonda','Volta Redonda'))\n",
        "DPC =Dados.groupby('Cidade ').size()"
      ],
      "metadata": {
        "id": "bZmJ7is-uUFQ"
      },
      "execution_count": 240,
      "outputs": []
    },
    {
      "cell_type": "code",
      "source": [
        "Dados['Cidade '] = Dados['Cidade '].apply(lambda x: str(x).replace('Vassouras ','Vassouras'))\n",
        "DPC =Dados.groupby('Cidade ').size()"
      ],
      "metadata": {
        "id": "MJ5CGZg2uv5z"
      },
      "execution_count": 241,
      "outputs": []
    },
    {
      "cell_type": "code",
      "source": [
        "Dados['Cidade '] = Dados['Cidade '].apply(lambda x: str(x).replace('Resende RJ ','Resende'))\n",
        "DPC =Dados.groupby('Cidade ').size()"
      ],
      "metadata": {
        "id": "pAkHQECRu4Yl"
      },
      "execution_count": 242,
      "outputs": []
    },
    {
      "cell_type": "code",
      "source": [
        "Dados['Cidade '] = Dados['Cidade '].apply(lambda x: str(x).replace('Volta Redonda\\xa0','Volta Redonda'))\n",
        "DPC =Dados.groupby('Cidade ').size()\n",
        "display(DPC)"
      ],
      "metadata": {
        "colab": {
          "base_uri": "https://localhost:8080/",
          "height": 243
        },
        "id": "gl1mgIZVna9r",
        "outputId": "a228c8b4-eea9-4c32-f7bf-37446531f1d3"
      },
      "execution_count": 243,
      "outputs": [
        {
          "output_type": "display_data",
          "data": {
            "text/plain": [
              "Cidade \n",
              "Angra dos reis       1\n",
              "Barra do Piraí       7\n",
              "Barra mansa         10\n",
              "Mendes               5\n",
              "Miguel Pereira       2\n",
              "Pinheiral            8\n",
              "Piraí                1\n",
              "Resende              5\n",
              "Valença              1\n",
              "Vassouras            6\n",
              "Volta Redonda      112\n",
              "dtype: int64"
            ]
          },
          "metadata": {}
        }
      ]
    },
    {
      "cell_type": "code",
      "source": [
        "Dados['Cidade '].unique()\n"
      ],
      "metadata": {
        "colab": {
          "base_uri": "https://localhost:8080/"
        },
        "id": "PHzXH4pbpRcb",
        "outputId": "da618d4e-0f0c-47f6-ce43-80cc87960eb2"
      },
      "execution_count": 244,
      "outputs": [
        {
          "output_type": "execute_result",
          "data": {
            "text/plain": [
              "array(['Volta Redonda', 'Valença', 'Barra mansa\\xa0', 'Pinheiral',\n",
              "       'Vassouras', 'Barra do Piraí', 'Miguel Pereira', 'Resende',\n",
              "       'Angra dos reis ', 'Piraí', 'Mendes'], dtype=object)"
            ]
          },
          "metadata": {},
          "execution_count": 244
        }
      ]
    },
    {
      "cell_type": "code",
      "source": [
        "Dados.groupby('Graduação').size()"
      ],
      "metadata": {
        "colab": {
          "base_uri": "https://localhost:8080/"
        },
        "id": "VhejJgq4xo-g",
        "outputId": "05cc08a4-6f90-4c05-c66a-218f9c2253e2"
      },
      "execution_count": 245,
      "outputs": [
        {
          "output_type": "execute_result",
          "data": {
            "text/plain": [
              "Graduação\n",
              " Roxa      1\n",
              "Azul      38\n",
              "Branca    30\n",
              "Marrom    16\n",
              "Preta     48\n",
              "Roxa      24\n",
              "Verde      1\n",
              "dtype: int64"
            ]
          },
          "metadata": {},
          "execution_count": 245
        }
      ]
    },
    {
      "cell_type": "code",
      "source": [
        "Dados['Graduação'] = Dados['Graduação'].apply(lambda x: str(x).replace(' Roxa','Roxa'))"
      ],
      "metadata": {
        "id": "0zSrY0fL99Bn"
      },
      "execution_count": 246,
      "outputs": []
    },
    {
      "cell_type": "code",
      "source": [
        "Dados.groupby('Graduação').size()"
      ],
      "metadata": {
        "colab": {
          "base_uri": "https://localhost:8080/"
        },
        "id": "iXnLpSdMyCcb",
        "outputId": "7a2acfff-93a3-4e25-c9cb-22d4bdb5c834"
      },
      "execution_count": 247,
      "outputs": [
        {
          "output_type": "execute_result",
          "data": {
            "text/plain": [
              "Graduação\n",
              "Azul      38\n",
              "Branca    30\n",
              "Marrom    16\n",
              "Preta     48\n",
              "Roxa      25\n",
              "Verde      1\n",
              "dtype: int64"
            ]
          },
          "metadata": {},
          "execution_count": 247
        }
      ]
    },
    {
      "cell_type": "markdown",
      "source": [
        "Vamos salvar os data frame  trato com a escrita Volta Redonda correta. "
      ],
      "metadata": {
        "id": "62rOH8vErIU-"
      }
    },
    {
      "cell_type": "code",
      "source": [
        "Dados.to_excel(\"Dados_alterado.xlsx\")"
      ],
      "metadata": {
        "id": "h08RlNhQrTOF"
      },
      "execution_count": 248,
      "outputs": []
    },
    {
      "cell_type": "markdown",
      "source": [
        "Vamos selecionar so os dados de Volta Redonda pois onde se obtever maior amostragem. \n"
      ],
      "metadata": {
        "id": "0zZF3cj9s-0W"
      }
    },
    {
      "cell_type": "code",
      "source": [
        "DVR=Dados[Dados['Cidade ']=='Volta Redonda']#Selecionando so os praticante de VR. \n",
        "DVR.to_excel(\"DadosVR.xlsx\")\n",
        "DVR.head()"
      ],
      "metadata": {
        "id": "DoXoMQjqvx1j",
        "colab": {
          "base_uri": "https://localhost:8080/",
          "height": 669
        },
        "outputId": "73f800f2-b2a7-4468-a85c-af0bff377943"
      },
      "execution_count": 249,
      "outputs": [
        {
          "output_type": "execute_result",
          "data": {
            "text/plain": [
              "     Carimbo de data/hora                    Nome  Idade        Cidade   \\\n",
              "0 2022-10-08 14:04:12.035                 wallace     34  Volta Redonda   \n",
              "1 2022-10-08 14:39:58.652                  Daniel     20  Volta Redonda   \n",
              "2 2022-10-08 16:00:06.378         Douglas Adriano     29  Volta Redonda   \n",
              "4 2022-10-08 16:12:31.973   Maxwel Dutra de Paula     56  Volta Redonda   \n",
              "6 2022-10-08 16:22:33.018  Rodrigo Soares Da Cruz     40  Volta Redonda   \n",
              "\n",
              "           CPF Graduação  Há quanto anos treina Jiu-Jitsu.           Bairro  \\\n",
              "0  05922115766     Preta                                 13             249   \n",
              "1  17793635752      Roxa                                  3  Nova esperança   \n",
              "2  15120923712    Marrom                                 10   Monte castelo   \n",
              "4  84644087734     Preta                                 30      Água limpa   \n",
              "6  10600318761     Preta                                 22     Sao Geraldo   \n",
              "\n",
              "        Sexo  Quanto tempo demorou para obter a graduação atual  \\\n",
              "0  Masculino                                                  7   \n",
              "1  Masculino                                                  2   \n",
              "2  Masculino                                                 10   \n",
              "4  Masculino                                                 19   \n",
              "6  Masculino                                                 19   \n",
              "\n",
              "   Está há quanto anos na graduação atual   \\\n",
              "0                                        5   \n",
              "1                                        1   \n",
              "2                                        2   \n",
              "4                                       11   \n",
              "6                                        3   \n",
              "\n",
              "  Em relação aos treinos, qual a sua frequência ?  \\\n",
              "0                       De 1 a 2 vezes por semana   \n",
              "1                       De 1 a 2 vezes por semana   \n",
              "2                       De 2 a 3 vezes por semana   \n",
              "4                       De 3 a 4 vezes por semana   \n",
              "6                       De 3 a 4 vezes por semana   \n",
              "\n",
              "    Se  você parou de treinar, Qual o foi o motivo ? É  federado.  CPF.1  \n",
              "0                                           Trabalho           Sim   NaN  \n",
              "1                                           Trabalho           Sim   NaN  \n",
              "2  Lesão no treino, Trabalho, Mudança de de cidad...           Não   NaN  \n",
              "4                                          Não parei           Sim   NaN  \n",
              "6   Horários, Trabalho, Mudança de de cidade/ estado           Sim   NaN  "
            ],
            "text/html": [
              "\n",
              "  <div id=\"df-3953ccf7-c4ea-4a54-9c22-d10dcaf786f0\">\n",
              "    <div class=\"colab-df-container\">\n",
              "      <div>\n",
              "<style scoped>\n",
              "    .dataframe tbody tr th:only-of-type {\n",
              "        vertical-align: middle;\n",
              "    }\n",
              "\n",
              "    .dataframe tbody tr th {\n",
              "        vertical-align: top;\n",
              "    }\n",
              "\n",
              "    .dataframe thead th {\n",
              "        text-align: right;\n",
              "    }\n",
              "</style>\n",
              "<table border=\"1\" class=\"dataframe\">\n",
              "  <thead>\n",
              "    <tr style=\"text-align: right;\">\n",
              "      <th></th>\n",
              "      <th>Carimbo de data/hora</th>\n",
              "      <th>Nome</th>\n",
              "      <th>Idade</th>\n",
              "      <th>Cidade</th>\n",
              "      <th>CPF</th>\n",
              "      <th>Graduação</th>\n",
              "      <th>Há quanto anos treina Jiu-Jitsu.</th>\n",
              "      <th>Bairro</th>\n",
              "      <th>Sexo</th>\n",
              "      <th>Quanto tempo demorou para obter a graduação atual</th>\n",
              "      <th>Está há quanto anos na graduação atual</th>\n",
              "      <th>Em relação aos treinos, qual a sua frequência ?</th>\n",
              "      <th>Se  você parou de treinar, Qual o foi o motivo ?</th>\n",
              "      <th>É  federado.</th>\n",
              "      <th>CPF.1</th>\n",
              "    </tr>\n",
              "  </thead>\n",
              "  <tbody>\n",
              "    <tr>\n",
              "      <th>0</th>\n",
              "      <td>2022-10-08 14:04:12.035</td>\n",
              "      <td>wallace</td>\n",
              "      <td>34</td>\n",
              "      <td>Volta Redonda</td>\n",
              "      <td>05922115766</td>\n",
              "      <td>Preta</td>\n",
              "      <td>13</td>\n",
              "      <td>249</td>\n",
              "      <td>Masculino</td>\n",
              "      <td>7</td>\n",
              "      <td>5</td>\n",
              "      <td>De 1 a 2 vezes por semana</td>\n",
              "      <td>Trabalho</td>\n",
              "      <td>Sim</td>\n",
              "      <td>NaN</td>\n",
              "    </tr>\n",
              "    <tr>\n",
              "      <th>1</th>\n",
              "      <td>2022-10-08 14:39:58.652</td>\n",
              "      <td>Daniel</td>\n",
              "      <td>20</td>\n",
              "      <td>Volta Redonda</td>\n",
              "      <td>17793635752</td>\n",
              "      <td>Roxa</td>\n",
              "      <td>3</td>\n",
              "      <td>Nova esperança</td>\n",
              "      <td>Masculino</td>\n",
              "      <td>2</td>\n",
              "      <td>1</td>\n",
              "      <td>De 1 a 2 vezes por semana</td>\n",
              "      <td>Trabalho</td>\n",
              "      <td>Sim</td>\n",
              "      <td>NaN</td>\n",
              "    </tr>\n",
              "    <tr>\n",
              "      <th>2</th>\n",
              "      <td>2022-10-08 16:00:06.378</td>\n",
              "      <td>Douglas Adriano</td>\n",
              "      <td>29</td>\n",
              "      <td>Volta Redonda</td>\n",
              "      <td>15120923712</td>\n",
              "      <td>Marrom</td>\n",
              "      <td>10</td>\n",
              "      <td>Monte castelo</td>\n",
              "      <td>Masculino</td>\n",
              "      <td>10</td>\n",
              "      <td>2</td>\n",
              "      <td>De 2 a 3 vezes por semana</td>\n",
              "      <td>Lesão no treino, Trabalho, Mudança de de cidad...</td>\n",
              "      <td>Não</td>\n",
              "      <td>NaN</td>\n",
              "    </tr>\n",
              "    <tr>\n",
              "      <th>4</th>\n",
              "      <td>2022-10-08 16:12:31.973</td>\n",
              "      <td>Maxwel Dutra de Paula</td>\n",
              "      <td>56</td>\n",
              "      <td>Volta Redonda</td>\n",
              "      <td>84644087734</td>\n",
              "      <td>Preta</td>\n",
              "      <td>30</td>\n",
              "      <td>Água limpa</td>\n",
              "      <td>Masculino</td>\n",
              "      <td>19</td>\n",
              "      <td>11</td>\n",
              "      <td>De 3 a 4 vezes por semana</td>\n",
              "      <td>Não parei</td>\n",
              "      <td>Sim</td>\n",
              "      <td>NaN</td>\n",
              "    </tr>\n",
              "    <tr>\n",
              "      <th>6</th>\n",
              "      <td>2022-10-08 16:22:33.018</td>\n",
              "      <td>Rodrigo Soares Da Cruz</td>\n",
              "      <td>40</td>\n",
              "      <td>Volta Redonda</td>\n",
              "      <td>10600318761</td>\n",
              "      <td>Preta</td>\n",
              "      <td>22</td>\n",
              "      <td>Sao Geraldo</td>\n",
              "      <td>Masculino</td>\n",
              "      <td>19</td>\n",
              "      <td>3</td>\n",
              "      <td>De 3 a 4 vezes por semana</td>\n",
              "      <td>Horários, Trabalho, Mudança de de cidade/ estado</td>\n",
              "      <td>Sim</td>\n",
              "      <td>NaN</td>\n",
              "    </tr>\n",
              "  </tbody>\n",
              "</table>\n",
              "</div>\n",
              "      <button class=\"colab-df-convert\" onclick=\"convertToInteractive('df-3953ccf7-c4ea-4a54-9c22-d10dcaf786f0')\"\n",
              "              title=\"Convert this dataframe to an interactive table.\"\n",
              "              style=\"display:none;\">\n",
              "        \n",
              "  <svg xmlns=\"http://www.w3.org/2000/svg\" height=\"24px\"viewBox=\"0 0 24 24\"\n",
              "       width=\"24px\">\n",
              "    <path d=\"M0 0h24v24H0V0z\" fill=\"none\"/>\n",
              "    <path d=\"M18.56 5.44l.94 2.06.94-2.06 2.06-.94-2.06-.94-.94-2.06-.94 2.06-2.06.94zm-11 1L8.5 8.5l.94-2.06 2.06-.94-2.06-.94L8.5 2.5l-.94 2.06-2.06.94zm10 10l.94 2.06.94-2.06 2.06-.94-2.06-.94-.94-2.06-.94 2.06-2.06.94z\"/><path d=\"M17.41 7.96l-1.37-1.37c-.4-.4-.92-.59-1.43-.59-.52 0-1.04.2-1.43.59L10.3 9.45l-7.72 7.72c-.78.78-.78 2.05 0 2.83L4 21.41c.39.39.9.59 1.41.59.51 0 1.02-.2 1.41-.59l7.78-7.78 2.81-2.81c.8-.78.8-2.07 0-2.86zM5.41 20L4 18.59l7.72-7.72 1.47 1.35L5.41 20z\"/>\n",
              "  </svg>\n",
              "      </button>\n",
              "      \n",
              "  <style>\n",
              "    .colab-df-container {\n",
              "      display:flex;\n",
              "      flex-wrap:wrap;\n",
              "      gap: 12px;\n",
              "    }\n",
              "\n",
              "    .colab-df-convert {\n",
              "      background-color: #E8F0FE;\n",
              "      border: none;\n",
              "      border-radius: 50%;\n",
              "      cursor: pointer;\n",
              "      display: none;\n",
              "      fill: #1967D2;\n",
              "      height: 32px;\n",
              "      padding: 0 0 0 0;\n",
              "      width: 32px;\n",
              "    }\n",
              "\n",
              "    .colab-df-convert:hover {\n",
              "      background-color: #E2EBFA;\n",
              "      box-shadow: 0px 1px 2px rgba(60, 64, 67, 0.3), 0px 1px 3px 1px rgba(60, 64, 67, 0.15);\n",
              "      fill: #174EA6;\n",
              "    }\n",
              "\n",
              "    [theme=dark] .colab-df-convert {\n",
              "      background-color: #3B4455;\n",
              "      fill: #D2E3FC;\n",
              "    }\n",
              "\n",
              "    [theme=dark] .colab-df-convert:hover {\n",
              "      background-color: #434B5C;\n",
              "      box-shadow: 0px 1px 3px 1px rgba(0, 0, 0, 0.15);\n",
              "      filter: drop-shadow(0px 1px 2px rgba(0, 0, 0, 0.3));\n",
              "      fill: #FFFFFF;\n",
              "    }\n",
              "  </style>\n",
              "\n",
              "      <script>\n",
              "        const buttonEl =\n",
              "          document.querySelector('#df-3953ccf7-c4ea-4a54-9c22-d10dcaf786f0 button.colab-df-convert');\n",
              "        buttonEl.style.display =\n",
              "          google.colab.kernel.accessAllowed ? 'block' : 'none';\n",
              "\n",
              "        async function convertToInteractive(key) {\n",
              "          const element = document.querySelector('#df-3953ccf7-c4ea-4a54-9c22-d10dcaf786f0');\n",
              "          const dataTable =\n",
              "            await google.colab.kernel.invokeFunction('convertToInteractive',\n",
              "                                                     [key], {});\n",
              "          if (!dataTable) return;\n",
              "\n",
              "          const docLinkHtml = 'Like what you see? Visit the ' +\n",
              "            '<a target=\"_blank\" href=https://colab.research.google.com/notebooks/data_table.ipynb>data table notebook</a>'\n",
              "            + ' to learn more about interactive tables.';\n",
              "          element.innerHTML = '';\n",
              "          dataTable['output_type'] = 'display_data';\n",
              "          await google.colab.output.renderOutput(dataTable, element);\n",
              "          const docLink = document.createElement('div');\n",
              "          docLink.innerHTML = docLinkHtml;\n",
              "          element.appendChild(docLink);\n",
              "        }\n",
              "      </script>\n",
              "    </div>\n",
              "  </div>\n",
              "  "
            ]
          },
          "metadata": {},
          "execution_count": 249
        }
      ]
    },
    {
      "cell_type": "markdown",
      "source": [
        "Vamoas começar com os dados estatistico."
      ],
      "metadata": {
        "id": "gYM4m5Wtw4rq"
      }
    },
    {
      "cell_type": "code",
      "source": [
        "DPG = DVR.groupby('Graduação').size()\n",
        "display(DPG)\n",
        "DPG.to_excel(\"DPG.xlsx\")"
      ],
      "metadata": {
        "colab": {
          "base_uri": "https://localhost:8080/",
          "height": 156
        },
        "id": "LM5gpIE0zEM4",
        "outputId": "9bbf0e0f-5f08-4d43-c6f9-367f90858dde"
      },
      "execution_count": 250,
      "outputs": [
        {
          "output_type": "display_data",
          "data": {
            "text/plain": [
              "Graduação\n",
              "Azul      30\n",
              "Branca    20\n",
              "Marrom     9\n",
              "Preta     31\n",
              "Roxa      21\n",
              "Verde      1\n",
              "dtype: int64"
            ]
          },
          "metadata": {}
        }
      ]
    },
    {
      "cell_type": "code",
      "source": [
        "DVR.groupby('Bairro').size()"
      ],
      "metadata": {
        "colab": {
          "base_uri": "https://localhost:8080/"
        },
        "id": "icrIGV5TGxHR",
        "outputId": "8ae7d7e7-0f91-4c35-d561-1efbd5e9bf97"
      },
      "execution_count": 251,
      "outputs": [
        {
          "output_type": "execute_result",
          "data": {
            "text/plain": [
              "Bairro\n",
              "249                 1\n",
              "Agua limpa          1\n",
              "Aterrado           12\n",
              "Açude 1             1\n",
              "Açude 2             1\n",
              "                   ..\n",
              "Volta grande 1      1\n",
              "Volta grande 3      1\n",
              "santo agostinho     1\n",
              "Água Limpa          2\n",
              "Água limpa          5\n",
              "Length: 72, dtype: int64"
            ]
          },
          "metadata": {},
          "execution_count": 251
        }
      ]
    },
    {
      "cell_type": "code",
      "source": [
        "DVR.groupby('Bairro').size().plot(kind='bar', figsize=(16,6), colormap='Blues_r') #Selicionando os bairros. "
      ],
      "metadata": {
        "colab": {
          "base_uri": "https://localhost:8080/",
          "height": 529
        },
        "id": "I5vUiPrJ1GxO",
        "outputId": "8ec97919-e020-474e-a3a7-cbd413715d30"
      },
      "execution_count": 252,
      "outputs": [
        {
          "output_type": "execute_result",
          "data": {
            "text/plain": [
              "<matplotlib.axes._subplots.AxesSubplot at 0x7f9fdfe4bbb0>"
            ]
          },
          "metadata": {},
          "execution_count": 252
        },
        {
          "output_type": "display_data",
          "data": {
            "text/plain": [
              "<Figure size 1152x432 with 1 Axes>"
            ],
            "image/png": "[encoded data removed]"
          },
          "metadata": {
            "needs_background": "light"
          }
        }
      ]
    },
    {
      "cell_type": "code",
      "source": [
        "DVR['Bairro'] = DVR['Bairro'].apply(lambda x: str(x).replace('Vila Rica tira-dentes','Vila Rica Tiradentes'))"
      ],
      "metadata": {
        "colab": {
          "base_uri": "https://localhost:8080/"
        },
        "id": "YLzLcf0gF-_N",
        "outputId": "a0dabb33-fa07-4800-cc08-1f077cc9a34d"
      },
      "execution_count": 253,
      "outputs": [
        {
          "output_type": "stream",
          "name": "stderr",
          "text": [
            "<ipython-input-253-6475d5f79641>:1: SettingWithCopyWarning: \n",
            "A value is trying to be set on a copy of a slice from a DataFrame.\n",
            "Try using .loc[row_indexer,col_indexer] = value instead\n",
            "\n",
            "See the caveats in the documentation: https://pandas.pydata.org/pandas-docs/stable/user_guide/indexing.html#returning-a-view-versus-a-copy\n",
            "  DVR['Bairro'] = DVR['Bairro'].apply(lambda x: str(x).replace('Vila Rica tira-dentes','Vila Rica Tiradentes'))\n"
          ]
        }
      ]
    },
    {
      "cell_type": "code",
      "source": [
        "DVR['Bairro'] = DVR['Bairro'].apply(lambda x: str(x).replace('São lucas','São Lucas'))"
      ],
      "metadata": {
        "colab": {
          "base_uri": "https://localhost:8080/"
        },
        "id": "hCSFEr0jFrzf",
        "outputId": "e408d94c-e2bc-4b84-c216-fe4545da22bf"
      },
      "execution_count": 254,
      "outputs": [
        {
          "output_type": "stream",
          "name": "stderr",
          "text": [
            "<ipython-input-254-53c8d45b72e6>:1: SettingWithCopyWarning: \n",
            "A value is trying to be set on a copy of a slice from a DataFrame.\n",
            "Try using .loc[row_indexer,col_indexer] = value instead\n",
            "\n",
            "See the caveats in the documentation: https://pandas.pydata.org/pandas-docs/stable/user_guide/indexing.html#returning-a-view-versus-a-copy\n",
            "  DVR['Bairro'] = DVR['Bairro'].apply(lambda x: str(x).replace('São lucas','São Lucas'))\n"
          ]
        }
      ]
    },
    {
      "cell_type": "code",
      "source": [
        "DVR['Bairro'] = DVR['Bairro'].apply(lambda x: str(x).replace('São luis','São Luís'))"
      ],
      "metadata": {
        "colab": {
          "base_uri": "https://localhost:8080/"
        },
        "id": "ZO2HwAmWFdvw",
        "outputId": "5f2ce18e-1a58-47e4-d61d-cbdfe18d73e3"
      },
      "execution_count": 255,
      "outputs": [
        {
          "output_type": "stream",
          "name": "stderr",
          "text": [
            "<ipython-input-255-80a760c3ca7a>:1: SettingWithCopyWarning: \n",
            "A value is trying to be set on a copy of a slice from a DataFrame.\n",
            "Try using .loc[row_indexer,col_indexer] = value instead\n",
            "\n",
            "See the caveats in the documentation: https://pandas.pydata.org/pandas-docs/stable/user_guide/indexing.html#returning-a-view-versus-a-copy\n",
            "  DVR['Bairro'] = DVR['Bairro'].apply(lambda x: str(x).replace('São luis','São Luís'))\n"
          ]
        }
      ]
    },
    {
      "cell_type": "code",
      "source": [
        "DVR['Bairro'] = DVR['Bairro'].apply(lambda x: str(x).replace('santo agostinho','Santo Agostinho'))"
      ],
      "metadata": {
        "colab": {
          "base_uri": "https://localhost:8080/"
        },
        "id": "Z7Q8qmpNFSgH",
        "outputId": "6dbfefb0-1d1a-487b-f68c-7088d6532656"
      },
      "execution_count": 256,
      "outputs": [
        {
          "output_type": "stream",
          "name": "stderr",
          "text": [
            "<ipython-input-256-a03978e90b32>:1: SettingWithCopyWarning: \n",
            "A value is trying to be set on a copy of a slice from a DataFrame.\n",
            "Try using .loc[row_indexer,col_indexer] = value instead\n",
            "\n",
            "See the caveats in the documentation: https://pandas.pydata.org/pandas-docs/stable/user_guide/indexing.html#returning-a-view-versus-a-copy\n",
            "  DVR['Bairro'] = DVR['Bairro'].apply(lambda x: str(x).replace('santo agostinho','Santo Agostinho'))\n"
          ]
        }
      ]
    },
    {
      "cell_type": "code",
      "source": [
        "DVR['Bairro'] = DVR['Bairro'].apply(lambda x: str(x).replace('Retiro ','Retiro'))"
      ],
      "metadata": {
        "colab": {
          "base_uri": "https://localhost:8080/"
        },
        "id": "qANC6w1hFJmE",
        "outputId": "c6bdfaeb-ea1d-4f25-f843-992a9e50bd85"
      },
      "execution_count": 257,
      "outputs": [
        {
          "output_type": "stream",
          "name": "stderr",
          "text": [
            "<ipython-input-257-2caa46755b14>:1: SettingWithCopyWarning: \n",
            "A value is trying to be set on a copy of a slice from a DataFrame.\n",
            "Try using .loc[row_indexer,col_indexer] = value instead\n",
            "\n",
            "See the caveats in the documentation: https://pandas.pydata.org/pandas-docs/stable/user_guide/indexing.html#returning-a-view-versus-a-copy\n",
            "  DVR['Bairro'] = DVR['Bairro'].apply(lambda x: str(x).replace('Retiro ','Retiro'))\n"
          ]
        }
      ]
    },
    {
      "cell_type": "code",
      "source": [
        "DVR['Bairro'] = DVR['Bairro'].apply(lambda x: str(x).replace('Morada da colina','Morada da Colina'))"
      ],
      "metadata": {
        "colab": {
          "base_uri": "https://localhost:8080/"
        },
        "id": "tx99jetRE-cA",
        "outputId": "11fbac06-2002-4fc2-8de3-4e179f985f9f"
      },
      "execution_count": 258,
      "outputs": [
        {
          "output_type": "stream",
          "name": "stderr",
          "text": [
            "<ipython-input-258-263bf7990eed>:1: SettingWithCopyWarning: \n",
            "A value is trying to be set on a copy of a slice from a DataFrame.\n",
            "Try using .loc[row_indexer,col_indexer] = value instead\n",
            "\n",
            "See the caveats in the documentation: https://pandas.pydata.org/pandas-docs/stable/user_guide/indexing.html#returning-a-view-versus-a-copy\n",
            "  DVR['Bairro'] = DVR['Bairro'].apply(lambda x: str(x).replace('Morada da colina','Morada da Colina'))\n"
          ]
        }
      ]
    },
    {
      "cell_type": "code",
      "source": [
        "DVR['Bairro'] = DVR['Bairro'].apply(lambda x: str(x).replace('Monte Castelo ','Monte Castelo'))"
      ],
      "metadata": {
        "colab": {
          "base_uri": "https://localhost:8080/"
        },
        "id": "Jk0z9NEFExCE",
        "outputId": "06511b73-aa6b-421f-9763-677b6584985b"
      },
      "execution_count": 259,
      "outputs": [
        {
          "output_type": "stream",
          "name": "stderr",
          "text": [
            "<ipython-input-259-1ab671d7746d>:1: SettingWithCopyWarning: \n",
            "A value is trying to be set on a copy of a slice from a DataFrame.\n",
            "Try using .loc[row_indexer,col_indexer] = value instead\n",
            "\n",
            "See the caveats in the documentation: https://pandas.pydata.org/pandas-docs/stable/user_guide/indexing.html#returning-a-view-versus-a-copy\n",
            "  DVR['Bairro'] = DVR['Bairro'].apply(lambda x: str(x).replace('Monte Castelo ','Monte Castelo'))\n"
          ]
        }
      ]
    },
    {
      "cell_type": "code",
      "source": [
        "DVR['Bairro'] = DVR['Bairro'].apply(lambda x: str(x).replace('Agua limpa','Agua Limpa'))"
      ],
      "metadata": {
        "colab": {
          "base_uri": "https://localhost:8080/"
        },
        "id": "Em0U03VrBlrV",
        "outputId": "1233c1dd-646e-455f-a4bc-f039170f7cf2"
      },
      "execution_count": 260,
      "outputs": [
        {
          "output_type": "stream",
          "name": "stderr",
          "text": [
            "<ipython-input-260-da4a46920c43>:1: SettingWithCopyWarning: \n",
            "A value is trying to be set on a copy of a slice from a DataFrame.\n",
            "Try using .loc[row_indexer,col_indexer] = value instead\n",
            "\n",
            "See the caveats in the documentation: https://pandas.pydata.org/pandas-docs/stable/user_guide/indexing.html#returning-a-view-versus-a-copy\n",
            "  DVR['Bairro'] = DVR['Bairro'].apply(lambda x: str(x).replace('Agua limpa','Agua Limpa'))\n"
          ]
        }
      ]
    },
    {
      "cell_type": "code",
      "source": [
        "DVR['Bairro'] = DVR['Bairro'].apply(lambda x: str(x).replace('Volta grande','Volta Grande'))"
      ],
      "metadata": {
        "colab": {
          "base_uri": "https://localhost:8080/"
        },
        "id": "NsEmovWGCHJ-",
        "outputId": "e3fdbaba-120d-45ca-da29-13b80f684936"
      },
      "execution_count": 261,
      "outputs": [
        {
          "output_type": "stream",
          "name": "stderr",
          "text": [
            "<ipython-input-261-ab26f990f5fc>:1: SettingWithCopyWarning: \n",
            "A value is trying to be set on a copy of a slice from a DataFrame.\n",
            "Try using .loc[row_indexer,col_indexer] = value instead\n",
            "\n",
            "See the caveats in the documentation: https://pandas.pydata.org/pandas-docs/stable/user_guide/indexing.html#returning-a-view-versus-a-copy\n",
            "  DVR['Bairro'] = DVR['Bairro'].apply(lambda x: str(x).replace('Volta grande','Volta Grande'))\n"
          ]
        }
      ]
    },
    {
      "cell_type": "code",
      "source": [
        "DVR['Bairro'] = DVR['Bairro'].apply(lambda x: str(x).replace('Jardim belvedere','Jardim Belvedere'))"
      ],
      "metadata": {
        "colab": {
          "base_uri": "https://localhost:8080/"
        },
        "id": "Uzd38ouLCehM",
        "outputId": "c7b84fbe-4c05-446a-c7c1-322f6c771ed6"
      },
      "execution_count": 262,
      "outputs": [
        {
          "output_type": "stream",
          "name": "stderr",
          "text": [
            "<ipython-input-262-531ae9a2d877>:1: SettingWithCopyWarning: \n",
            "A value is trying to be set on a copy of a slice from a DataFrame.\n",
            "Try using .loc[row_indexer,col_indexer] = value instead\n",
            "\n",
            "See the caveats in the documentation: https://pandas.pydata.org/pandas-docs/stable/user_guide/indexing.html#returning-a-view-versus-a-copy\n",
            "  DVR['Bairro'] = DVR['Bairro'].apply(lambda x: str(x).replace('Jardim belvedere','Jardim Belvedere'))\n"
          ]
        }
      ]
    },
    {
      "cell_type": "code",
      "source": [
        "DVR['Bairro'] = DVR['Bairro'].apply(lambda x: str(x).replace('Santa cruz','Santa Cruz'))"
      ],
      "metadata": {
        "colab": {
          "base_uri": "https://localhost:8080/"
        },
        "id": "YbQsd_6bC3Re",
        "outputId": "dba9389d-677f-4a53-9ce3-4f2b9d9b7b75"
      },
      "execution_count": 263,
      "outputs": [
        {
          "output_type": "stream",
          "name": "stderr",
          "text": [
            "<ipython-input-263-541d2676326f>:1: SettingWithCopyWarning: \n",
            "A value is trying to be set on a copy of a slice from a DataFrame.\n",
            "Try using .loc[row_indexer,col_indexer] = value instead\n",
            "\n",
            "See the caveats in the documentation: https://pandas.pydata.org/pandas-docs/stable/user_guide/indexing.html#returning-a-view-versus-a-copy\n",
            "  DVR['Bairro'] = DVR['Bairro'].apply(lambda x: str(x).replace('Santa cruz','Santa Cruz'))\n"
          ]
        }
      ]
    },
    {
      "cell_type": "code",
      "source": [
        "DVR['Bairro'] = DVR['Bairro'].apply(lambda x: str(x).replace('Vila rica','Vila Rica'))"
      ],
      "metadata": {
        "colab": {
          "base_uri": "https://localhost:8080/"
        },
        "id": "4Kjs6mUmDxYw",
        "outputId": "43829a00-25c2-4cbc-94bd-7f5d5ee186ef"
      },
      "execution_count": 264,
      "outputs": [
        {
          "output_type": "stream",
          "name": "stderr",
          "text": [
            "<ipython-input-264-be857d365d47>:1: SettingWithCopyWarning: \n",
            "A value is trying to be set on a copy of a slice from a DataFrame.\n",
            "Try using .loc[row_indexer,col_indexer] = value instead\n",
            "\n",
            "See the caveats in the documentation: https://pandas.pydata.org/pandas-docs/stable/user_guide/indexing.html#returning-a-view-versus-a-copy\n",
            "  DVR['Bairro'] = DVR['Bairro'].apply(lambda x: str(x).replace('Vila rica','Vila Rica'))\n"
          ]
        }
      ]
    },
    {
      "cell_type": "code",
      "source": [
        "DVR['Bairro'].unique()"
      ],
      "metadata": {
        "colab": {
          "base_uri": "https://localhost:8080/"
        },
        "id": "fuX5qaEQBAxA",
        "outputId": "ad77a78c-7697-4239-8b4a-4f96cde2bd17"
      },
      "execution_count": 265,
      "outputs": [
        {
          "output_type": "execute_result",
          "data": {
            "text/plain": [
              "array(['249', 'Nova esperança', 'Monte castelo', 'Água limpa',\n",
              "       'Sao Geraldo', 'Aterrado', 'Rústico', 'Jardim Belvedere',\n",
              "       'São Lucas', 'Roma', 'Cidade nova', 'Bela vista', 'Belvedere',\n",
              "       'Volta Grande 1', 'Santo Agostinho', 'Belo Horizonte',\n",
              "       'Agua Limpa', 'Ponte Alta', 'Morada da Colina', 'Jardim Normandia',\n",
              "       'Volta Grande', 'Vila Santa Cecília', 'Retiro', 'Parque das Ilhas',\n",
              "       'Sessenta', 'Monte Castelo', 'São Luís', 'Vila Rica tres pocos',\n",
              "       'Eucaliptal', 'Vila Rica', 'Santa Cruz', 'Jardim Amália 2',\n",
              "       'Belmonte', 'Massambará', 'Volta Grande 3', 'Jd Mariana',\n",
              "       'Morada do vale', 'Bom Jesus', 'Conforto', 'Vila Rica Tiradentes',\n",
              "       'Vale verde', 'Água Limpa', 'Siderópolis', 'Açude 2', 'Niterói',\n",
              "       'Jd amália', 'Siderlândia', 'Jardim Paraíba', 'Vila Americana',\n",
              "       'Califórnia', 'Jardim Vila Rica Tiradentes', 'Açude 1',\n",
              "       'Jardim Amália 1', 'Siderville', 'Laranjal',\n",
              "       'Vila Rica tira-dentes', 'Coqueiros', 'Santo agostinho',\n",
              "       'Brasilandia', 'São João', 'Vila mury', 'Jardim esperança ',\n",
              "       'Monte castelo '], dtype=object)"
            ]
          },
          "metadata": {},
          "execution_count": 265
        }
      ]
    },
    {
      "cell_type": "code",
      "source": [
        "DVRSEXO=DVR.groupby('Sexo').size()\n",
        "DVRSEXO.head()"
      ],
      "metadata": {
        "colab": {
          "base_uri": "https://localhost:8080/"
        },
        "id": "bZF3rbw51nll",
        "outputId": "cb4a8ae5-a7fc-45f0-ea87-69d9ce331f3e"
      },
      "execution_count": 266,
      "outputs": [
        {
          "output_type": "execute_result",
          "data": {
            "text/plain": [
              "Sexo\n",
              "Femenino       5\n",
              "Masculino    107\n",
              "dtype: int64"
            ]
          },
          "metadata": {},
          "execution_count": 266
        }
      ]
    },
    {
      "cell_type": "code",
      "source": [
        "DVRSEXO.plot(kind='bar', x='Graduação', y=0, figsize=(5,6), colormap='Blues_r');"
      ],
      "metadata": {
        "colab": {
          "base_uri": "https://localhost:8080/",
          "height": 428
        },
        "id": "DGUQ5_mS2qkJ",
        "outputId": "35344c04-6a29-4a56-d8ab-04ce5c7cb272"
      },
      "execution_count": 267,
      "outputs": [
        {
          "output_type": "display_data",
          "data": {
            "text/plain": [
              "<Figure size 360x432 with 1 Axes>"
            ],
            "image/png": "[encoded data removed]"
          },
          "metadata": {
            "needs_background": "light"
          }
        }
      ]
    },
    {
      "cell_type": "markdown",
      "source": [
        "Vamos gera o grafico quantidade por graduação."
      ],
      "metadata": {
        "id": "q-VphAub06tE"
      }
    },
    {
      "cell_type": "code",
      "source": [
        "DPG.plot(kind='bar', x='Graduação', y=0, figsize=(15,6), colormap='gray');"
      ],
      "metadata": {
        "colab": {
          "base_uri": "https://localhost:8080/",
          "height": 416
        },
        "id": "pv4Bilx69Lhc",
        "outputId": "959f6920-43e0-472c-9ab1-fe0e6170a604"
      },
      "execution_count": 268,
      "outputs": [
        {
          "output_type": "display_data",
          "data": {
            "text/plain": [
              "<Figure size 1080x432 with 1 Axes>"
            ],
            "image/png": "[encoded data removed]"
          },
          "metadata": {
            "needs_background": "light"
          }
        }
      ]
    },
    {
      "cell_type": "markdown",
      "source": [
        "Vamos gerar um grafico com os faixas preta da cidade de Volta Redonda."
      ],
      "metadata": {
        "id": "ozNNqSd5zHF_"
      }
    },
    {
      "cell_type": "code",
      "source": [
        "DFPVR=DVR[DVR['Graduação']=='Preta']\n",
        "DFPVR.head()\n"
      ],
      "metadata": {
        "colab": {
          "base_uri": "https://localhost:8080/",
          "height": 652
        },
        "id": "COuYa8ubzOoW",
        "outputId": "889cc691-8bd1-4399-89a4-6e4194a89ebd"
      },
      "execution_count": 269,
      "outputs": [
        {
          "output_type": "execute_result",
          "data": {
            "text/plain": [
              "      Carimbo de data/hora                      Nome  Idade        Cidade   \\\n",
              "0  2022-10-08 14:04:12.035                   wallace     34  Volta Redonda   \n",
              "4  2022-10-08 16:12:31.973     Maxwel Dutra de Paula     56  Volta Redonda   \n",
              "6  2022-10-08 16:22:33.018    Rodrigo Soares Da Cruz     40  Volta Redonda   \n",
              "8  2022-10-08 16:35:47.710                  Leonardo     40  Volta Redonda   \n",
              "12 2022-10-08 17:03:29.390  José Ricardo de Oliveira     53  Volta Redonda   \n",
              "\n",
              "            CPF Graduação  Há quanto anos treina Jiu-Jitsu.   \\\n",
              "0   05922115766     Preta                                 13   \n",
              "4   84644087734     Preta                                 30   \n",
              "6   10600318761     Preta                                 22   \n",
              "8   09504584730     Preta                                 23   \n",
              "12  00188579737     Preta                                 27   \n",
              "\n",
              "              Bairro       Sexo  \\\n",
              "0                249  Masculino   \n",
              "4         Água limpa  Masculino   \n",
              "6        Sao Geraldo  Masculino   \n",
              "8            Rústico  Masculino   \n",
              "12  Jardim Belvedere  Masculino   \n",
              "\n",
              "    Quanto tempo demorou para obter a graduação atual  \\\n",
              "0                                                   7   \n",
              "4                                                  19   \n",
              "6                                                  19   \n",
              "8                                                  17   \n",
              "12                                                 15   \n",
              "\n",
              "    Está há quanto anos na graduação atual   \\\n",
              "0                                         5   \n",
              "4                                        11   \n",
              "6                                         3   \n",
              "8                                         6   \n",
              "12                                       12   \n",
              "\n",
              "   Em relação aos treinos, qual a sua frequência ?  \\\n",
              "0                        De 1 a 2 vezes por semana   \n",
              "4                        De 3 a 4 vezes por semana   \n",
              "6                        De 3 a 4 vezes por semana   \n",
              "8                        De 1 a 2 vezes por semana   \n",
              "12                       De 2 a 3 vezes por semana   \n",
              "\n",
              "     Se  você parou de treinar, Qual o foi o motivo ? É  federado.  CPF.1  \n",
              "0                                            Trabalho           Sim   NaN  \n",
              "4                                           Não parei           Sim   NaN  \n",
              "6    Horários, Trabalho, Mudança de de cidade/ estado           Sim   NaN  \n",
              "8   Lesão fora do treino, Horários, Trabalho, Muda...           Sim   NaN  \n",
              "12                               Lesão fora do treino           Não   NaN  "
            ],
            "text/html": [
              "\n",
              "  <div id=\"df-b79f52e4-3aa9-4107-88f1-e2a24b9a434f\">\n",
              "    <div class=\"colab-df-container\">\n",
              "      <div>\n",
              "<style scoped>\n",
              "    .dataframe tbody tr th:only-of-type {\n",
              "        vertical-align: middle;\n",
              "    }\n",
              "\n",
              "    .dataframe tbody tr th {\n",
              "        vertical-align: top;\n",
              "    }\n",
              "\n",
              "    .dataframe thead th {\n",
              "        text-align: right;\n",
              "    }\n",
              "</style>\n",
              "<table border=\"1\" class=\"dataframe\">\n",
              "  <thead>\n",
              "    <tr style=\"text-align: right;\">\n",
              "      <th></th>\n",
              "      <th>Carimbo de data/hora</th>\n",
              "      <th>Nome</th>\n",
              "      <th>Idade</th>\n",
              "      <th>Cidade</th>\n",
              "      <th>CPF</th>\n",
              "      <th>Graduação</th>\n",
              "      <th>Há quanto anos treina Jiu-Jitsu.</th>\n",
              "      <th>Bairro</th>\n",
              "      <th>Sexo</th>\n",
              "      <th>Quanto tempo demorou para obter a graduação atual</th>\n",
              "      <th>Está há quanto anos na graduação atual</th>\n",
              "      <th>Em relação aos treinos, qual a sua frequência ?</th>\n",
              "      <th>Se  você parou de treinar, Qual o foi o motivo ?</th>\n",
              "      <th>É  federado.</th>\n",
              "      <th>CPF.1</th>\n",
              "    </tr>\n",
              "  </thead>\n",
              "  <tbody>\n",
              "    <tr>\n",
              "      <th>0</th>\n",
              "      <td>2022-10-08 14:04:12.035</td>\n",
              "      <td>wallace</td>\n",
              "      <td>34</td>\n",
              "      <td>Volta Redonda</td>\n",
              "      <td>05922115766</td>\n",
              "      <td>Preta</td>\n",
              "      <td>13</td>\n",
              "      <td>249</td>\n",
              "      <td>Masculino</td>\n",
              "      <td>7</td>\n",
              "      <td>5</td>\n",
              "      <td>De 1 a 2 vezes por semana</td>\n",
              "      <td>Trabalho</td>\n",
              "      <td>Sim</td>\n",
              "      <td>NaN</td>\n",
              "    </tr>\n",
              "    <tr>\n",
              "      <th>4</th>\n",
              "      <td>2022-10-08 16:12:31.973</td>\n",
              "      <td>Maxwel Dutra de Paula</td>\n",
              "      <td>56</td>\n",
              "      <td>Volta Redonda</td>\n",
              "      <td>84644087734</td>\n",
              "      <td>Preta</td>\n",
              "      <td>30</td>\n",
              "      <td>Água limpa</td>\n",
              "      <td>Masculino</td>\n",
              "      <td>19</td>\n",
              "      <td>11</td>\n",
              "      <td>De 3 a 4 vezes por semana</td>\n",
              "      <td>Não parei</td>\n",
              "      <td>Sim</td>\n",
              "      <td>NaN</td>\n",
              "    </tr>\n",
              "    <tr>\n",
              "      <th>6</th>\n",
              "      <td>2022-10-08 16:22:33.018</td>\n",
              "      <td>Rodrigo Soares Da Cruz</td>\n",
              "      <td>40</td>\n",
              "      <td>Volta Redonda</td>\n",
              "      <td>10600318761</td>\n",
              "      <td>Preta</td>\n",
              "      <td>22</td>\n",
              "      <td>Sao Geraldo</td>\n",
              "      <td>Masculino</td>\n",
              "      <td>19</td>\n",
              "      <td>3</td>\n",
              "      <td>De 3 a 4 vezes por semana</td>\n",
              "      <td>Horários, Trabalho, Mudança de de cidade/ estado</td>\n",
              "      <td>Sim</td>\n",
              "      <td>NaN</td>\n",
              "    </tr>\n",
              "    <tr>\n",
              "      <th>8</th>\n",
              "      <td>2022-10-08 16:35:47.710</td>\n",
              "      <td>Leonardo</td>\n",
              "      <td>40</td>\n",
              "      <td>Volta Redonda</td>\n",
              "      <td>09504584730</td>\n",
              "      <td>Preta</td>\n",
              "      <td>23</td>\n",
              "      <td>Rústico</td>\n",
              "      <td>Masculino</td>\n",
              "      <td>17</td>\n",
              "      <td>6</td>\n",
              "      <td>De 1 a 2 vezes por semana</td>\n",
              "      <td>Lesão fora do treino, Horários, Trabalho, Muda...</td>\n",
              "      <td>Sim</td>\n",
              "      <td>NaN</td>\n",
              "    </tr>\n",
              "    <tr>\n",
              "      <th>12</th>\n",
              "      <td>2022-10-08 17:03:29.390</td>\n",
              "      <td>José Ricardo de Oliveira</td>\n",
              "      <td>53</td>\n",
              "      <td>Volta Redonda</td>\n",
              "      <td>00188579737</td>\n",
              "      <td>Preta</td>\n",
              "      <td>27</td>\n",
              "      <td>Jardim Belvedere</td>\n",
              "      <td>Masculino</td>\n",
              "      <td>15</td>\n",
              "      <td>12</td>\n",
              "      <td>De 2 a 3 vezes por semana</td>\n",
              "      <td>Lesão fora do treino</td>\n",
              "      <td>Não</td>\n",
              "      <td>NaN</td>\n",
              "    </tr>\n",
              "  </tbody>\n",
              "</table>\n",
              "</div>\n",
              "      <button class=\"colab-df-convert\" onclick=\"convertToInteractive('df-b79f52e4-3aa9-4107-88f1-e2a24b9a434f')\"\n",
              "              title=\"Convert this dataframe to an interactive table.\"\n",
              "              style=\"display:none;\">\n",
              "        \n",
              "  <svg xmlns=\"http://www.w3.org/2000/svg\" height=\"24px\"viewBox=\"0 0 24 24\"\n",
              "       width=\"24px\">\n",
              "    <path d=\"M0 0h24v24H0V0z\" fill=\"none\"/>\n",
              "    <path d=\"M18.56 5.44l.94 2.06.94-2.06 2.06-.94-2.06-.94-.94-2.06-.94 2.06-2.06.94zm-11 1L8.5 8.5l.94-2.06 2.06-.94-2.06-.94L8.5 2.5l-.94 2.06-2.06.94zm10 10l.94 2.06.94-2.06 2.06-.94-2.06-.94-.94-2.06-.94 2.06-2.06.94z\"/><path d=\"M17.41 7.96l-1.37-1.37c-.4-.4-.92-.59-1.43-.59-.52 0-1.04.2-1.43.59L10.3 9.45l-7.72 7.72c-.78.78-.78 2.05 0 2.83L4 21.41c.39.39.9.59 1.41.59.51 0 1.02-.2 1.41-.59l7.78-7.78 2.81-2.81c.8-.78.8-2.07 0-2.86zM5.41 20L4 18.59l7.72-7.72 1.47 1.35L5.41 20z\"/>\n",
              "  </svg>\n",
              "      </button>\n",
              "      \n",
              "  <style>\n",
              "    .colab-df-container {\n",
              "      display:flex;\n",
              "      flex-wrap:wrap;\n",
              "      gap: 12px;\n",
              "    }\n",
              "\n",
              "    .colab-df-convert {\n",
              "      background-color: #E8F0FE;\n",
              "      border: none;\n",
              "      border-radius: 50%;\n",
              "      cursor: pointer;\n",
              "      display: none;\n",
              "      fill: #1967D2;\n",
              "      height: 32px;\n",
              "      padding: 0 0 0 0;\n",
              "      width: 32px;\n",
              "    }\n",
              "\n",
              "    .colab-df-convert:hover {\n",
              "      background-color: #E2EBFA;\n",
              "      box-shadow: 0px 1px 2px rgba(60, 64, 67, 0.3), 0px 1px 3px 1px rgba(60, 64, 67, 0.15);\n",
              "      fill: #174EA6;\n",
              "    }\n",
              "\n",
              "    [theme=dark] .colab-df-convert {\n",
              "      background-color: #3B4455;\n",
              "      fill: #D2E3FC;\n",
              "    }\n",
              "\n",
              "    [theme=dark] .colab-df-convert:hover {\n",
              "      background-color: #434B5C;\n",
              "      box-shadow: 0px 1px 3px 1px rgba(0, 0, 0, 0.15);\n",
              "      filter: drop-shadow(0px 1px 2px rgba(0, 0, 0, 0.3));\n",
              "      fill: #FFFFFF;\n",
              "    }\n",
              "  </style>\n",
              "\n",
              "      <script>\n",
              "        const buttonEl =\n",
              "          document.querySelector('#df-b79f52e4-3aa9-4107-88f1-e2a24b9a434f button.colab-df-convert');\n",
              "        buttonEl.style.display =\n",
              "          google.colab.kernel.accessAllowed ? 'block' : 'none';\n",
              "\n",
              "        async function convertToInteractive(key) {\n",
              "          const element = document.querySelector('#df-b79f52e4-3aa9-4107-88f1-e2a24b9a434f');\n",
              "          const dataTable =\n",
              "            await google.colab.kernel.invokeFunction('convertToInteractive',\n",
              "                                                     [key], {});\n",
              "          if (!dataTable) return;\n",
              "\n",
              "          const docLinkHtml = 'Like what you see? Visit the ' +\n",
              "            '<a target=\"_blank\" href=https://colab.research.google.com/notebooks/data_table.ipynb>data table notebook</a>'\n",
              "            + ' to learn more about interactive tables.';\n",
              "          element.innerHTML = '';\n",
              "          dataTable['output_type'] = 'display_data';\n",
              "          await google.colab.output.renderOutput(dataTable, element);\n",
              "          const docLink = document.createElement('div');\n",
              "          docLink.innerHTML = docLinkHtml;\n",
              "          element.appendChild(docLink);\n",
              "        }\n",
              "      </script>\n",
              "    </div>\n",
              "  </div>\n",
              "  "
            ]
          },
          "metadata": {},
          "execution_count": 269
        }
      ]
    },
    {
      "cell_type": "code",
      "source": [
        "DFPVR.groupby('Bairro').size()"
      ],
      "metadata": {
        "colab": {
          "base_uri": "https://localhost:8080/"
        },
        "id": "hzM8X_eH0wcA",
        "outputId": "29ec1b76-1762-4c62-f80a-740254442ca5"
      },
      "execution_count": 270,
      "outputs": [
        {
          "output_type": "execute_result",
          "data": {
            "text/plain": [
              "Bairro\n",
              "249                     1\n",
              "Bela vista              1\n",
              "Belmonte                2\n",
              "Belvedere               1\n",
              "Brasilandia             1\n",
              "Califórnia              1\n",
              "Cidade nova             1\n",
              "Eucaliptal              1\n",
              "Jardim Belvedere        1\n",
              "Jd Mariana              1\n",
              "Jd amália               1\n",
              "Monte Castelo           1\n",
              "Monte castelo           1\n",
              "Morada da Colina        1\n",
              "Morada do vale          1\n",
              "Parque das Ilhas        1\n",
              "Retiro                  3\n",
              "Rústico                 1\n",
              "Santa Cruz              2\n",
              "Sao Geraldo             1\n",
              "Sessenta                1\n",
              "São João                1\n",
              "São Lucas               1\n",
              "Vila Rica tres pocos    1\n",
              "Vila mury               1\n",
              "Água Limpa              1\n",
              "Água limpa              1\n",
              "dtype: int64"
            ]
          },
          "metadata": {},
          "execution_count": 270
        }
      ]
    },
    {
      "cell_type": "code",
      "source": [
        "DFPVR.to_excel(\"DFPVR.xlsx\")"
      ],
      "metadata": {
        "id": "z3_osNdA_DSm"
      },
      "execution_count": 271,
      "outputs": []
    },
    {
      "cell_type": "code",
      "source": [
        "DFPVR.columns"
      ],
      "metadata": {
        "colab": {
          "base_uri": "https://localhost:8080/"
        },
        "id": "2ihNLuDI9aQJ",
        "outputId": "7a800b1a-1af1-4ca9-c7f9-cf0f3519752a"
      },
      "execution_count": 272,
      "outputs": [
        {
          "output_type": "execute_result",
          "data": {
            "text/plain": [
              "Index(['Carimbo de data/hora', 'Nome', 'Idade', 'Cidade ', 'CPF', 'Graduação',\n",
              "       'Há quanto anos treina Jiu-Jitsu. ', 'Bairro', 'Sexo',\n",
              "       'Quanto tempo demorou para obter a graduação atual',\n",
              "       'Está há quanto anos na graduação atual ',\n",
              "       'Em relação aos treinos, qual a sua frequência ?',\n",
              "       'Se  você parou de treinar, Qual o foi o motivo ?', 'É  federado. ',\n",
              "       'CPF.1'],\n",
              "      dtype='object')"
            ]
          },
          "metadata": {},
          "execution_count": 272
        }
      ]
    },
    {
      "cell_type": "markdown",
      "source": [
        "VAMOS TRATAR OS DADOS. NOME DO BAIRRO ESCRITO DE FORMA DEFERENTE. "
      ],
      "metadata": {
        "id": "phKEIcFm386O"
      }
    },
    {
      "cell_type": "code",
      "source": [
        "DVR['Bairro'] = DVR['Bairro'].apply(lambda x: str(x).replace('Água Limpa','Agua limpa'))"
      ],
      "metadata": {
        "colab": {
          "base_uri": "https://localhost:8080/"
        },
        "id": "KMihCZbd4LDq",
        "outputId": "7f9d8c9f-e62a-4765-81c8-fe3ee7cd6757"
      },
      "execution_count": 273,
      "outputs": [
        {
          "output_type": "stream",
          "name": "stderr",
          "text": [
            "<ipython-input-273-384301b2e89f>:1: SettingWithCopyWarning: \n",
            "A value is trying to be set on a copy of a slice from a DataFrame.\n",
            "Try using .loc[row_indexer,col_indexer] = value instead\n",
            "\n",
            "See the caveats in the documentation: https://pandas.pydata.org/pandas-docs/stable/user_guide/indexing.html#returning-a-view-versus-a-copy\n",
            "  DVR['Bairro'] = DVR['Bairro'].apply(lambda x: str(x).replace('Água Limpa','Agua limpa'))\n"
          ]
        }
      ]
    },
    {
      "cell_type": "code",
      "source": [
        "DVR['Bairro'] = DVR['Bairro'].apply(lambda x: str(x).replace('Água Limpa','Agua limpa'))"
      ],
      "metadata": {
        "id": "ocHaA6FpBbNh",
        "colab": {
          "base_uri": "https://localhost:8080/"
        },
        "outputId": "da8d5116-72d5-4efa-f83c-718367d0ba35"
      },
      "execution_count": 274,
      "outputs": [
        {
          "output_type": "stream",
          "name": "stderr",
          "text": [
            "<ipython-input-274-384301b2e89f>:1: SettingWithCopyWarning: \n",
            "A value is trying to be set on a copy of a slice from a DataFrame.\n",
            "Try using .loc[row_indexer,col_indexer] = value instead\n",
            "\n",
            "See the caveats in the documentation: https://pandas.pydata.org/pandas-docs/stable/user_guide/indexing.html#returning-a-view-versus-a-copy\n",
            "  DVR['Bairro'] = DVR['Bairro'].apply(lambda x: str(x).replace('Água Limpa','Agua limpa'))\n"
          ]
        }
      ]
    },
    {
      "cell_type": "code",
      "source": [
        "DVR['Bairro'].unique()\n",
        "DVRB = pd.DataFrame({'Graduação': ['Azul', 'Branca', 'Roxa', 'Preta', 'Marrom', 'Verde'], 'Cidade': ['Volta Redonda', 'Barra mansa', 'Piraí', 'Vassouras', 'Valença', 'Barra do Piraí']})\n",
        "display(DVRB)"
      ],
      "metadata": {
        "colab": {
          "base_uri": "https://localhost:8080/",
          "height": 238
        },
        "id": "qOrFvmFr4mxm",
        "outputId": "4d107cb1-45ee-4155-e658-71b40859082f"
      },
      "execution_count": 275,
      "outputs": [
        {
          "output_type": "display_data",
          "data": {
            "text/plain": [
              "  Graduação          Cidade\n",
              "0      Azul   Volta Redonda\n",
              "1    Branca     Barra mansa\n",
              "2      Roxa           Piraí\n",
              "3     Preta       Vassouras\n",
              "4    Marrom         Valença\n",
              "5     Verde  Barra do Piraí"
            ],
            "text/html": [
              "\n",
              "  <div id=\"df-ec404cb4-b33c-4e19-9e64-1be449825bd3\">\n",
              "    <div class=\"colab-df-container\">\n",
              "      <div>\n",
              "<style scoped>\n",
              "    .dataframe tbody tr th:only-of-type {\n",
              "        vertical-align: middle;\n",
              "    }\n",
              "\n",
              "    .dataframe tbody tr th {\n",
              "        vertical-align: top;\n",
              "    }\n",
              "\n",
              "    .dataframe thead th {\n",
              "        text-align: right;\n",
              "    }\n",
              "</style>\n",
              "<table border=\"1\" class=\"dataframe\">\n",
              "  <thead>\n",
              "    <tr style=\"text-align: right;\">\n",
              "      <th></th>\n",
              "      <th>Graduação</th>\n",
              "      <th>Cidade</th>\n",
              "    </tr>\n",
              "  </thead>\n",
              "  <tbody>\n",
              "    <tr>\n",
              "      <th>0</th>\n",
              "      <td>Azul</td>\n",
              "      <td>Volta Redonda</td>\n",
              "    </tr>\n",
              "    <tr>\n",
              "      <th>1</th>\n",
              "      <td>Branca</td>\n",
              "      <td>Barra mansa</td>\n",
              "    </tr>\n",
              "    <tr>\n",
              "      <th>2</th>\n",
              "      <td>Roxa</td>\n",
              "      <td>Piraí</td>\n",
              "    </tr>\n",
              "    <tr>\n",
              "      <th>3</th>\n",
              "      <td>Preta</td>\n",
              "      <td>Vassouras</td>\n",
              "    </tr>\n",
              "    <tr>\n",
              "      <th>4</th>\n",
              "      <td>Marrom</td>\n",
              "      <td>Valença</td>\n",
              "    </tr>\n",
              "    <tr>\n",
              "      <th>5</th>\n",
              "      <td>Verde</td>\n",
              "      <td>Barra do Piraí</td>\n",
              "    </tr>\n",
              "  </tbody>\n",
              "</table>\n",
              "</div>\n",
              "      <button class=\"colab-df-convert\" onclick=\"convertToInteractive('df-ec404cb4-b33c-4e19-9e64-1be449825bd3')\"\n",
              "              title=\"Convert this dataframe to an interactive table.\"\n",
              "              style=\"display:none;\">\n",
              "        \n",
              "  <svg xmlns=\"http://www.w3.org/2000/svg\" height=\"24px\"viewBox=\"0 0 24 24\"\n",
              "       width=\"24px\">\n",
              "    <path d=\"M0 0h24v24H0V0z\" fill=\"none\"/>\n",
              "    <path d=\"M18.56 5.44l.94 2.06.94-2.06 2.06-.94-2.06-.94-.94-2.06-.94 2.06-2.06.94zm-11 1L8.5 8.5l.94-2.06 2.06-.94-2.06-.94L8.5 2.5l-.94 2.06-2.06.94zm10 10l.94 2.06.94-2.06 2.06-.94-2.06-.94-.94-2.06-.94 2.06-2.06.94z\"/><path d=\"M17.41 7.96l-1.37-1.37c-.4-.4-.92-.59-1.43-.59-.52 0-1.04.2-1.43.59L10.3 9.45l-7.72 7.72c-.78.78-.78 2.05 0 2.83L4 21.41c.39.39.9.59 1.41.59.51 0 1.02-.2 1.41-.59l7.78-7.78 2.81-2.81c.8-.78.8-2.07 0-2.86zM5.41 20L4 18.59l7.72-7.72 1.47 1.35L5.41 20z\"/>\n",
              "  </svg>\n",
              "      </button>\n",
              "      \n",
              "  <style>\n",
              "    .colab-df-container {\n",
              "      display:flex;\n",
              "      flex-wrap:wrap;\n",
              "      gap: 12px;\n",
              "    }\n",
              "\n",
              "    .colab-df-convert {\n",
              "      background-color: #E8F0FE;\n",
              "      border: none;\n",
              "      border-radius: 50%;\n",
              "      cursor: pointer;\n",
              "      display: none;\n",
              "      fill: #1967D2;\n",
              "      height: 32px;\n",
              "      padding: 0 0 0 0;\n",
              "      width: 32px;\n",
              "    }\n",
              "\n",
              "    .colab-df-convert:hover {\n",
              "      background-color: #E2EBFA;\n",
              "      box-shadow: 0px 1px 2px rgba(60, 64, 67, 0.3), 0px 1px 3px 1px rgba(60, 64, 67, 0.15);\n",
              "      fill: #174EA6;\n",
              "    }\n",
              "\n",
              "    [theme=dark] .colab-df-convert {\n",
              "      background-color: #3B4455;\n",
              "      fill: #D2E3FC;\n",
              "    }\n",
              "\n",
              "    [theme=dark] .colab-df-convert:hover {\n",
              "      background-color: #434B5C;\n",
              "      box-shadow: 0px 1px 3px 1px rgba(0, 0, 0, 0.15);\n",
              "      filter: drop-shadow(0px 1px 2px rgba(0, 0, 0, 0.3));\n",
              "      fill: #FFFFFF;\n",
              "    }\n",
              "  </style>\n",
              "\n",
              "      <script>\n",
              "        const buttonEl =\n",
              "          document.querySelector('#df-ec404cb4-b33c-4e19-9e64-1be449825bd3 button.colab-df-convert');\n",
              "        buttonEl.style.display =\n",
              "          google.colab.kernel.accessAllowed ? 'block' : 'none';\n",
              "\n",
              "        async function convertToInteractive(key) {\n",
              "          const element = document.querySelector('#df-ec404cb4-b33c-4e19-9e64-1be449825bd3');\n",
              "          const dataTable =\n",
              "            await google.colab.kernel.invokeFunction('convertToInteractive',\n",
              "                                                     [key], {});\n",
              "          if (!dataTable) return;\n",
              "\n",
              "          const docLinkHtml = 'Like what you see? Visit the ' +\n",
              "            '<a target=\"_blank\" href=https://colab.research.google.com/notebooks/data_table.ipynb>data table notebook</a>'\n",
              "            + ' to learn more about interactive tables.';\n",
              "          element.innerHTML = '';\n",
              "          dataTable['output_type'] = 'display_data';\n",
              "          await google.colab.output.renderOutput(dataTable, element);\n",
              "          const docLink = document.createElement('div');\n",
              "          docLink.innerHTML = docLinkHtml;\n",
              "          element.appendChild(docLink);\n",
              "        }\n",
              "      </script>\n",
              "    </div>\n",
              "  </div>\n",
              "  "
            ]
          },
          "metadata": {}
        }
      ]
    },
    {
      "cell_type": "markdown",
      "source": [
        "Vamos fazer uma analise dos faixas preta de  Volta Redonda.  "
      ],
      "metadata": {
        "id": "PqjdpGR-28Lb"
      }
    },
    {
      "cell_type": "code",
      "source": [
        "DFPVR[['Nome','Idade','Há quanto anos treina Jiu-Jitsu. ','Está há quanto anos na graduação atual ']]"
      ],
      "metadata": {
        "id": "FvBfc4q23DcJ",
        "colab": {
          "base_uri": "https://localhost:8080/",
          "height": 1000
        },
        "outputId": "88ae5c06-801f-47aa-a6ac-048fc1f2626c"
      },
      "execution_count": 276,
      "outputs": [
        {
          "output_type": "execute_result",
          "data": {
            "text/plain": [
              "                                  Nome  Idade  \\\n",
              "0                              wallace     34   \n",
              "4                Maxwel Dutra de Paula     56   \n",
              "6               Rodrigo Soares Da Cruz     40   \n",
              "8                             Leonardo     40   \n",
              "12            José Ricardo de Oliveira     53   \n",
              "16           Fabio de Oliveira mattins     50   \n",
              "17                             Ruan JJ     27   \n",
              "18        Wilson Caetano Pinto Moreira     49   \n",
              "37          Thadeu Giannattasio Nobres     31   \n",
              "45                               Renan     31   \n",
              "46                           Denivaldo     33   \n",
              "51                      Lucas de Souza     32   \n",
              "57            Thiago Luigi Costa Lessa     36   \n",
              "66                            Fernando     36   \n",
              "73                       Thiago barros     37   \n",
              "74   CARLOS José Guimarães das Virgens     39   \n",
              "75             Helena Juvêncio Bemfica     36   \n",
              "81                    Ricardo Oliveira     45   \n",
              "86                       Filipe Moraes     40   \n",
              "93                            Gleidson     39   \n",
              "98    Luciano de Almeida Poubel Vieira     39   \n",
              "102   Cássio Henrique Silva Nascimento     37   \n",
              "103                    Rafael Fagundes     43   \n",
              "105           Mauricio Maynard do Lago     64   \n",
              "114                       Felipe Cunha     44   \n",
              "115    Pablo cristiano da Silva Daniel     38   \n",
              "120       Bruno Sampaio Muniz da Silva     32   \n",
              "136                      Jorge Antônio     37   \n",
              "138                    Rodolfo Barbosa     30   \n",
              "143                Thiago Santos Silva     36   \n",
              "147                 Dayvid Lopes Faria     29   \n",
              "\n",
              "     Há quanto anos treina Jiu-Jitsu.   \\\n",
              "0                                   13   \n",
              "4                                   30   \n",
              "6                                   22   \n",
              "8                                   23   \n",
              "12                                  27   \n",
              "16                                  25   \n",
              "17                                  20   \n",
              "18                                  21   \n",
              "37                                  12   \n",
              "45                                  12   \n",
              "46                                  15   \n",
              "51                                  16   \n",
              "57                                  18   \n",
              "66                                  13   \n",
              "73                                  20   \n",
              "74                                  22   \n",
              "75                                  20   \n",
              "81                                  23   \n",
              "86                                  20   \n",
              "93                                  16   \n",
              "98                                  23   \n",
              "102                                 22   \n",
              "103                                 26   \n",
              "105                                 13   \n",
              "114                                 24   \n",
              "115                                 25   \n",
              "120                                 13   \n",
              "136                                 12   \n",
              "138                                 17   \n",
              "143                                 11   \n",
              "147                                 13   \n",
              "\n",
              "     Está há quanto anos na graduação atual   \n",
              "0                                          5  \n",
              "4                                         11  \n",
              "6                                          3  \n",
              "8                                          6  \n",
              "12                                        12  \n",
              "16                                         6  \n",
              "17                                         8  \n",
              "18                                         5  \n",
              "37                                         1  \n",
              "45                                         1  \n",
              "46                                         5  \n",
              "51                                         2  \n",
              "57                                         3  \n",
              "66                                         2  \n",
              "73                                         9  \n",
              "74                                         8  \n",
              "75                                         3  \n",
              "81                                        13  \n",
              "86                                         4  \n",
              "93                                         9  \n",
              "98                                         5  \n",
              "102                                       12  \n",
              "103                                        3  \n",
              "105                                        5  \n",
              "114                                       13  \n",
              "115                                        8  \n",
              "120                                        4  \n",
              "136                                        1  \n",
              "138                                        1  \n",
              "143                                        3  \n",
              "147                                        1  "
            ],
            "text/html": [
              "\n",
              "  <div id=\"df-795b7d97-f1ec-4c82-bb0c-b597eebe0d3b\">\n",
              "    <div class=\"colab-df-container\">\n",
              "      <div>\n",
              "<style scoped>\n",
              "    .dataframe tbody tr th:only-of-type {\n",
              "        vertical-align: middle;\n",
              "    }\n",
              "\n",
              "    .dataframe tbody tr th {\n",
              "        vertical-align: top;\n",
              "    }\n",
              "\n",
              "    .dataframe thead th {\n",
              "        text-align: right;\n",
              "    }\n",
              "</style>\n",
              "<table border=\"1\" class=\"dataframe\">\n",
              "  <thead>\n",
              "    <tr style=\"text-align: right;\">\n",
              "      <th></th>\n",
              "      <th>Nome</th>\n",
              "      <th>Idade</th>\n",
              "      <th>Há quanto anos treina Jiu-Jitsu.</th>\n",
              "      <th>Está há quanto anos na graduação atual</th>\n",
              "    </tr>\n",
              "  </thead>\n",
              "  <tbody>\n",
              "    <tr>\n",
              "      <th>0</th>\n",
              "      <td>wallace</td>\n",
              "      <td>34</td>\n",
              "      <td>13</td>\n",
              "      <td>5</td>\n",
              "    </tr>\n",
              "    <tr>\n",
              "      <th>4</th>\n",
              "      <td>Maxwel Dutra de Paula</td>\n",
              "      <td>56</td>\n",
              "      <td>30</td>\n",
              "      <td>11</td>\n",
              "    </tr>\n",
              "    <tr>\n",
              "      <th>6</th>\n",
              "      <td>Rodrigo Soares Da Cruz</td>\n",
              "      <td>40</td>\n",
              "      <td>22</td>\n",
              "      <td>3</td>\n",
              "    </tr>\n",
              "    <tr>\n",
              "      <th>8</th>\n",
              "      <td>Leonardo</td>\n",
              "      <td>40</td>\n",
              "      <td>23</td>\n",
              "      <td>6</td>\n",
              "    </tr>\n",
              "    <tr>\n",
              "      <th>12</th>\n",
              "      <td>José Ricardo de Oliveira</td>\n",
              "      <td>53</td>\n",
              "      <td>27</td>\n",
              "      <td>12</td>\n",
              "    </tr>\n",
              "    <tr>\n",
              "      <th>16</th>\n",
              "      <td>Fabio de Oliveira mattins</td>\n",
              "      <td>50</td>\n",
              "      <td>25</td>\n",
              "      <td>6</td>\n",
              "    </tr>\n",
              "    <tr>\n",
              "      <th>17</th>\n",
              "      <td>Ruan JJ</td>\n",
              "      <td>27</td>\n",
              "      <td>20</td>\n",
              "      <td>8</td>\n",
              "    </tr>\n",
              "    <tr>\n",
              "      <th>18</th>\n",
              "      <td>Wilson Caetano Pinto Moreira</td>\n",
              "      <td>49</td>\n",
              "      <td>21</td>\n",
              "      <td>5</td>\n",
              "    </tr>\n",
              "    <tr>\n",
              "      <th>37</th>\n",
              "      <td>Thadeu Giannattasio Nobres</td>\n",
              "      <td>31</td>\n",
              "      <td>12</td>\n",
              "      <td>1</td>\n",
              "    </tr>\n",
              "    <tr>\n",
              "      <th>45</th>\n",
              "      <td>Renan</td>\n",
              "      <td>31</td>\n",
              "      <td>12</td>\n",
              "      <td>1</td>\n",
              "    </tr>\n",
              "    <tr>\n",
              "      <th>46</th>\n",
              "      <td>Denivaldo</td>\n",
              "      <td>33</td>\n",
              "      <td>15</td>\n",
              "      <td>5</td>\n",
              "    </tr>\n",
              "    <tr>\n",
              "      <th>51</th>\n",
              "      <td>Lucas de Souza</td>\n",
              "      <td>32</td>\n",
              "      <td>16</td>\n",
              "      <td>2</td>\n",
              "    </tr>\n",
              "    <tr>\n",
              "      <th>57</th>\n",
              "      <td>Thiago Luigi Costa Lessa</td>\n",
              "      <td>36</td>\n",
              "      <td>18</td>\n",
              "      <td>3</td>\n",
              "    </tr>\n",
              "    <tr>\n",
              "      <th>66</th>\n",
              "      <td>Fernando</td>\n",
              "      <td>36</td>\n",
              "      <td>13</td>\n",
              "      <td>2</td>\n",
              "    </tr>\n",
              "    <tr>\n",
              "      <th>73</th>\n",
              "      <td>Thiago barros</td>\n",
              "      <td>37</td>\n",
              "      <td>20</td>\n",
              "      <td>9</td>\n",
              "    </tr>\n",
              "    <tr>\n",
              "      <th>74</th>\n",
              "      <td>CARLOS José Guimarães das Virgens</td>\n",
              "      <td>39</td>\n",
              "      <td>22</td>\n",
              "      <td>8</td>\n",
              "    </tr>\n",
              "    <tr>\n",
              "      <th>75</th>\n",
              "      <td>Helena Juvêncio Bemfica</td>\n",
              "      <td>36</td>\n",
              "      <td>20</td>\n",
              "      <td>3</td>\n",
              "    </tr>\n",
              "    <tr>\n",
              "      <th>81</th>\n",
              "      <td>Ricardo Oliveira</td>\n",
              "      <td>45</td>\n",
              "      <td>23</td>\n",
              "      <td>13</td>\n",
              "    </tr>\n",
              "    <tr>\n",
              "      <th>86</th>\n",
              "      <td>Filipe Moraes</td>\n",
              "      <td>40</td>\n",
              "      <td>20</td>\n",
              "      <td>4</td>\n",
              "    </tr>\n",
              "    <tr>\n",
              "      <th>93</th>\n",
              "      <td>Gleidson</td>\n",
              "      <td>39</td>\n",
              "      <td>16</td>\n",
              "      <td>9</td>\n",
              "    </tr>\n",
              "    <tr>\n",
              "      <th>98</th>\n",
              "      <td>Luciano de Almeida Poubel Vieira</td>\n",
              "      <td>39</td>\n",
              "      <td>23</td>\n",
              "      <td>5</td>\n",
              "    </tr>\n",
              "    <tr>\n",
              "      <th>102</th>\n",
              "      <td>Cássio Henrique Silva Nascimento</td>\n",
              "      <td>37</td>\n",
              "      <td>22</td>\n",
              "      <td>12</td>\n",
              "    </tr>\n",
              "    <tr>\n",
              "      <th>103</th>\n",
              "      <td>Rafael Fagundes</td>\n",
              "      <td>43</td>\n",
              "      <td>26</td>\n",
              "      <td>3</td>\n",
              "    </tr>\n",
              "    <tr>\n",
              "      <th>105</th>\n",
              "      <td>Mauricio Maynard do Lago</td>\n",
              "      <td>64</td>\n",
              "      <td>13</td>\n",
              "      <td>5</td>\n",
              "    </tr>\n",
              "    <tr>\n",
              "      <th>114</th>\n",
              "      <td>Felipe Cunha</td>\n",
              "      <td>44</td>\n",
              "      <td>24</td>\n",
              "      <td>13</td>\n",
              "    </tr>\n",
              "    <tr>\n",
              "      <th>115</th>\n",
              "      <td>Pablo cristiano da Silva Daniel</td>\n",
              "      <td>38</td>\n",
              "      <td>25</td>\n",
              "      <td>8</td>\n",
              "    </tr>\n",
              "    <tr>\n",
              "      <th>120</th>\n",
              "      <td>Bruno Sampaio Muniz da Silva</td>\n",
              "      <td>32</td>\n",
              "      <td>13</td>\n",
              "      <td>4</td>\n",
              "    </tr>\n",
              "    <tr>\n",
              "      <th>136</th>\n",
              "      <td>Jorge Antônio</td>\n",
              "      <td>37</td>\n",
              "      <td>12</td>\n",
              "      <td>1</td>\n",
              "    </tr>\n",
              "    <tr>\n",
              "      <th>138</th>\n",
              "      <td>Rodolfo Barbosa</td>\n",
              "      <td>30</td>\n",
              "      <td>17</td>\n",
              "      <td>1</td>\n",
              "    </tr>\n",
              "    <tr>\n",
              "      <th>143</th>\n",
              "      <td>Thiago Santos Silva</td>\n",
              "      <td>36</td>\n",
              "      <td>11</td>\n",
              "      <td>3</td>\n",
              "    </tr>\n",
              "    <tr>\n",
              "      <th>147</th>\n",
              "      <td>Dayvid Lopes Faria</td>\n",
              "      <td>29</td>\n",
              "      <td>13</td>\n",
              "      <td>1</td>\n",
              "    </tr>\n",
              "  </tbody>\n",
              "</table>\n",
              "</div>\n",
              "      <button class=\"colab-df-convert\" onclick=\"convertToInteractive('df-795b7d97-f1ec-4c82-bb0c-b597eebe0d3b')\"\n",
              "              title=\"Convert this dataframe to an interactive table.\"\n",
              "              style=\"display:none;\">\n",
              "        \n",
              "  <svg xmlns=\"http://www.w3.org/2000/svg\" height=\"24px\"viewBox=\"0 0 24 24\"\n",
              "       width=\"24px\">\n",
              "    <path d=\"M0 0h24v24H0V0z\" fill=\"none\"/>\n",
              "    <path d=\"M18.56 5.44l.94 2.06.94-2.06 2.06-.94-2.06-.94-.94-2.06-.94 2.06-2.06.94zm-11 1L8.5 8.5l.94-2.06 2.06-.94-2.06-.94L8.5 2.5l-.94 2.06-2.06.94zm10 10l.94 2.06.94-2.06 2.06-.94-2.06-.94-.94-2.06-.94 2.06-2.06.94z\"/><path d=\"M17.41 7.96l-1.37-1.37c-.4-.4-.92-.59-1.43-.59-.52 0-1.04.2-1.43.59L10.3 9.45l-7.72 7.72c-.78.78-.78 2.05 0 2.83L4 21.41c.39.39.9.59 1.41.59.51 0 1.02-.2 1.41-.59l7.78-7.78 2.81-2.81c.8-.78.8-2.07 0-2.86zM5.41 20L4 18.59l7.72-7.72 1.47 1.35L5.41 20z\"/>\n",
              "  </svg>\n",
              "      </button>\n",
              "      \n",
              "  <style>\n",
              "    .colab-df-container {\n",
              "      display:flex;\n",
              "      flex-wrap:wrap;\n",
              "      gap: 12px;\n",
              "    }\n",
              "\n",
              "    .colab-df-convert {\n",
              "      background-color: #E8F0FE;\n",
              "      border: none;\n",
              "      border-radius: 50%;\n",
              "      cursor: pointer;\n",
              "      display: none;\n",
              "      fill: #1967D2;\n",
              "      height: 32px;\n",
              "      padding: 0 0 0 0;\n",
              "      width: 32px;\n",
              "    }\n",
              "\n",
              "    .colab-df-convert:hover {\n",
              "      background-color: #E2EBFA;\n",
              "      box-shadow: 0px 1px 2px rgba(60, 64, 67, 0.3), 0px 1px 3px 1px rgba(60, 64, 67, 0.15);\n",
              "      fill: #174EA6;\n",
              "    }\n",
              "\n",
              "    [theme=dark] .colab-df-convert {\n",
              "      background-color: #3B4455;\n",
              "      fill: #D2E3FC;\n",
              "    }\n",
              "\n",
              "    [theme=dark] .colab-df-convert:hover {\n",
              "      background-color: #434B5C;\n",
              "      box-shadow: 0px 1px 3px 1px rgba(0, 0, 0, 0.15);\n",
              "      filter: drop-shadow(0px 1px 2px rgba(0, 0, 0, 0.3));\n",
              "      fill: #FFFFFF;\n",
              "    }\n",
              "  </style>\n",
              "\n",
              "      <script>\n",
              "        const buttonEl =\n",
              "          document.querySelector('#df-795b7d97-f1ec-4c82-bb0c-b597eebe0d3b button.colab-df-convert');\n",
              "        buttonEl.style.display =\n",
              "          google.colab.kernel.accessAllowed ? 'block' : 'none';\n",
              "\n",
              "        async function convertToInteractive(key) {\n",
              "          const element = document.querySelector('#df-795b7d97-f1ec-4c82-bb0c-b597eebe0d3b');\n",
              "          const dataTable =\n",
              "            await google.colab.kernel.invokeFunction('convertToInteractive',\n",
              "                                                     [key], {});\n",
              "          if (!dataTable) return;\n",
              "\n",
              "          const docLinkHtml = 'Like what you see? Visit the ' +\n",
              "            '<a target=\"_blank\" href=https://colab.research.google.com/notebooks/data_table.ipynb>data table notebook</a>'\n",
              "            + ' to learn more about interactive tables.';\n",
              "          element.innerHTML = '';\n",
              "          dataTable['output_type'] = 'display_data';\n",
              "          await google.colab.output.renderOutput(dataTable, element);\n",
              "          const docLink = document.createElement('div');\n",
              "          docLink.innerHTML = docLinkHtml;\n",
              "          element.appendChild(docLink);\n",
              "        }\n",
              "      </script>\n",
              "    </div>\n",
              "  </div>\n",
              "  "
            ]
          },
          "metadata": {},
          "execution_count": 276
        }
      ]
    },
    {
      "cell_type": "code",
      "source": [
        "DEFP=DFPVR[['Idade','Há quanto anos treina Jiu-Jitsu. ','Está há quanto anos na graduação atual ']].describe()"
      ],
      "metadata": {
        "id": "NibYmCvr4ic6"
      },
      "execution_count": 277,
      "outputs": []
    },
    {
      "cell_type": "code",
      "source": [
        "DEFP.describe() # DEFP = dados estatisticos faixa preta"
      ],
      "metadata": {
        "colab": {
          "base_uri": "https://localhost:8080/",
          "height": 300
        },
        "id": "ZmYlZkmI4bZY",
        "outputId": "1bdec029-881e-4cd3-8ffe-b0647578e935"
      },
      "execution_count": 278,
      "outputs": [
        {
          "output_type": "execute_result",
          "data": {
            "text/plain": [
              "           Idade  Há quanto anos treina Jiu-Jitsu.   \\\n",
              "count   8.000000                           8.000000   \n",
              "mean   35.179829                          19.029896   \n",
              "std    15.577766                           9.020502   \n",
              "min     8.309601                           5.303681   \n",
              "25%    30.000000                          12.500000   \n",
              "50%    35.250000                          19.467742   \n",
              "75%    39.721774                          24.750000   \n",
              "max    64.000000                          31.000000   \n",
              "\n",
              "       Está há quanto anos na graduação atual   \n",
              "count                                 8.000000  \n",
              "mean                                  8.793810  \n",
              "std                                   9.677601  \n",
              "min                                   1.000000  \n",
              "25%                                   3.601570  \n",
              "50%                                   5.274194  \n",
              "75%                                   9.250000  \n",
              "max                                  31.000000  "
            ],
            "text/html": [
              "\n",
              "  <div id=\"df-ceb20e36-0417-4466-bf0e-cf5655a8226e\">\n",
              "    <div class=\"colab-df-container\">\n",
              "      <div>\n",
              "<style scoped>\n",
              "    .dataframe tbody tr th:only-of-type {\n",
              "        vertical-align: middle;\n",
              "    }\n",
              "\n",
              "    .dataframe tbody tr th {\n",
              "        vertical-align: top;\n",
              "    }\n",
              "\n",
              "    .dataframe thead th {\n",
              "        text-align: right;\n",
              "    }\n",
              "</style>\n",
              "<table border=\"1\" class=\"dataframe\">\n",
              "  <thead>\n",
              "    <tr style=\"text-align: right;\">\n",
              "      <th></th>\n",
              "      <th>Idade</th>\n",
              "      <th>Há quanto anos treina Jiu-Jitsu.</th>\n",
              "      <th>Está há quanto anos na graduação atual</th>\n",
              "    </tr>\n",
              "  </thead>\n",
              "  <tbody>\n",
              "    <tr>\n",
              "      <th>count</th>\n",
              "      <td>8.000000</td>\n",
              "      <td>8.000000</td>\n",
              "      <td>8.000000</td>\n",
              "    </tr>\n",
              "    <tr>\n",
              "      <th>mean</th>\n",
              "      <td>35.179829</td>\n",
              "      <td>19.029896</td>\n",
              "      <td>8.793810</td>\n",
              "    </tr>\n",
              "    <tr>\n",
              "      <th>std</th>\n",
              "      <td>15.577766</td>\n",
              "      <td>9.020502</td>\n",
              "      <td>9.677601</td>\n",
              "    </tr>\n",
              "    <tr>\n",
              "      <th>min</th>\n",
              "      <td>8.309601</td>\n",
              "      <td>5.303681</td>\n",
              "      <td>1.000000</td>\n",
              "    </tr>\n",
              "    <tr>\n",
              "      <th>25%</th>\n",
              "      <td>30.000000</td>\n",
              "      <td>12.500000</td>\n",
              "      <td>3.601570</td>\n",
              "    </tr>\n",
              "    <tr>\n",
              "      <th>50%</th>\n",
              "      <td>35.250000</td>\n",
              "      <td>19.467742</td>\n",
              "      <td>5.274194</td>\n",
              "    </tr>\n",
              "    <tr>\n",
              "      <th>75%</th>\n",
              "      <td>39.721774</td>\n",
              "      <td>24.750000</td>\n",
              "      <td>9.250000</td>\n",
              "    </tr>\n",
              "    <tr>\n",
              "      <th>max</th>\n",
              "      <td>64.000000</td>\n",
              "      <td>31.000000</td>\n",
              "      <td>31.000000</td>\n",
              "    </tr>\n",
              "  </tbody>\n",
              "</table>\n",
              "</div>\n",
              "      <button class=\"colab-df-convert\" onclick=\"convertToInteractive('df-ceb20e36-0417-4466-bf0e-cf5655a8226e')\"\n",
              "              title=\"Convert this dataframe to an interactive table.\"\n",
              "              style=\"display:none;\">\n",
              "        \n",
              "  <svg xmlns=\"http://www.w3.org/2000/svg\" height=\"24px\"viewBox=\"0 0 24 24\"\n",
              "       width=\"24px\">\n",
              "    <path d=\"M0 0h24v24H0V0z\" fill=\"none\"/>\n",
              "    <path d=\"M18.56 5.44l.94 2.06.94-2.06 2.06-.94-2.06-.94-.94-2.06-.94 2.06-2.06.94zm-11 1L8.5 8.5l.94-2.06 2.06-.94-2.06-.94L8.5 2.5l-.94 2.06-2.06.94zm10 10l.94 2.06.94-2.06 2.06-.94-2.06-.94-.94-2.06-.94 2.06-2.06.94z\"/><path d=\"M17.41 7.96l-1.37-1.37c-.4-.4-.92-.59-1.43-.59-.52 0-1.04.2-1.43.59L10.3 9.45l-7.72 7.72c-.78.78-.78 2.05 0 2.83L4 21.41c.39.39.9.59 1.41.59.51 0 1.02-.2 1.41-.59l7.78-7.78 2.81-2.81c.8-.78.8-2.07 0-2.86zM5.41 20L4 18.59l7.72-7.72 1.47 1.35L5.41 20z\"/>\n",
              "  </svg>\n",
              "      </button>\n",
              "      \n",
              "  <style>\n",
              "    .colab-df-container {\n",
              "      display:flex;\n",
              "      flex-wrap:wrap;\n",
              "      gap: 12px;\n",
              "    }\n",
              "\n",
              "    .colab-df-convert {\n",
              "      background-color: #E8F0FE;\n",
              "      border: none;\n",
              "      border-radius: 50%;\n",
              "      cursor: pointer;\n",
              "      display: none;\n",
              "      fill: #1967D2;\n",
              "      height: 32px;\n",
              "      padding: 0 0 0 0;\n",
              "      width: 32px;\n",
              "    }\n",
              "\n",
              "    .colab-df-convert:hover {\n",
              "      background-color: #E2EBFA;\n",
              "      box-shadow: 0px 1px 2px rgba(60, 64, 67, 0.3), 0px 1px 3px 1px rgba(60, 64, 67, 0.15);\n",
              "      fill: #174EA6;\n",
              "    }\n",
              "\n",
              "    [theme=dark] .colab-df-convert {\n",
              "      background-color: #3B4455;\n",
              "      fill: #D2E3FC;\n",
              "    }\n",
              "\n",
              "    [theme=dark] .colab-df-convert:hover {\n",
              "      background-color: #434B5C;\n",
              "      box-shadow: 0px 1px 3px 1px rgba(0, 0, 0, 0.15);\n",
              "      filter: drop-shadow(0px 1px 2px rgba(0, 0, 0, 0.3));\n",
              "      fill: #FFFFFF;\n",
              "    }\n",
              "  </style>\n",
              "\n",
              "      <script>\n",
              "        const buttonEl =\n",
              "          document.querySelector('#df-ceb20e36-0417-4466-bf0e-cf5655a8226e button.colab-df-convert');\n",
              "        buttonEl.style.display =\n",
              "          google.colab.kernel.accessAllowed ? 'block' : 'none';\n",
              "\n",
              "        async function convertToInteractive(key) {\n",
              "          const element = document.querySelector('#df-ceb20e36-0417-4466-bf0e-cf5655a8226e');\n",
              "          const dataTable =\n",
              "            await google.colab.kernel.invokeFunction('convertToInteractive',\n",
              "                                                     [key], {});\n",
              "          if (!dataTable) return;\n",
              "\n",
              "          const docLinkHtml = 'Like what you see? Visit the ' +\n",
              "            '<a target=\"_blank\" href=https://colab.research.google.com/notebooks/data_table.ipynb>data table notebook</a>'\n",
              "            + ' to learn more about interactive tables.';\n",
              "          element.innerHTML = '';\n",
              "          dataTable['output_type'] = 'display_data';\n",
              "          await google.colab.output.renderOutput(dataTable, element);\n",
              "          const docLink = document.createElement('div');\n",
              "          docLink.innerHTML = docLinkHtml;\n",
              "          element.appendChild(docLink);\n",
              "        }\n",
              "      </script>\n",
              "    </div>\n",
              "  </div>\n",
              "  "
            ]
          },
          "metadata": {},
          "execution_count": 278
        }
      ]
    },
    {
      "cell_type": "code",
      "source": [
        "DEFP.mean()"
      ],
      "metadata": {
        "colab": {
          "base_uri": "https://localhost:8080/"
        },
        "id": "UEjDDMfp6Ai7",
        "outputId": "59610a23-fb20-47ac-99b2-0545edfc2327"
      },
      "execution_count": 279,
      "outputs": [
        {
          "output_type": "execute_result",
          "data": {
            "text/plain": [
              "Idade                                      35.179829\n",
              "Há quanto anos treina Jiu-Jitsu.           19.029896\n",
              "Está há quanto anos na graduação atual      8.793810\n",
              "dtype: float64"
            ]
          },
          "metadata": {},
          "execution_count": 279
        }
      ]
    },
    {
      "cell_type": "code",
      "source": [
        "Dados[['Idade', 'Bairro']].plot.box()"
      ],
      "metadata": {
        "colab": {
          "base_uri": "https://localhost:8080/",
          "height": 282
        },
        "id": "7k9YrGje245v",
        "outputId": "1352889e-24dd-4776-a55c-dff47bd910e3"
      },
      "execution_count": 280,
      "outputs": [
        {
          "output_type": "execute_result",
          "data": {
            "text/plain": [
              "<matplotlib.axes._subplots.AxesSubplot at 0x7f9fdfcea340>"
            ]
          },
          "metadata": {},
          "execution_count": 280
        },
        {
          "output_type": "display_data",
          "data": {
            "text/plain": [
              "<Figure size 432x288 with 1 Axes>"
            ],
            "image/png": "[encoded data removed]"
          },
          "metadata": {
            "needs_background": "light"
          }
        }
      ]
    },
    {
      "cell_type": "code",
      "source": [
        "DVR.plot.scatter(x=\"Graduação\", y=\"Idade\", alpha=0.9)"
      ],
      "metadata": {
        "colab": {
          "base_uri": "https://localhost:8080/",
          "height": 296
        },
        "id": "BqsPYFQK3oFT",
        "outputId": "0adeb7e5-8b9a-49d7-d41f-3563c59e7b2c"
      },
      "execution_count": 281,
      "outputs": [
        {
          "output_type": "execute_result",
          "data": {
            "text/plain": [
              "<matplotlib.axes._subplots.AxesSubplot at 0x7f9fdfc2c160>"
            ]
          },
          "metadata": {},
          "execution_count": 281
        },
        {
          "output_type": "display_data",
          "data": {
            "text/plain": [
              "<Figure size 432x288 with 1 Axes>"
            ],
            "image/png": "[encoded data removed]"
          },
          "metadata": {
            "needs_background": "light"
          }
        }
      ]
    },
    {
      "cell_type": "code",
      "source": [
        "DVR.plot.scatter(x=\"Graduação\", y=\"Em relação aos treinos, qual a sua frequência ?\", alpha=0.9)"
      ],
      "metadata": {
        "colab": {
          "base_uri": "https://localhost:8080/",
          "height": 306
        },
        "id": "JXYPWdCP5KUz",
        "outputId": "6c382a95-859c-48b7-edd2-77c00e16da7d"
      },
      "execution_count": 282,
      "outputs": [
        {
          "output_type": "execute_result",
          "data": {
            "text/plain": [
              "<matplotlib.axes._subplots.AxesSubplot at 0x7f9fdfbcb0d0>"
            ]
          },
          "metadata": {},
          "execution_count": 282
        },
        {
          "output_type": "display_data",
          "data": {
            "text/plain": [
              "<Figure size 432x288 with 1 Axes>"
            ],
            "image/png": "[encoded data removed]"
          },
          "metadata": {
            "needs_background": "light"
          }
        }
      ]
    },
    {
      "cell_type": "code",
      "source": [],
      "metadata": {
        "id": "sX0vKAIJ-EVU"
      },
      "execution_count": null,
      "outputs": []
    }
  ]
}