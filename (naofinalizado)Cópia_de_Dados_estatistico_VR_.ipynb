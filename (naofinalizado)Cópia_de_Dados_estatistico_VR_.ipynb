{
  "nbformat": 4,
  "nbformat_minor": 0,
  "metadata": {
    "colab": {
      "provenance": [],
      "include_colab_link": true
    },
    "kernelspec": {
      "name": "python3",
      "display_name": "Python 3"
    },
    "language_info": {
      "name": "python"
    }
  },
  "cells": [
    {
      "cell_type": "markdown",
      "metadata": {
        "id": "view-in-github",
        "colab_type": "text"
      },
      "source": [
        "<a href=\"https://colab.research.google.com/github/VitorVarella/trab_pynton/blob/main/(naofinalizado)C%C3%B3pia_de_Dados_estatistico_VR_.ipynb\" target=\"_parent\"><img src=\"https://colab.research.google.com/assets/colab-badge.svg\" alt=\"Open In Colab\"/></a>"
      ]
    },
    {
      "cell_type": "code",
      "execution_count": 815,
      "metadata": {
        "id": "wxqsYTBKifMP"
      },
      "outputs": [],
      "source": [
        "import pandas as pd\n",
        "import matplotlib.pyplot as plt\n",
        "def post_execute():\n",
        " if matplotlib.is_interactive():\n",
        "  draw_all()"
      ]
    },
    {
      "cell_type": "markdown",
      "source": [
        "importando o Data frame "
      ],
      "metadata": {
        "id": "rP7ZNDKZjC_a"
      }
    },
    {
      "cell_type": "code",
      "source": [
        "Dados=pd.read_excel('/content/drive/MyDrive/dados.xlsx')\n",
        "Dados.head()"
      ],
      "metadata": {
        "colab": {
          "base_uri": "https://localhost:8080/",
          "height": 618
        },
        "id": "2BDCddPnjHbf",
        "outputId": "e132d965-90c1-4c05-ca9e-7f732e43be1a"
      },
      "execution_count": 816,
      "outputs": [
        {
          "output_type": "execute_result",
          "data": {
            "text/plain": [
              "     Carimbo de data/hora                   Nome  Idade         Cidade   \\\n",
              "0 2022-10-08 14:04:12.035                wallace     34  Volta Redonda    \n",
              "1 2022-10-08 14:39:58.652                 Daniel     20  Volta Redonda    \n",
              "2 2022-10-08 16:00:06.378        Douglas Adriano     29  Volta Redonda    \n",
              "3 2022-10-08 16:05:28.263          Luiz Anderson     33         Valença   \n",
              "4 2022-10-08 16:12:31.973  Maxwel Dutra de Paula     56  Volta Redonda    \n",
              "\n",
              "           CPF Graduação  Há quanto anos treina Jiu-Jitsu.           Bairro  \\\n",
              "0  05922115766     Preta                                 13             249   \n",
              "1  17793635752      Roxa                                  3  Nova esperança   \n",
              "2  15120923712    Marrom                                 10   Monte castelo   \n",
              "3  13326919786     Preta                                 12       Aparecida   \n",
              "4  84644087734     Preta                                 30      Água limpa   \n",
              "\n",
              "        Sexo  Quanto tempo demorou para obter a graduação atual  \\\n",
              "0  Masculino                                                  7   \n",
              "1  Masculino                                                  2   \n",
              "2  Masculino                                                 10   \n",
              "3  Masculino                                                 12   \n",
              "4  Masculino                                                 19   \n",
              "\n",
              "   Está há quanto anos na graduação atual   \\\n",
              "0                                        5   \n",
              "1                                        1   \n",
              "2                                        2   \n",
              "3                                        2   \n",
              "4                                       11   \n",
              "\n",
              "  Em relação aos treinos, qual a sua frequência ?  \\\n",
              "0                       De 1 a 2 vezes por semana   \n",
              "1                       De 1 a 2 vezes por semana   \n",
              "2                       De 2 a 3 vezes por semana   \n",
              "3                       De 5 a 6 vezes por semana   \n",
              "4                       De 3 a 4 vezes por semana   \n",
              "\n",
              "    Se  você parou de treinar, Qual o foi o motivo ? É  federado.  CPF.1  \n",
              "0                                           Trabalho           Sim   NaN  \n",
              "1                                           Trabalho           Sim   NaN  \n",
              "2  Lesão no treino, Trabalho, Mudança de de cidad...           Não   NaN  \n",
              "3                       Mudança de de cidade/ estado           Sim   NaN  \n",
              "4                                          Não parei           Sim   NaN  "
            ],
            "text/html": [
              "\n",
              "  <div id=\"df-a6bd778e-2d00-4703-a039-7892b7274307\">\n",
              "    <div class=\"colab-df-container\">\n",
              "      <div>\n",
              "<style scoped>\n",
              "    .dataframe tbody tr th:only-of-type {\n",
              "        vertical-align: middle;\n",
              "    }\n",
              "\n",
              "    .dataframe tbody tr th {\n",
              "        vertical-align: top;\n",
              "    }\n",
              "\n",
              "    .dataframe thead th {\n",
              "        text-align: right;\n",
              "    }\n",
              "</style>\n",
              "<table border=\"1\" class=\"dataframe\">\n",
              "  <thead>\n",
              "    <tr style=\"text-align: right;\">\n",
              "      <th></th>\n",
              "      <th>Carimbo de data/hora</th>\n",
              "      <th>Nome</th>\n",
              "      <th>Idade</th>\n",
              "      <th>Cidade</th>\n",
              "      <th>CPF</th>\n",
              "      <th>Graduação</th>\n",
              "      <th>Há quanto anos treina Jiu-Jitsu.</th>\n",
              "      <th>Bairro</th>\n",
              "      <th>Sexo</th>\n",
              "      <th>Quanto tempo demorou para obter a graduação atual</th>\n",
              "      <th>Está há quanto anos na graduação atual</th>\n",
              "      <th>Em relação aos treinos, qual a sua frequência ?</th>\n",
              "      <th>Se  você parou de treinar, Qual o foi o motivo ?</th>\n",
              "      <th>É  federado.</th>\n",
              "      <th>CPF.1</th>\n",
              "    </tr>\n",
              "  </thead>\n",
              "  <tbody>\n",
              "    <tr>\n",
              "      <th>0</th>\n",
              "      <td>2022-10-08 14:04:12.035</td>\n",
              "      <td>wallace</td>\n",
              "      <td>34</td>\n",
              "      <td>Volta Redonda</td>\n",
              "      <td>05922115766</td>\n",
              "      <td>Preta</td>\n",
              "      <td>13</td>\n",
              "      <td>249</td>\n",
              "      <td>Masculino</td>\n",
              "      <td>7</td>\n",
              "      <td>5</td>\n",
              "      <td>De 1 a 2 vezes por semana</td>\n",
              "      <td>Trabalho</td>\n",
              "      <td>Sim</td>\n",
              "      <td>NaN</td>\n",
              "    </tr>\n",
              "    <tr>\n",
              "      <th>1</th>\n",
              "      <td>2022-10-08 14:39:58.652</td>\n",
              "      <td>Daniel</td>\n",
              "      <td>20</td>\n",
              "      <td>Volta Redonda</td>\n",
              "      <td>17793635752</td>\n",
              "      <td>Roxa</td>\n",
              "      <td>3</td>\n",
              "      <td>Nova esperança</td>\n",
              "      <td>Masculino</td>\n",
              "      <td>2</td>\n",
              "      <td>1</td>\n",
              "      <td>De 1 a 2 vezes por semana</td>\n",
              "      <td>Trabalho</td>\n",
              "      <td>Sim</td>\n",
              "      <td>NaN</td>\n",
              "    </tr>\n",
              "    <tr>\n",
              "      <th>2</th>\n",
              "      <td>2022-10-08 16:00:06.378</td>\n",
              "      <td>Douglas Adriano</td>\n",
              "      <td>29</td>\n",
              "      <td>Volta Redonda</td>\n",
              "      <td>15120923712</td>\n",
              "      <td>Marrom</td>\n",
              "      <td>10</td>\n",
              "      <td>Monte castelo</td>\n",
              "      <td>Masculino</td>\n",
              "      <td>10</td>\n",
              "      <td>2</td>\n",
              "      <td>De 2 a 3 vezes por semana</td>\n",
              "      <td>Lesão no treino, Trabalho, Mudança de de cidad...</td>\n",
              "      <td>Não</td>\n",
              "      <td>NaN</td>\n",
              "    </tr>\n",
              "    <tr>\n",
              "      <th>3</th>\n",
              "      <td>2022-10-08 16:05:28.263</td>\n",
              "      <td>Luiz Anderson</td>\n",
              "      <td>33</td>\n",
              "      <td>Valença</td>\n",
              "      <td>13326919786</td>\n",
              "      <td>Preta</td>\n",
              "      <td>12</td>\n",
              "      <td>Aparecida</td>\n",
              "      <td>Masculino</td>\n",
              "      <td>12</td>\n",
              "      <td>2</td>\n",
              "      <td>De 5 a 6 vezes por semana</td>\n",
              "      <td>Mudança de de cidade/ estado</td>\n",
              "      <td>Sim</td>\n",
              "      <td>NaN</td>\n",
              "    </tr>\n",
              "    <tr>\n",
              "      <th>4</th>\n",
              "      <td>2022-10-08 16:12:31.973</td>\n",
              "      <td>Maxwel Dutra de Paula</td>\n",
              "      <td>56</td>\n",
              "      <td>Volta Redonda</td>\n",
              "      <td>84644087734</td>\n",
              "      <td>Preta</td>\n",
              "      <td>30</td>\n",
              "      <td>Água limpa</td>\n",
              "      <td>Masculino</td>\n",
              "      <td>19</td>\n",
              "      <td>11</td>\n",
              "      <td>De 3 a 4 vezes por semana</td>\n",
              "      <td>Não parei</td>\n",
              "      <td>Sim</td>\n",
              "      <td>NaN</td>\n",
              "    </tr>\n",
              "  </tbody>\n",
              "</table>\n",
              "</div>\n",
              "      <button class=\"colab-df-convert\" onclick=\"convertToInteractive('df-a6bd778e-2d00-4703-a039-7892b7274307')\"\n",
              "              title=\"Convert this dataframe to an interactive table.\"\n",
              "              style=\"display:none;\">\n",
              "        \n",
              "  <svg xmlns=\"http://www.w3.org/2000/svg\" height=\"24px\"viewBox=\"0 0 24 24\"\n",
              "       width=\"24px\">\n",
              "    <path d=\"M0 0h24v24H0V0z\" fill=\"none\"/>\n",
              "    <path d=\"M18.56 5.44l.94 2.06.94-2.06 2.06-.94-2.06-.94-.94-2.06-.94 2.06-2.06.94zm-11 1L8.5 8.5l.94-2.06 2.06-.94-2.06-.94L8.5 2.5l-.94 2.06-2.06.94zm10 10l.94 2.06.94-2.06 2.06-.94-2.06-.94-.94-2.06-.94 2.06-2.06.94z\"/><path d=\"M17.41 7.96l-1.37-1.37c-.4-.4-.92-.59-1.43-.59-.52 0-1.04.2-1.43.59L10.3 9.45l-7.72 7.72c-.78.78-.78 2.05 0 2.83L4 21.41c.39.39.9.59 1.41.59.51 0 1.02-.2 1.41-.59l7.78-7.78 2.81-2.81c.8-.78.8-2.07 0-2.86zM5.41 20L4 18.59l7.72-7.72 1.47 1.35L5.41 20z\"/>\n",
              "  </svg>\n",
              "      </button>\n",
              "      \n",
              "  <style>\n",
              "    .colab-df-container {\n",
              "      display:flex;\n",
              "      flex-wrap:wrap;\n",
              "      gap: 12px;\n",
              "    }\n",
              "\n",
              "    .colab-df-convert {\n",
              "      background-color: #E8F0FE;\n",
              "      border: none;\n",
              "      border-radius: 50%;\n",
              "      cursor: pointer;\n",
              "      display: none;\n",
              "      fill: #1967D2;\n",
              "      height: 32px;\n",
              "      padding: 0 0 0 0;\n",
              "      width: 32px;\n",
              "    }\n",
              "\n",
              "    .colab-df-convert:hover {\n",
              "      background-color: #E2EBFA;\n",
              "      box-shadow: 0px 1px 2px rgba(60, 64, 67, 0.3), 0px 1px 3px 1px rgba(60, 64, 67, 0.15);\n",
              "      fill: #174EA6;\n",
              "    }\n",
              "\n",
              "    [theme=dark] .colab-df-convert {\n",
              "      background-color: #3B4455;\n",
              "      fill: #D2E3FC;\n",
              "    }\n",
              "\n",
              "    [theme=dark] .colab-df-convert:hover {\n",
              "      background-color: #434B5C;\n",
              "      box-shadow: 0px 1px 3px 1px rgba(0, 0, 0, 0.15);\n",
              "      filter: drop-shadow(0px 1px 2px rgba(0, 0, 0, 0.3));\n",
              "      fill: #FFFFFF;\n",
              "    }\n",
              "  </style>\n",
              "\n",
              "      <script>\n",
              "        const buttonEl =\n",
              "          document.querySelector('#df-a6bd778e-2d00-4703-a039-7892b7274307 button.colab-df-convert');\n",
              "        buttonEl.style.display =\n",
              "          google.colab.kernel.accessAllowed ? 'block' : 'none';\n",
              "\n",
              "        async function convertToInteractive(key) {\n",
              "          const element = document.querySelector('#df-a6bd778e-2d00-4703-a039-7892b7274307');\n",
              "          const dataTable =\n",
              "            await google.colab.kernel.invokeFunction('convertToInteractive',\n",
              "                                                     [key], {});\n",
              "          if (!dataTable) return;\n",
              "\n",
              "          const docLinkHtml = 'Like what you see? Visit the ' +\n",
              "            '<a target=\"_blank\" href=https://colab.research.google.com/notebooks/data_table.ipynb>data table notebook</a>'\n",
              "            + ' to learn more about interactive tables.';\n",
              "          element.innerHTML = '';\n",
              "          dataTable['output_type'] = 'display_data';\n",
              "          await google.colab.output.renderOutput(dataTable, element);\n",
              "          const docLink = document.createElement('div');\n",
              "          docLink.innerHTML = docLinkHtml;\n",
              "          element.appendChild(docLink);\n",
              "        }\n",
              "      </script>\n",
              "    </div>\n",
              "  </div>\n",
              "  "
            ]
          },
          "metadata": {},
          "execution_count": 816
        }
      ]
    },
    {
      "cell_type": "markdown",
      "source": [
        "Responta por cidade \n"
      ],
      "metadata": {
        "id": "7XuQmsaLkFZb"
      }
    },
    {
      "cell_type": "code",
      "source": [
        "DPC = Dados.groupby('Cidade ').size()\n",
        "display(DPC)"
      ],
      "metadata": {
        "colab": {
          "base_uri": "https://localhost:8080/",
          "height": 356
        },
        "id": "1nczpvFTkK5F",
        "outputId": "6673d71c-0a60-454f-b7f2-caf70286d4ef"
      },
      "execution_count": 817,
      "outputs": [
        {
          "output_type": "display_data",
          "data": {
            "text/plain": [
              "Cidade \n",
              "Angra dos reis       1\n",
              "Barra do Piraí       7\n",
              "Barra mansa         10\n",
              "Mendes               5\n",
              "Miguel Pereira       2\n",
              "Pinheiral            8\n",
              "Piraí                1\n",
              "Resende              4\n",
              "Resende RJ           1\n",
              "Valença              1\n",
              "Vassouras            5\n",
              "Vassouras            1\n",
              "Volta Redonda        2\n",
              "Volta Redonda        1\n",
              "Volta Redonda      107\n",
              "Volta redonda        1\n",
              "Volta redonda        1\n",
              "dtype: int64"
            ]
          },
          "metadata": {}
        }
      ]
    },
    {
      "cell_type": "code",
      "source": [
        "Dados['Cidade '].unique()"
      ],
      "metadata": {
        "colab": {
          "base_uri": "https://localhost:8080/"
        },
        "id": "1iVo1ED2lS1z",
        "outputId": "469aaf7e-0041-49ff-fd02-34d90a3ff551"
      },
      "execution_count": 818,
      "outputs": [
        {
          "output_type": "execute_result",
          "data": {
            "text/plain": [
              "array(['Volta Redonda\\xa0', 'Valença', 'Barra mansa\\xa0', 'Pinheiral',\n",
              "       'Vassouras', 'Barra do Piraí', 'Miguel Pereira', 'Resende',\n",
              "       'Volta Redonda', 'Angra dos reis ', 'Piraí', 'Mendes',\n",
              "       'Volta redonda', 'Resende RJ ', 'Vassouras ', 'Volta Redonda ',\n",
              "       'Volta redonda '], dtype=object)"
            ]
          },
          "metadata": {},
          "execution_count": 818
        }
      ]
    },
    {
      "cell_type": "markdown",
      "source": [
        "Na aplicação do questionário, obtivemos respota de forma com  o nome da cidade escrita de forma diferente. Precimaos tratar os dados. Vamos usar  a função replace  para tratar os dados. "
      ],
      "metadata": {
        "id": "AB2wnPlzmYU0"
      }
    },
    {
      "cell_type": "code",
      "source": [
        "Dados['Cidade '] = Dados['Cidade '].apply(lambda x: str(x).replace('Volta redonda','Volta Redonda'))\n",
        "DPC =Dados.groupby('Cidade ').size()"
      ],
      "metadata": {
        "id": "13hloS0LsI3b"
      },
      "execution_count": 819,
      "outputs": []
    },
    {
      "cell_type": "code",
      "source": [
        "Dados['Cidade '] = Dados['Cidade '].apply(lambda x: str(x).replace('Volta Redonda ','Volta Redonda'))\n",
        "DPC =Dados.groupby('Cidade ').size()"
      ],
      "metadata": {
        "id": "HE45eswatfcj"
      },
      "execution_count": 820,
      "outputs": []
    },
    {
      "cell_type": "code",
      "source": [
        "Dados['Cidade '] = Dados['Cidade '].apply(lambda x: str(x).replace('Volta redonda ','Volta Redonda'))\n",
        "DPC =Dados.groupby('Cidade ').size()"
      ],
      "metadata": {
        "id": "Zkhj1rErsbSA"
      },
      "execution_count": 821,
      "outputs": []
    },
    {
      "cell_type": "code",
      "source": [
        "Dados['Cidade '] = Dados['Cidade '].apply(lambda x: str(x).replace('Volta redonda','Volta Redonda'))\n",
        "DPC =Dados.groupby('Cidade ').size()"
      ],
      "metadata": {
        "id": "bZmJ7is-uUFQ"
      },
      "execution_count": 822,
      "outputs": []
    },
    {
      "cell_type": "code",
      "source": [
        "Dados['Cidade '] = Dados['Cidade '].apply(lambda x: str(x).replace('Vassouras ','Vassouras'))\n",
        "DPC =Dados.groupby('Cidade ').size()"
      ],
      "metadata": {
        "id": "MJ5CGZg2uv5z"
      },
      "execution_count": 823,
      "outputs": []
    },
    {
      "cell_type": "code",
      "source": [
        "Dados['Cidade '] = Dados['Cidade '].apply(lambda x: str(x).replace('Resende RJ ','Resende'))\n",
        "DPC =Dados.groupby('Cidade ').size()"
      ],
      "metadata": {
        "id": "pAkHQECRu4Yl"
      },
      "execution_count": 824,
      "outputs": []
    },
    {
      "cell_type": "code",
      "source": [
        "Dados['Cidade '] = Dados['Cidade '].apply(lambda x: str(x).replace('Volta Redonda\\xa0','Volta Redonda'))\n",
        "DPC =Dados.groupby('Cidade ').size()\n",
        "display(DPC)"
      ],
      "metadata": {
        "colab": {
          "base_uri": "https://localhost:8080/",
          "height": 249
        },
        "id": "gl1mgIZVna9r",
        "outputId": "e93b14fb-d61b-4b5d-ced2-54c40f635a34"
      },
      "execution_count": 825,
      "outputs": [
        {
          "output_type": "display_data",
          "data": {
            "text/plain": [
              "Cidade \n",
              "Angra dos reis       1\n",
              "Barra do Piraí       7\n",
              "Barra mansa         10\n",
              "Mendes               5\n",
              "Miguel Pereira       2\n",
              "Pinheiral            8\n",
              "Piraí                1\n",
              "Resende              5\n",
              "Valença              1\n",
              "Vassouras            6\n",
              "Volta Redonda      112\n",
              "dtype: int64"
            ]
          },
          "metadata": {}
        }
      ]
    },
    {
      "cell_type": "code",
      "source": [
        "Dados['Cidade '].unique()\n"
      ],
      "metadata": {
        "colab": {
          "base_uri": "https://localhost:8080/"
        },
        "id": "PHzXH4pbpRcb",
        "outputId": "8f36a17b-3c74-44a5-c7c5-eaf16e47e678"
      },
      "execution_count": 826,
      "outputs": [
        {
          "output_type": "execute_result",
          "data": {
            "text/plain": [
              "array(['Volta Redonda', 'Valença', 'Barra mansa\\xa0', 'Pinheiral',\n",
              "       'Vassouras', 'Barra do Piraí', 'Miguel Pereira', 'Resende',\n",
              "       'Angra dos reis ', 'Piraí', 'Mendes'], dtype=object)"
            ]
          },
          "metadata": {},
          "execution_count": 826
        }
      ]
    },
    {
      "cell_type": "code",
      "source": [
        "Dados.groupby('Graduação').size()"
      ],
      "metadata": {
        "colab": {
          "base_uri": "https://localhost:8080/"
        },
        "id": "VhejJgq4xo-g",
        "outputId": "22e9be20-8aaf-48d8-89de-69a3a1e6b99b"
      },
      "execution_count": 827,
      "outputs": [
        {
          "output_type": "execute_result",
          "data": {
            "text/plain": [
              "Graduação\n",
              " Roxa      1\n",
              "Azul      38\n",
              "Branca    30\n",
              "Marrom    16\n",
              "Preta     48\n",
              "Roxa      24\n",
              "Verde      1\n",
              "dtype: int64"
            ]
          },
          "metadata": {},
          "execution_count": 827
        }
      ]
    },
    {
      "cell_type": "code",
      "source": [
        "Dados['Graduação'] = Dados['Graduação'].apply(lambda x: str(x).replace(' Roxa','Roxa'))"
      ],
      "metadata": {
        "id": "0zSrY0fL99Bn"
      },
      "execution_count": 828,
      "outputs": []
    },
    {
      "cell_type": "code",
      "source": [
        "Dados.groupby('Graduação').size()"
      ],
      "metadata": {
        "colab": {
          "base_uri": "https://localhost:8080/"
        },
        "id": "iXnLpSdMyCcb",
        "outputId": "42cb2b31-fabc-41f1-971b-c103e871821b"
      },
      "execution_count": 829,
      "outputs": [
        {
          "output_type": "execute_result",
          "data": {
            "text/plain": [
              "Graduação\n",
              "Azul      38\n",
              "Branca    30\n",
              "Marrom    16\n",
              "Preta     48\n",
              "Roxa      25\n",
              "Verde      1\n",
              "dtype: int64"
            ]
          },
          "metadata": {},
          "execution_count": 829
        }
      ]
    },
    {
      "cell_type": "markdown",
      "source": [
        "Vamos salvar os data frame  trato com a escrita Volta Redonda correta. "
      ],
      "metadata": {
        "id": "62rOH8vErIU-"
      }
    },
    {
      "cell_type": "code",
      "source": [
        "Dados.to_excel(\"Dados_alterado.xlsx\")"
      ],
      "metadata": {
        "id": "h08RlNhQrTOF"
      },
      "execution_count": 830,
      "outputs": []
    },
    {
      "cell_type": "markdown",
      "source": [
        "Vamos selecionar so os dados de Volta Redonda pois onde se obtever maior amostragem. \n"
      ],
      "metadata": {
        "id": "0zZF3cj9s-0W"
      }
    },
    {
      "cell_type": "code",
      "source": [
        "DVR=Dados[Dados['Cidade ']=='Volta Redonda']#Selecionando so os praticante de VR. \n",
        "DVR.to_excel(\"DadosVR.xlsx\")\n",
        "DVR.head()"
      ],
      "metadata": {
        "id": "DoXoMQjqvx1j",
        "colab": {
          "base_uri": "https://localhost:8080/",
          "height": 670
        },
        "outputId": "f9f8606b-e5ca-4a6b-862e-c616a5ac5915"
      },
      "execution_count": 831,
      "outputs": [
        {
          "output_type": "execute_result",
          "data": {
            "text/plain": [
              "     Carimbo de data/hora                    Nome  Idade        Cidade   \\\n",
              "0 2022-10-08 14:04:12.035                 wallace     34  Volta Redonda   \n",
              "1 2022-10-08 14:39:58.652                  Daniel     20  Volta Redonda   \n",
              "2 2022-10-08 16:00:06.378         Douglas Adriano     29  Volta Redonda   \n",
              "4 2022-10-08 16:12:31.973   Maxwel Dutra de Paula     56  Volta Redonda   \n",
              "6 2022-10-08 16:22:33.018  Rodrigo Soares Da Cruz     40  Volta Redonda   \n",
              "\n",
              "           CPF Graduação  Há quanto anos treina Jiu-Jitsu.           Bairro  \\\n",
              "0  05922115766     Preta                                 13             249   \n",
              "1  17793635752      Roxa                                  3  Nova esperança   \n",
              "2  15120923712    Marrom                                 10   Monte castelo   \n",
              "4  84644087734     Preta                                 30      Água limpa   \n",
              "6  10600318761     Preta                                 22     Sao Geraldo   \n",
              "\n",
              "        Sexo  Quanto tempo demorou para obter a graduação atual  \\\n",
              "0  Masculino                                                  7   \n",
              "1  Masculino                                                  2   \n",
              "2  Masculino                                                 10   \n",
              "4  Masculino                                                 19   \n",
              "6  Masculino                                                 19   \n",
              "\n",
              "   Está há quanto anos na graduação atual   \\\n",
              "0                                        5   \n",
              "1                                        1   \n",
              "2                                        2   \n",
              "4                                       11   \n",
              "6                                        3   \n",
              "\n",
              "  Em relação aos treinos, qual a sua frequência ?  \\\n",
              "0                       De 1 a 2 vezes por semana   \n",
              "1                       De 1 a 2 vezes por semana   \n",
              "2                       De 2 a 3 vezes por semana   \n",
              "4                       De 3 a 4 vezes por semana   \n",
              "6                       De 3 a 4 vezes por semana   \n",
              "\n",
              "    Se  você parou de treinar, Qual o foi o motivo ? É  federado.  CPF.1  \n",
              "0                                           Trabalho           Sim   NaN  \n",
              "1                                           Trabalho           Sim   NaN  \n",
              "2  Lesão no treino, Trabalho, Mudança de de cidad...           Não   NaN  \n",
              "4                                          Não parei           Sim   NaN  \n",
              "6   Horários, Trabalho, Mudança de de cidade/ estado           Sim   NaN  "
            ],
            "text/html": [
              "\n",
              "  <div id=\"df-bc06f83f-7836-4851-b3ec-f71cb761a9c0\">\n",
              "    <div class=\"colab-df-container\">\n",
              "      <div>\n",
              "<style scoped>\n",
              "    .dataframe tbody tr th:only-of-type {\n",
              "        vertical-align: middle;\n",
              "    }\n",
              "\n",
              "    .dataframe tbody tr th {\n",
              "        vertical-align: top;\n",
              "    }\n",
              "\n",
              "    .dataframe thead th {\n",
              "        text-align: right;\n",
              "    }\n",
              "</style>\n",
              "<table border=\"1\" class=\"dataframe\">\n",
              "  <thead>\n",
              "    <tr style=\"text-align: right;\">\n",
              "      <th></th>\n",
              "      <th>Carimbo de data/hora</th>\n",
              "      <th>Nome</th>\n",
              "      <th>Idade</th>\n",
              "      <th>Cidade</th>\n",
              "      <th>CPF</th>\n",
              "      <th>Graduação</th>\n",
              "      <th>Há quanto anos treina Jiu-Jitsu.</th>\n",
              "      <th>Bairro</th>\n",
              "      <th>Sexo</th>\n",
              "      <th>Quanto tempo demorou para obter a graduação atual</th>\n",
              "      <th>Está há quanto anos na graduação atual</th>\n",
              "      <th>Em relação aos treinos, qual a sua frequência ?</th>\n",
              "      <th>Se  você parou de treinar, Qual o foi o motivo ?</th>\n",
              "      <th>É  federado.</th>\n",
              "      <th>CPF.1</th>\n",
              "    </tr>\n",
              "  </thead>\n",
              "  <tbody>\n",
              "    <tr>\n",
              "      <th>0</th>\n",
              "      <td>2022-10-08 14:04:12.035</td>\n",
              "      <td>wallace</td>\n",
              "      <td>34</td>\n",
              "      <td>Volta Redonda</td>\n",
              "      <td>05922115766</td>\n",
              "      <td>Preta</td>\n",
              "      <td>13</td>\n",
              "      <td>249</td>\n",
              "      <td>Masculino</td>\n",
              "      <td>7</td>\n",
              "      <td>5</td>\n",
              "      <td>De 1 a 2 vezes por semana</td>\n",
              "      <td>Trabalho</td>\n",
              "      <td>Sim</td>\n",
              "      <td>NaN</td>\n",
              "    </tr>\n",
              "    <tr>\n",
              "      <th>1</th>\n",
              "      <td>2022-10-08 14:39:58.652</td>\n",
              "      <td>Daniel</td>\n",
              "      <td>20</td>\n",
              "      <td>Volta Redonda</td>\n",
              "      <td>17793635752</td>\n",
              "      <td>Roxa</td>\n",
              "      <td>3</td>\n",
              "      <td>Nova esperança</td>\n",
              "      <td>Masculino</td>\n",
              "      <td>2</td>\n",
              "      <td>1</td>\n",
              "      <td>De 1 a 2 vezes por semana</td>\n",
              "      <td>Trabalho</td>\n",
              "      <td>Sim</td>\n",
              "      <td>NaN</td>\n",
              "    </tr>\n",
              "    <tr>\n",
              "      <th>2</th>\n",
              "      <td>2022-10-08 16:00:06.378</td>\n",
              "      <td>Douglas Adriano</td>\n",
              "      <td>29</td>\n",
              "      <td>Volta Redonda</td>\n",
              "      <td>15120923712</td>\n",
              "      <td>Marrom</td>\n",
              "      <td>10</td>\n",
              "      <td>Monte castelo</td>\n",
              "      <td>Masculino</td>\n",
              "      <td>10</td>\n",
              "      <td>2</td>\n",
              "      <td>De 2 a 3 vezes por semana</td>\n",
              "      <td>Lesão no treino, Trabalho, Mudança de de cidad...</td>\n",
              "      <td>Não</td>\n",
              "      <td>NaN</td>\n",
              "    </tr>\n",
              "    <tr>\n",
              "      <th>4</th>\n",
              "      <td>2022-10-08 16:12:31.973</td>\n",
              "      <td>Maxwel Dutra de Paula</td>\n",
              "      <td>56</td>\n",
              "      <td>Volta Redonda</td>\n",
              "      <td>84644087734</td>\n",
              "      <td>Preta</td>\n",
              "      <td>30</td>\n",
              "      <td>Água limpa</td>\n",
              "      <td>Masculino</td>\n",
              "      <td>19</td>\n",
              "      <td>11</td>\n",
              "      <td>De 3 a 4 vezes por semana</td>\n",
              "      <td>Não parei</td>\n",
              "      <td>Sim</td>\n",
              "      <td>NaN</td>\n",
              "    </tr>\n",
              "    <tr>\n",
              "      <th>6</th>\n",
              "      <td>2022-10-08 16:22:33.018</td>\n",
              "      <td>Rodrigo Soares Da Cruz</td>\n",
              "      <td>40</td>\n",
              "      <td>Volta Redonda</td>\n",
              "      <td>10600318761</td>\n",
              "      <td>Preta</td>\n",
              "      <td>22</td>\n",
              "      <td>Sao Geraldo</td>\n",
              "      <td>Masculino</td>\n",
              "      <td>19</td>\n",
              "      <td>3</td>\n",
              "      <td>De 3 a 4 vezes por semana</td>\n",
              "      <td>Horários, Trabalho, Mudança de de cidade/ estado</td>\n",
              "      <td>Sim</td>\n",
              "      <td>NaN</td>\n",
              "    </tr>\n",
              "  </tbody>\n",
              "</table>\n",
              "</div>\n",
              "      <button class=\"colab-df-convert\" onclick=\"convertToInteractive('df-bc06f83f-7836-4851-b3ec-f71cb761a9c0')\"\n",
              "              title=\"Convert this dataframe to an interactive table.\"\n",
              "              style=\"display:none;\">\n",
              "        \n",
              "  <svg xmlns=\"http://www.w3.org/2000/svg\" height=\"24px\"viewBox=\"0 0 24 24\"\n",
              "       width=\"24px\">\n",
              "    <path d=\"M0 0h24v24H0V0z\" fill=\"none\"/>\n",
              "    <path d=\"M18.56 5.44l.94 2.06.94-2.06 2.06-.94-2.06-.94-.94-2.06-.94 2.06-2.06.94zm-11 1L8.5 8.5l.94-2.06 2.06-.94-2.06-.94L8.5 2.5l-.94 2.06-2.06.94zm10 10l.94 2.06.94-2.06 2.06-.94-2.06-.94-.94-2.06-.94 2.06-2.06.94z\"/><path d=\"M17.41 7.96l-1.37-1.37c-.4-.4-.92-.59-1.43-.59-.52 0-1.04.2-1.43.59L10.3 9.45l-7.72 7.72c-.78.78-.78 2.05 0 2.83L4 21.41c.39.39.9.59 1.41.59.51 0 1.02-.2 1.41-.59l7.78-7.78 2.81-2.81c.8-.78.8-2.07 0-2.86zM5.41 20L4 18.59l7.72-7.72 1.47 1.35L5.41 20z\"/>\n",
              "  </svg>\n",
              "      </button>\n",
              "      \n",
              "  <style>\n",
              "    .colab-df-container {\n",
              "      display:flex;\n",
              "      flex-wrap:wrap;\n",
              "      gap: 12px;\n",
              "    }\n",
              "\n",
              "    .colab-df-convert {\n",
              "      background-color: #E8F0FE;\n",
              "      border: none;\n",
              "      border-radius: 50%;\n",
              "      cursor: pointer;\n",
              "      display: none;\n",
              "      fill: #1967D2;\n",
              "      height: 32px;\n",
              "      padding: 0 0 0 0;\n",
              "      width: 32px;\n",
              "    }\n",
              "\n",
              "    .colab-df-convert:hover {\n",
              "      background-color: #E2EBFA;\n",
              "      box-shadow: 0px 1px 2px rgba(60, 64, 67, 0.3), 0px 1px 3px 1px rgba(60, 64, 67, 0.15);\n",
              "      fill: #174EA6;\n",
              "    }\n",
              "\n",
              "    [theme=dark] .colab-df-convert {\n",
              "      background-color: #3B4455;\n",
              "      fill: #D2E3FC;\n",
              "    }\n",
              "\n",
              "    [theme=dark] .colab-df-convert:hover {\n",
              "      background-color: #434B5C;\n",
              "      box-shadow: 0px 1px 3px 1px rgba(0, 0, 0, 0.15);\n",
              "      filter: drop-shadow(0px 1px 2px rgba(0, 0, 0, 0.3));\n",
              "      fill: #FFFFFF;\n",
              "    }\n",
              "  </style>\n",
              "\n",
              "      <script>\n",
              "        const buttonEl =\n",
              "          document.querySelector('#df-bc06f83f-7836-4851-b3ec-f71cb761a9c0 button.colab-df-convert');\n",
              "        buttonEl.style.display =\n",
              "          google.colab.kernel.accessAllowed ? 'block' : 'none';\n",
              "\n",
              "        async function convertToInteractive(key) {\n",
              "          const element = document.querySelector('#df-bc06f83f-7836-4851-b3ec-f71cb761a9c0');\n",
              "          const dataTable =\n",
              "            await google.colab.kernel.invokeFunction('convertToInteractive',\n",
              "                                                     [key], {});\n",
              "          if (!dataTable) return;\n",
              "\n",
              "          const docLinkHtml = 'Like what you see? Visit the ' +\n",
              "            '<a target=\"_blank\" href=https://colab.research.google.com/notebooks/data_table.ipynb>data table notebook</a>'\n",
              "            + ' to learn more about interactive tables.';\n",
              "          element.innerHTML = '';\n",
              "          dataTable['output_type'] = 'display_data';\n",
              "          await google.colab.output.renderOutput(dataTable, element);\n",
              "          const docLink = document.createElement('div');\n",
              "          docLink.innerHTML = docLinkHtml;\n",
              "          element.appendChild(docLink);\n",
              "        }\n",
              "      </script>\n",
              "    </div>\n",
              "  </div>\n",
              "  "
            ]
          },
          "metadata": {},
          "execution_count": 831
        }
      ]
    },
    {
      "cell_type": "markdown",
      "source": [
        "Vamoas começar com os dados estatistico."
      ],
      "metadata": {
        "id": "gYM4m5Wtw4rq"
      }
    },
    {
      "cell_type": "code",
      "source": [
        "DPG = DVR.groupby('Graduação').size()\n",
        "display(DPG)\n",
        "DPG.to_excel(\"DPG.xlsx\")"
      ],
      "metadata": {
        "colab": {
          "base_uri": "https://localhost:8080/",
          "height": 160
        },
        "id": "LM5gpIE0zEM4",
        "outputId": "7a8cb746-c2c9-4164-e6f5-764d631bc0c4"
      },
      "execution_count": 832,
      "outputs": [
        {
          "output_type": "display_data",
          "data": {
            "text/plain": [
              "Graduação\n",
              "Azul      30\n",
              "Branca    20\n",
              "Marrom     9\n",
              "Preta     31\n",
              "Roxa      21\n",
              "Verde      1\n",
              "dtype: int64"
            ]
          },
          "metadata": {}
        }
      ]
    },
    {
      "cell_type": "code",
      "source": [
        "DVR.groupby('Bairro').size()"
      ],
      "metadata": {
        "colab": {
          "base_uri": "https://localhost:8080/"
        },
        "id": "icrIGV5TGxHR",
        "outputId": "722b0636-db0f-42a4-8947-e4b808d24382"
      },
      "execution_count": 833,
      "outputs": [
        {
          "output_type": "execute_result",
          "data": {
            "text/plain": [
              "Bairro\n",
              "249                 1\n",
              "Agua limpa          1\n",
              "Aterrado           12\n",
              "Açude 1             1\n",
              "Açude 2             1\n",
              "                   ..\n",
              "Volta grande 1      1\n",
              "Volta grande 3      1\n",
              "santo agostinho     1\n",
              "Água Limpa          2\n",
              "Água limpa          5\n",
              "Length: 72, dtype: int64"
            ]
          },
          "metadata": {},
          "execution_count": 833
        }
      ]
    },
    {
      "cell_type": "code",
      "source": [
        "DVR.groupby('Bairro').size().plot(kind='bar', figsize=(16,6), colormap='Blues_r') #Selicionando os bairros. "
      ],
      "metadata": {
        "colab": {
          "base_uri": "https://localhost:8080/",
          "height": 530
        },
        "id": "I5vUiPrJ1GxO",
        "outputId": "99e72bce-a76d-4e24-8f98-eab4aa858be6"
      },
      "execution_count": 834,
      "outputs": [
        {
          "output_type": "execute_result",
          "data": {
            "text/plain": [
              "<matplotlib.axes._subplots.AxesSubplot at 0x7fefbac02310>"
            ]
          },
          "metadata": {},
          "execution_count": 834
        },
        {
          "output_type": "display_data",
          "data": {
            "text/plain": [
              "<Figure size 1152x432 with 1 Axes>"
            ],
            "image/png": "[encoded data removed]"
          },
          "metadata": {
            "needs_background": "light"
          }
        }
      ]
    },
    {
      "cell_type": "code",
      "source": [
        "DVR['Bairro'] = DVR['Bairro'].apply(lambda x: str(x).replace('Vila Rica tira-dentes','Vila Rica Tiradentes'))"
      ],
      "metadata": {
        "colab": {
          "base_uri": "https://localhost:8080/"
        },
        "id": "YLzLcf0gF-_N",
        "outputId": "284e4428-878e-4921-995e-af153bc9630e"
      },
      "execution_count": 889,
      "outputs": [
        {
          "output_type": "stream",
          "name": "stderr",
          "text": [
            "/usr/local/lib/python3.7/dist-packages/ipykernel_launcher.py:1: SettingWithCopyWarning: \n",
            "A value is trying to be set on a copy of a slice from a DataFrame.\n",
            "Try using .loc[row_indexer,col_indexer] = value instead\n",
            "\n",
            "See the caveats in the documentation: https://pandas.pydata.org/pandas-docs/stable/user_guide/indexing.html#returning-a-view-versus-a-copy\n",
            "  \"\"\"Entry point for launching an IPython kernel.\n"
          ]
        }
      ]
    },
    {
      "cell_type": "code",
      "source": [
        "DVR['Bairro'] = DVR['Bairro'].apply(lambda x: str(x).replace('São lucas','São Lucas'))"
      ],
      "metadata": {
        "id": "hCSFEr0jFrzf"
      },
      "execution_count": null,
      "outputs": []
    },
    {
      "cell_type": "code",
      "source": [
        "DVR['Bairro'] = DVR['Bairro'].apply(lambda x: str(x).replace('São luis','São Luís'))"
      ],
      "metadata": {
        "id": "ZO2HwAmWFdvw"
      },
      "execution_count": null,
      "outputs": []
    },
    {
      "cell_type": "code",
      "source": [
        "DVR['Bairro'] = DVR['Bairro'].apply(lambda x: str(x).replace('santo agostinho','Santo Agostinho'))"
      ],
      "metadata": {
        "id": "Z7Q8qmpNFSgH"
      },
      "execution_count": null,
      "outputs": []
    },
    {
      "cell_type": "code",
      "source": [
        "DVR['Bairro'] = DVR['Bairro'].apply(lambda x: str(x).replace('Retiro ','Retiro'))"
      ],
      "metadata": {
        "id": "qANC6w1hFJmE"
      },
      "execution_count": null,
      "outputs": []
    },
    {
      "cell_type": "code",
      "source": [
        "DVR['Bairro'] = DVR['Bairro'].apply(lambda x: str(x).replace('Morada da colina','Morada da Colina'))"
      ],
      "metadata": {
        "id": "tx99jetRE-cA"
      },
      "execution_count": null,
      "outputs": []
    },
    {
      "cell_type": "code",
      "source": [
        "DVR['Bairro'] = DVR['Bairro'].apply(lambda x: str(x).replace('Monte Castelo ','Monte Castelo'))"
      ],
      "metadata": {
        "id": "Jk0z9NEFExCE"
      },
      "execution_count": null,
      "outputs": []
    },
    {
      "cell_type": "code",
      "source": [
        "DVR['Bairro'] = DVR['Bairro'].apply(lambda x: str(x).replace('Agua limpa','Agua Limpa'))"
      ],
      "metadata": {
        "id": "Em0U03VrBlrV"
      },
      "execution_count": null,
      "outputs": []
    },
    {
      "cell_type": "code",
      "source": [
        "DVR['Bairro'] = DVR['Bairro'].apply(lambda x: str(x).replace('Volta grande','Volta Grande'))"
      ],
      "metadata": {
        "id": "NsEmovWGCHJ-"
      },
      "execution_count": null,
      "outputs": []
    },
    {
      "cell_type": "code",
      "source": [
        "DVR['Bairro'] = DVR['Bairro'].apply(lambda x: str(x).replace('Jardim belvedere','Jardim Belvedere'))"
      ],
      "metadata": {
        "id": "Uzd38ouLCehM"
      },
      "execution_count": null,
      "outputs": []
    },
    {
      "cell_type": "code",
      "source": [
        "DVR['Bairro'] = DVR['Bairro'].apply(lambda x: str(x).replace('Santa cruz','Santa Cruz'))"
      ],
      "metadata": {
        "id": "YbQsd_6bC3Re"
      },
      "execution_count": null,
      "outputs": []
    },
    {
      "cell_type": "code",
      "source": [
        "DVR['Bairro'] = DVR['Bairro'].apply(lambda x: str(x).replace('Vila rica','Vila Rica'))"
      ],
      "metadata": {
        "id": "4Kjs6mUmDxYw"
      },
      "execution_count": null,
      "outputs": []
    },
    {
      "cell_type": "code",
      "source": [
        "DVR.groupby('Bairro').size().plot(kind='bar', figsize=(16,6), colormap='Blues_r') #Selicionando os bairros. "
      ],
      "metadata": {
        "colab": {
          "base_uri": "https://localhost:8080/",
          "height": 530
        },
        "id": "qodYy6Z_6Jib",
        "outputId": "78fcf3a7-dd58-4acc-aad8-e7ca642b7987"
      },
      "execution_count": 890,
      "outputs": [
        {
          "output_type": "execute_result",
          "data": {
            "text/plain": [
              "<matplotlib.axes._subplots.AxesSubplot at 0x7fefb9d48650>"
            ]
          },
          "metadata": {},
          "execution_count": 890
        },
        {
          "output_type": "display_data",
          "data": {
            "text/plain": [
              "<Figure size 1152x432 with 1 Axes>"
            ],
            "image/png": "[encoded data removed]"
          },
          "metadata": {
            "needs_background": "light"
          }
        }
      ]
    },
    {
      "cell_type": "code",
      "source": [
        "DVR.to_excel(\"DVRbairro.xlsx\")"
      ],
      "metadata": {
        "id": "ApVy6PxJ-SMv"
      },
      "execution_count": 891,
      "outputs": []
    },
    {
      "cell_type": "code",
      "source": [
        "DVR['Bairro'] = DVR['Bairro'].apply(lambda x: str(x).replace('Agua limpa','Água Limpa'))"
      ],
      "metadata": {
        "id": "Hmfs8Zih8pYp"
      },
      "execution_count": null,
      "outputs": []
    },
    {
      "cell_type": "code",
      "source": [
        "DVR['Bairro'] = DVR['Bairro'].apply(lambda x: str(x).replace('Água limpa','Água Limpa'))"
      ],
      "metadata": {
        "id": "uuk1qvir8unP"
      },
      "execution_count": null,
      "outputs": []
    },
    {
      "cell_type": "code",
      "source": [
        "DVR['Bairro'] = DVR['Bairro'].apply(lambda x: str(x).replace('Agua Limpa','Água Limpa'))"
      ],
      "metadata": {
        "id": "3nEedjAx8zpU"
      },
      "execution_count": null,
      "outputs": []
    },
    {
      "cell_type": "code",
      "source": [
        "DVR['Bairro'] = DVR['Bairro'].apply(lambda x: str(x).replace('Belvedere','Jardim Belvedere'))"
      ],
      "metadata": {
        "id": "ZWY8DQsp9BbK"
      },
      "execution_count": null,
      "outputs": []
    },
    {
      "cell_type": "code",
      "source": [
        "DVR['Bairro'] = DVR['Bairro'].apply(lambda x: str(x).replace('Jardim Jardim Belvedere','Jardim Belvedere'))"
      ],
      "metadata": {
        "id": "a2LjfgSN9JZH"
      },
      "execution_count": null,
      "outputs": []
    },
    {
      "cell_type": "code",
      "source": [
        "DVR['Bairro'] = DVR['Bairro'].apply(lambda x: str(x).replace('Monte castelo ','Monte Castelo'))"
      ],
      "metadata": {
        "id": "uuUfStGD9VXP"
      },
      "execution_count": null,
      "outputs": []
    },
    {
      "cell_type": "code",
      "source": [
        "DVR['Bairro'] = DVR['Bairro'].apply(lambda x: str(x).replace('Monte castelo','Monte Castelo'))"
      ],
      "metadata": {
        "id": "3Y8FRmF59kjk"
      },
      "execution_count": null,
      "outputs": []
    },
    {
      "cell_type": "code",
      "source": [
        "DVR['Bairro'] = DVR['Bairro'].apply(lambda x: str(x).replace('Santo agostinho','Santo Agostinho'))"
      ],
      "metadata": {
        "colab": {
          "base_uri": "https://localhost:8080/"
        },
        "id": "Q7wYgTBJ9wpe",
        "outputId": "463164d4-d6f2-4845-d475-0cb7b1d98cf6"
      },
      "execution_count": 887,
      "outputs": [
        {
          "output_type": "stream",
          "name": "stderr",
          "text": [
            "/usr/local/lib/python3.7/dist-packages/ipykernel_launcher.py:1: SettingWithCopyWarning: \n",
            "A value is trying to be set on a copy of a slice from a DataFrame.\n",
            "Try using .loc[row_indexer,col_indexer] = value instead\n",
            "\n",
            "See the caveats in the documentation: https://pandas.pydata.org/pandas-docs/stable/user_guide/indexing.html#returning-a-view-versus-a-copy\n",
            "  \"\"\"Entry point for launching an IPython kernel.\n"
          ]
        }
      ]
    },
    {
      "cell_type": "code",
      "source": [
        "DVR['Bairro'].unique()"
      ],
      "metadata": {
        "colab": {
          "base_uri": "https://localhost:8080/"
        },
        "id": "fuX5qaEQBAxA",
        "outputId": "38867f29-5a3f-4ba9-d9ff-491774ce5f34"
      },
      "execution_count": 886,
      "outputs": [
        {
          "output_type": "execute_result",
          "data": {
            "text/plain": [
              "array(['249', 'Nova esperança', 'Monte Castelo', 'Água Limpa',\n",
              "       'Sao Geraldo', 'Aterrado', 'Rústico', 'Jardim Belvedere',\n",
              "       'São Lucas', 'Roma', 'Cidade nova', 'Bela vista', 'Volta Grande 1',\n",
              "       'Santo Agostinho', 'Belo Horizonte', 'Ponte Alta',\n",
              "       'Morada da Colina', 'Jardim Normandia', 'Volta Grande',\n",
              "       'Vila Santa Cecília', 'Retiro', 'Parque das Ilhas', 'Sessenta',\n",
              "       'São Luís', 'Vila Rica tres pocos', 'Eucaliptal', 'Vila Rica',\n",
              "       'Santa Cruz', 'Jardim Amália 2', 'Belmonte', 'Massambará',\n",
              "       'Volta Grande 3', 'Jd Mariana', 'Morada do vale', 'Bom Jesus',\n",
              "       'Conforto', 'Vila Rica Tiradentes', 'Vale verde', 'Siderópolis',\n",
              "       'Açude 2', 'Niterói', 'Jd amália', 'Siderlândia', 'Jardim Paraíba',\n",
              "       'Vila Americana', 'Califórnia', 'Jardim Vila Rica Tiradentes',\n",
              "       'Açude 1', 'Jardim Amália 1', 'Siderville', 'Laranjal',\n",
              "       'Vila Rica tira-dentes', 'Coqueiros', 'Santo agostinho',\n",
              "       'Brasilandia', 'São João', 'Vila mury', 'Jardim esperança '],\n",
              "      dtype=object)"
            ]
          },
          "metadata": {},
          "execution_count": 886
        }
      ]
    },
    {
      "cell_type": "code",
      "source": [
        "DVRSEXO=DVR.groupby('Sexo').size()\n",
        "DVRSEXO.head()"
      ],
      "metadata": {
        "colab": {
          "base_uri": "https://localhost:8080/"
        },
        "id": "bZF3rbw51nll",
        "outputId": "ecb343e6-7a30-44a2-8865-8e68fa792f68"
      },
      "execution_count": 848,
      "outputs": [
        {
          "output_type": "execute_result",
          "data": {
            "text/plain": [
              "Sexo\n",
              "Femenino       5\n",
              "Masculino    107\n",
              "dtype: int64"
            ]
          },
          "metadata": {},
          "execution_count": 848
        }
      ]
    },
    {
      "cell_type": "code",
      "source": [
        "DVRSEXO.plot(kind='bar', x='Graduação', y=0, figsize=(5,6), colormap='Blues_r');"
      ],
      "metadata": {
        "colab": {
          "base_uri": "https://localhost:8080/",
          "height": 428
        },
        "id": "DGUQ5_mS2qkJ",
        "outputId": "029ef32c-219a-4e97-902a-04b4b2fdc1be"
      },
      "execution_count": 849,
      "outputs": [
        {
          "output_type": "display_data",
          "data": {
            "text/plain": [
              "<Figure size 360x432 with 1 Axes>"
            ],
            "image/png": "[encoded data removed]"
          },
          "metadata": {
            "needs_background": "light"
          }
        }
      ]
    },
    {
      "cell_type": "markdown",
      "source": [
        "Vamos gera o grafico quantidade por graduação."
      ],
      "metadata": {
        "id": "q-VphAub06tE"
      }
    },
    {
      "cell_type": "code",
      "source": [
        "DPG.plot(kind='bar', x='Graduação', y=0, figsize=(15,6), colormap='gray');"
      ],
      "metadata": {
        "colab": {
          "base_uri": "https://localhost:8080/",
          "height": 416
        },
        "id": "pv4Bilx69Lhc",
        "outputId": "9faef073-123b-4c71-f95a-1f7e253078bb"
      },
      "execution_count": 850,
      "outputs": [
        {
          "output_type": "display_data",
          "data": {
            "text/plain": [
              "<Figure size 1080x432 with 1 Axes>"
            ],
            "image/png": "[encoded data removed]"
          },
          "metadata": {
            "needs_background": "light"
          }
        }
      ]
    },
    {
      "cell_type": "markdown",
      "source": [
        "Vamos gerar um grafico com os faixas preta da cidade de Volta Redonda."
      ],
      "metadata": {
        "id": "ozNNqSd5zHF_"
      }
    },
    {
      "cell_type": "code",
      "source": [
        "DFPVR=DVR[DVR['Graduação']=='Preta']\n",
        "DFPVR.head()\n"
      ],
      "metadata": {
        "colab": {
          "base_uri": "https://localhost:8080/",
          "height": 652
        },
        "id": "COuYa8ubzOoW",
        "outputId": "b1a02b26-64e6-455c-b535-f36b2300fcef"
      },
      "execution_count": 851,
      "outputs": [
        {
          "output_type": "execute_result",
          "data": {
            "text/plain": [
              "      Carimbo de data/hora                      Nome  Idade        Cidade   \\\n",
              "0  2022-10-08 14:04:12.035                   wallace     34  Volta Redonda   \n",
              "4  2022-10-08 16:12:31.973     Maxwel Dutra de Paula     56  Volta Redonda   \n",
              "6  2022-10-08 16:22:33.018    Rodrigo Soares Da Cruz     40  Volta Redonda   \n",
              "8  2022-10-08 16:35:47.710                  Leonardo     40  Volta Redonda   \n",
              "12 2022-10-08 17:03:29.390  José Ricardo de Oliveira     53  Volta Redonda   \n",
              "\n",
              "            CPF Graduação  Há quanto anos treina Jiu-Jitsu.   \\\n",
              "0   05922115766     Preta                                 13   \n",
              "4   84644087734     Preta                                 30   \n",
              "6   10600318761     Preta                                 22   \n",
              "8   09504584730     Preta                                 23   \n",
              "12  00188579737     Preta                                 27   \n",
              "\n",
              "              Bairro       Sexo  \\\n",
              "0                249  Masculino   \n",
              "4         Água limpa  Masculino   \n",
              "6        Sao Geraldo  Masculino   \n",
              "8            Rústico  Masculino   \n",
              "12  Jardim Belvedere  Masculino   \n",
              "\n",
              "    Quanto tempo demorou para obter a graduação atual  \\\n",
              "0                                                   7   \n",
              "4                                                  19   \n",
              "6                                                  19   \n",
              "8                                                  17   \n",
              "12                                                 15   \n",
              "\n",
              "    Está há quanto anos na graduação atual   \\\n",
              "0                                         5   \n",
              "4                                        11   \n",
              "6                                         3   \n",
              "8                                         6   \n",
              "12                                       12   \n",
              "\n",
              "   Em relação aos treinos, qual a sua frequência ?  \\\n",
              "0                        De 1 a 2 vezes por semana   \n",
              "4                        De 3 a 4 vezes por semana   \n",
              "6                        De 3 a 4 vezes por semana   \n",
              "8                        De 1 a 2 vezes por semana   \n",
              "12                       De 2 a 3 vezes por semana   \n",
              "\n",
              "     Se  você parou de treinar, Qual o foi o motivo ? É  federado.  CPF.1  \n",
              "0                                            Trabalho           Sim   NaN  \n",
              "4                                           Não parei           Sim   NaN  \n",
              "6    Horários, Trabalho, Mudança de de cidade/ estado           Sim   NaN  \n",
              "8   Lesão fora do treino, Horários, Trabalho, Muda...           Sim   NaN  \n",
              "12                               Lesão fora do treino           Não   NaN  "
            ],
            "text/html": [
              "\n",
              "  <div id=\"df-a2ac53cd-7e76-4781-8303-69b58dd743ba\">\n",
              "    <div class=\"colab-df-container\">\n",
              "      <div>\n",
              "<style scoped>\n",
              "    .dataframe tbody tr th:only-of-type {\n",
              "        vertical-align: middle;\n",
              "    }\n",
              "\n",
              "    .dataframe tbody tr th {\n",
              "        vertical-align: top;\n",
              "    }\n",
              "\n",
              "    .dataframe thead th {\n",
              "        text-align: right;\n",
              "    }\n",
              "</style>\n",
              "<table border=\"1\" class=\"dataframe\">\n",
              "  <thead>\n",
              "    <tr style=\"text-align: right;\">\n",
              "      <th></th>\n",
              "      <th>Carimbo de data/hora</th>\n",
              "      <th>Nome</th>\n",
              "      <th>Idade</th>\n",
              "      <th>Cidade</th>\n",
              "      <th>CPF</th>\n",
              "      <th>Graduação</th>\n",
              "      <th>Há quanto anos treina Jiu-Jitsu.</th>\n",
              "      <th>Bairro</th>\n",
              "      <th>Sexo</th>\n",
              "      <th>Quanto tempo demorou para obter a graduação atual</th>\n",
              "      <th>Está há quanto anos na graduação atual</th>\n",
              "      <th>Em relação aos treinos, qual a sua frequência ?</th>\n",
              "      <th>Se  você parou de treinar, Qual o foi o motivo ?</th>\n",
              "      <th>É  federado.</th>\n",
              "      <th>CPF.1</th>\n",
              "    </tr>\n",
              "  </thead>\n",
              "  <tbody>\n",
              "    <tr>\n",
              "      <th>0</th>\n",
              "      <td>2022-10-08 14:04:12.035</td>\n",
              "      <td>wallace</td>\n",
              "      <td>34</td>\n",
              "      <td>Volta Redonda</td>\n",
              "      <td>05922115766</td>\n",
              "      <td>Preta</td>\n",
              "      <td>13</td>\n",
              "      <td>249</td>\n",
              "      <td>Masculino</td>\n",
              "      <td>7</td>\n",
              "      <td>5</td>\n",
              "      <td>De 1 a 2 vezes por semana</td>\n",
              "      <td>Trabalho</td>\n",
              "      <td>Sim</td>\n",
              "      <td>NaN</td>\n",
              "    </tr>\n",
              "    <tr>\n",
              "      <th>4</th>\n",
              "      <td>2022-10-08 16:12:31.973</td>\n",
              "      <td>Maxwel Dutra de Paula</td>\n",
              "      <td>56</td>\n",
              "      <td>Volta Redonda</td>\n",
              "      <td>84644087734</td>\n",
              "      <td>Preta</td>\n",
              "      <td>30</td>\n",
              "      <td>Água limpa</td>\n",
              "      <td>Masculino</td>\n",
              "      <td>19</td>\n",
              "      <td>11</td>\n",
              "      <td>De 3 a 4 vezes por semana</td>\n",
              "      <td>Não parei</td>\n",
              "      <td>Sim</td>\n",
              "      <td>NaN</td>\n",
              "    </tr>\n",
              "    <tr>\n",
              "      <th>6</th>\n",
              "      <td>2022-10-08 16:22:33.018</td>\n",
              "      <td>Rodrigo Soares Da Cruz</td>\n",
              "      <td>40</td>\n",
              "      <td>Volta Redonda</td>\n",
              "      <td>10600318761</td>\n",
              "      <td>Preta</td>\n",
              "      <td>22</td>\n",
              "      <td>Sao Geraldo</td>\n",
              "      <td>Masculino</td>\n",
              "      <td>19</td>\n",
              "      <td>3</td>\n",
              "      <td>De 3 a 4 vezes por semana</td>\n",
              "      <td>Horários, Trabalho, Mudança de de cidade/ estado</td>\n",
              "      <td>Sim</td>\n",
              "      <td>NaN</td>\n",
              "    </tr>\n",
              "    <tr>\n",
              "      <th>8</th>\n",
              "      <td>2022-10-08 16:35:47.710</td>\n",
              "      <td>Leonardo</td>\n",
              "      <td>40</td>\n",
              "      <td>Volta Redonda</td>\n",
              "      <td>09504584730</td>\n",
              "      <td>Preta</td>\n",
              "      <td>23</td>\n",
              "      <td>Rústico</td>\n",
              "      <td>Masculino</td>\n",
              "      <td>17</td>\n",
              "      <td>6</td>\n",
              "      <td>De 1 a 2 vezes por semana</td>\n",
              "      <td>Lesão fora do treino, Horários, Trabalho, Muda...</td>\n",
              "      <td>Sim</td>\n",
              "      <td>NaN</td>\n",
              "    </tr>\n",
              "    <tr>\n",
              "      <th>12</th>\n",
              "      <td>2022-10-08 17:03:29.390</td>\n",
              "      <td>José Ricardo de Oliveira</td>\n",
              "      <td>53</td>\n",
              "      <td>Volta Redonda</td>\n",
              "      <td>00188579737</td>\n",
              "      <td>Preta</td>\n",
              "      <td>27</td>\n",
              "      <td>Jardim Belvedere</td>\n",
              "      <td>Masculino</td>\n",
              "      <td>15</td>\n",
              "      <td>12</td>\n",
              "      <td>De 2 a 3 vezes por semana</td>\n",
              "      <td>Lesão fora do treino</td>\n",
              "      <td>Não</td>\n",
              "      <td>NaN</td>\n",
              "    </tr>\n",
              "  </tbody>\n",
              "</table>\n",
              "</div>\n",
              "      <button class=\"colab-df-convert\" onclick=\"convertToInteractive('df-a2ac53cd-7e76-4781-8303-69b58dd743ba')\"\n",
              "              title=\"Convert this dataframe to an interactive table.\"\n",
              "              style=\"display:none;\">\n",
              "        \n",
              "  <svg xmlns=\"http://www.w3.org/2000/svg\" height=\"24px\"viewBox=\"0 0 24 24\"\n",
              "       width=\"24px\">\n",
              "    <path d=\"M0 0h24v24H0V0z\" fill=\"none\"/>\n",
              "    <path d=\"M18.56 5.44l.94 2.06.94-2.06 2.06-.94-2.06-.94-.94-2.06-.94 2.06-2.06.94zm-11 1L8.5 8.5l.94-2.06 2.06-.94-2.06-.94L8.5 2.5l-.94 2.06-2.06.94zm10 10l.94 2.06.94-2.06 2.06-.94-2.06-.94-.94-2.06-.94 2.06-2.06.94z\"/><path d=\"M17.41 7.96l-1.37-1.37c-.4-.4-.92-.59-1.43-.59-.52 0-1.04.2-1.43.59L10.3 9.45l-7.72 7.72c-.78.78-.78 2.05 0 2.83L4 21.41c.39.39.9.59 1.41.59.51 0 1.02-.2 1.41-.59l7.78-7.78 2.81-2.81c.8-.78.8-2.07 0-2.86zM5.41 20L4 18.59l7.72-7.72 1.47 1.35L5.41 20z\"/>\n",
              "  </svg>\n",
              "      </button>\n",
              "      \n",
              "  <style>\n",
              "    .colab-df-container {\n",
              "      display:flex;\n",
              "      flex-wrap:wrap;\n",
              "      gap: 12px;\n",
              "    }\n",
              "\n",
              "    .colab-df-convert {\n",
              "      background-color: #E8F0FE;\n",
              "      border: none;\n",
              "      border-radius: 50%;\n",
              "      cursor: pointer;\n",
              "      display: none;\n",
              "      fill: #1967D2;\n",
              "      height: 32px;\n",
              "      padding: 0 0 0 0;\n",
              "      width: 32px;\n",
              "    }\n",
              "\n",
              "    .colab-df-convert:hover {\n",
              "      background-color: #E2EBFA;\n",
              "      box-shadow: 0px 1px 2px rgba(60, 64, 67, 0.3), 0px 1px 3px 1px rgba(60, 64, 67, 0.15);\n",
              "      fill: #174EA6;\n",
              "    }\n",
              "\n",
              "    [theme=dark] .colab-df-convert {\n",
              "      background-color: #3B4455;\n",
              "      fill: #D2E3FC;\n",
              "    }\n",
              "\n",
              "    [theme=dark] .colab-df-convert:hover {\n",
              "      background-color: #434B5C;\n",
              "      box-shadow: 0px 1px 3px 1px rgba(0, 0, 0, 0.15);\n",
              "      filter: drop-shadow(0px 1px 2px rgba(0, 0, 0, 0.3));\n",
              "      fill: #FFFFFF;\n",
              "    }\n",
              "  </style>\n",
              "\n",
              "      <script>\n",
              "        const buttonEl =\n",
              "          document.querySelector('#df-a2ac53cd-7e76-4781-8303-69b58dd743ba button.colab-df-convert');\n",
              "        buttonEl.style.display =\n",
              "          google.colab.kernel.accessAllowed ? 'block' : 'none';\n",
              "\n",
              "        async function convertToInteractive(key) {\n",
              "          const element = document.querySelector('#df-a2ac53cd-7e76-4781-8303-69b58dd743ba');\n",
              "          const dataTable =\n",
              "            await google.colab.kernel.invokeFunction('convertToInteractive',\n",
              "                                                     [key], {});\n",
              "          if (!dataTable) return;\n",
              "\n",
              "          const docLinkHtml = 'Like what you see? Visit the ' +\n",
              "            '<a target=\"_blank\" href=https://colab.research.google.com/notebooks/data_table.ipynb>data table notebook</a>'\n",
              "            + ' to learn more about interactive tables.';\n",
              "          element.innerHTML = '';\n",
              "          dataTable['output_type'] = 'display_data';\n",
              "          await google.colab.output.renderOutput(dataTable, element);\n",
              "          const docLink = document.createElement('div');\n",
              "          docLink.innerHTML = docLinkHtml;\n",
              "          element.appendChild(docLink);\n",
              "        }\n",
              "      </script>\n",
              "    </div>\n",
              "  </div>\n",
              "  "
            ]
          },
          "metadata": {},
          "execution_count": 851
        }
      ]
    },
    {
      "cell_type": "code",
      "source": [
        "DFPVR.groupby('Bairro').size()"
      ],
      "metadata": {
        "colab": {
          "base_uri": "https://localhost:8080/"
        },
        "id": "hzM8X_eH0wcA",
        "outputId": "4ec56d16-47c6-4b62-cad9-1cf9c73d916b"
      },
      "execution_count": 852,
      "outputs": [
        {
          "output_type": "execute_result",
          "data": {
            "text/plain": [
              "Bairro\n",
              "249                     1\n",
              "Bela vista              1\n",
              "Belmonte                2\n",
              "Belvedere               1\n",
              "Brasilandia             1\n",
              "Califórnia              1\n",
              "Cidade nova             1\n",
              "Eucaliptal              1\n",
              "Jardim Belvedere        1\n",
              "Jd Mariana              1\n",
              "Jd amália               1\n",
              "Monte Castelo           1\n",
              "Monte castelo           1\n",
              "Morada da Colina        1\n",
              "Morada do vale          1\n",
              "Parque das Ilhas        1\n",
              "Retiro                  3\n",
              "Rústico                 1\n",
              "Santa Cruz              2\n",
              "Sao Geraldo             1\n",
              "Sessenta                1\n",
              "São João                1\n",
              "São Lucas               1\n",
              "Vila Rica tres pocos    1\n",
              "Vila mury               1\n",
              "Água Limpa              1\n",
              "Água limpa              1\n",
              "dtype: int64"
            ]
          },
          "metadata": {},
          "execution_count": 852
        }
      ]
    },
    {
      "cell_type": "code",
      "source": [
        "DFPVR.to_excel(\"DFPVR.xlsx\")"
      ],
      "metadata": {
        "id": "z3_osNdA_DSm"
      },
      "execution_count": 853,
      "outputs": []
    },
    {
      "cell_type": "code",
      "source": [
        "DFPVR.columns"
      ],
      "metadata": {
        "colab": {
          "base_uri": "https://localhost:8080/"
        },
        "id": "2ihNLuDI9aQJ",
        "outputId": "5c29e167-d88b-400f-ab99-ad47c2ac1147"
      },
      "execution_count": 854,
      "outputs": [
        {
          "output_type": "execute_result",
          "data": {
            "text/plain": [
              "Index(['Carimbo de data/hora', 'Nome', 'Idade', 'Cidade ', 'CPF', 'Graduação',\n",
              "       'Há quanto anos treina Jiu-Jitsu. ', 'Bairro', 'Sexo',\n",
              "       'Quanto tempo demorou para obter a graduação atual',\n",
              "       'Está há quanto anos na graduação atual ',\n",
              "       'Em relação aos treinos, qual a sua frequência ?',\n",
              "       'Se  você parou de treinar, Qual o foi o motivo ?', 'É  federado. ',\n",
              "       'CPF.1'],\n",
              "      dtype='object')"
            ]
          },
          "metadata": {},
          "execution_count": 854
        }
      ]
    },
    {
      "cell_type": "markdown",
      "source": [
        "VAMOS TRATAR OS DADOS. NOME DO BAIRRO ESCRITO DE FORMA DEFERENTE. "
      ],
      "metadata": {
        "id": "phKEIcFm386O"
      }
    },
    {
      "cell_type": "code",
      "source": [
        "DVR['Bairro'] = DVR['Bairro'].apply(lambda x: str(x).replace('Água Limpa','Agua limpa'))"
      ],
      "metadata": {
        "colab": {
          "base_uri": "https://localhost:8080/"
        },
        "id": "KMihCZbd4LDq",
        "outputId": "196d8e28-17bc-4066-fbd1-6ef54618624e"
      },
      "execution_count": 855,
      "outputs": [
        {
          "output_type": "stream",
          "name": "stderr",
          "text": [
            "/usr/local/lib/python3.7/dist-packages/ipykernel_launcher.py:1: SettingWithCopyWarning: \n",
            "A value is trying to be set on a copy of a slice from a DataFrame.\n",
            "Try using .loc[row_indexer,col_indexer] = value instead\n",
            "\n",
            "See the caveats in the documentation: https://pandas.pydata.org/pandas-docs/stable/user_guide/indexing.html#returning-a-view-versus-a-copy\n",
            "  \"\"\"Entry point for launching an IPython kernel.\n"
          ]
        }
      ]
    },
    {
      "cell_type": "code",
      "source": [
        "DVR['Bairro'] = DVR['Bairro'].apply(lambda x: str(x).replace('Água Limpa','Agua limpa'))"
      ],
      "metadata": {
        "id": "ocHaA6FpBbNh",
        "colab": {
          "base_uri": "https://localhost:8080/"
        },
        "outputId": "b993c94e-bb90-4013-86a3-15529bb57215"
      },
      "execution_count": 856,
      "outputs": [
        {
          "output_type": "stream",
          "name": "stderr",
          "text": [
            "/usr/local/lib/python3.7/dist-packages/ipykernel_launcher.py:1: SettingWithCopyWarning: \n",
            "A value is trying to be set on a copy of a slice from a DataFrame.\n",
            "Try using .loc[row_indexer,col_indexer] = value instead\n",
            "\n",
            "See the caveats in the documentation: https://pandas.pydata.org/pandas-docs/stable/user_guide/indexing.html#returning-a-view-versus-a-copy\n",
            "  \"\"\"Entry point for launching an IPython kernel.\n"
          ]
        }
      ]
    },
    {
      "cell_type": "markdown",
      "source": [
        "Vamos fazer uma analise dos faixas preta de  Volta Redonda.  "
      ],
      "metadata": {
        "id": "PqjdpGR-28Lb"
      }
    },
    {
      "cell_type": "code",
      "source": [
        "DFPVR[['Nome','Idade','Há quanto anos treina Jiu-Jitsu. ','Está há quanto anos na graduação atual ']]"
      ],
      "metadata": {
        "id": "FvBfc4q23DcJ",
        "colab": {
          "base_uri": "https://localhost:8080/",
          "height": 1000
        },
        "outputId": "7864be1e-d521-4e05-8d29-55c1df40f025"
      },
      "execution_count": 858,
      "outputs": [
        {
          "output_type": "execute_result",
          "data": {
            "text/plain": [
              "                                  Nome  Idade  \\\n",
              "0                              wallace     34   \n",
              "4                Maxwel Dutra de Paula     56   \n",
              "6               Rodrigo Soares Da Cruz     40   \n",
              "8                             Leonardo     40   \n",
              "12            José Ricardo de Oliveira     53   \n",
              "16           Fabio de Oliveira mattins     50   \n",
              "17                             Ruan JJ     27   \n",
              "18        Wilson Caetano Pinto Moreira     49   \n",
              "37          Thadeu Giannattasio Nobres     31   \n",
              "45                               Renan     31   \n",
              "46                           Denivaldo     33   \n",
              "51                      Lucas de Souza     32   \n",
              "57            Thiago Luigi Costa Lessa     36   \n",
              "66                            Fernando     36   \n",
              "73                       Thiago barros     37   \n",
              "74   CARLOS José Guimarães das Virgens     39   \n",
              "75             Helena Juvêncio Bemfica     36   \n",
              "81                    Ricardo Oliveira     45   \n",
              "86                       Filipe Moraes     40   \n",
              "93                            Gleidson     39   \n",
              "98    Luciano de Almeida Poubel Vieira     39   \n",
              "102   Cássio Henrique Silva Nascimento     37   \n",
              "103                    Rafael Fagundes     43   \n",
              "105           Mauricio Maynard do Lago     64   \n",
              "114                       Felipe Cunha     44   \n",
              "115    Pablo cristiano da Silva Daniel     38   \n",
              "120       Bruno Sampaio Muniz da Silva     32   \n",
              "136                      Jorge Antônio     37   \n",
              "138                    Rodolfo Barbosa     30   \n",
              "143                Thiago Santos Silva     36   \n",
              "147                 Dayvid Lopes Faria     29   \n",
              "\n",
              "     Há quanto anos treina Jiu-Jitsu.   \\\n",
              "0                                   13   \n",
              "4                                   30   \n",
              "6                                   22   \n",
              "8                                   23   \n",
              "12                                  27   \n",
              "16                                  25   \n",
              "17                                  20   \n",
              "18                                  21   \n",
              "37                                  12   \n",
              "45                                  12   \n",
              "46                                  15   \n",
              "51                                  16   \n",
              "57                                  18   \n",
              "66                                  13   \n",
              "73                                  20   \n",
              "74                                  22   \n",
              "75                                  20   \n",
              "81                                  23   \n",
              "86                                  20   \n",
              "93                                  16   \n",
              "98                                  23   \n",
              "102                                 22   \n",
              "103                                 26   \n",
              "105                                 13   \n",
              "114                                 24   \n",
              "115                                 25   \n",
              "120                                 13   \n",
              "136                                 12   \n",
              "138                                 17   \n",
              "143                                 11   \n",
              "147                                 13   \n",
              "\n",
              "     Está há quanto anos na graduação atual   \n",
              "0                                          5  \n",
              "4                                         11  \n",
              "6                                          3  \n",
              "8                                          6  \n",
              "12                                        12  \n",
              "16                                         6  \n",
              "17                                         8  \n",
              "18                                         5  \n",
              "37                                         1  \n",
              "45                                         1  \n",
              "46                                         5  \n",
              "51                                         2  \n",
              "57                                         3  \n",
              "66                                         2  \n",
              "73                                         9  \n",
              "74                                         8  \n",
              "75                                         3  \n",
              "81                                        13  \n",
              "86                                         4  \n",
              "93                                         9  \n",
              "98                                         5  \n",
              "102                                       12  \n",
              "103                                        3  \n",
              "105                                        5  \n",
              "114                                       13  \n",
              "115                                        8  \n",
              "120                                        4  \n",
              "136                                        1  \n",
              "138                                        1  \n",
              "143                                        3  \n",
              "147                                        1  "
            ],
            "text/html": [
              "\n",
              "  <div id=\"df-0efb04d6-80d2-44cf-b6f8-b061e1a0d73d\">\n",
              "    <div class=\"colab-df-container\">\n",
              "      <div>\n",
              "<style scoped>\n",
              "    .dataframe tbody tr th:only-of-type {\n",
              "        vertical-align: middle;\n",
              "    }\n",
              "\n",
              "    .dataframe tbody tr th {\n",
              "        vertical-align: top;\n",
              "    }\n",
              "\n",
              "    .dataframe thead th {\n",
              "        text-align: right;\n",
              "    }\n",
              "</style>\n",
              "<table border=\"1\" class=\"dataframe\">\n",
              "  <thead>\n",
              "    <tr style=\"text-align: right;\">\n",
              "      <th></th>\n",
              "      <th>Nome</th>\n",
              "      <th>Idade</th>\n",
              "      <th>Há quanto anos treina Jiu-Jitsu.</th>\n",
              "      <th>Está há quanto anos na graduação atual</th>\n",
              "    </tr>\n",
              "  </thead>\n",
              "  <tbody>\n",
              "    <tr>\n",
              "      <th>0</th>\n",
              "      <td>wallace</td>\n",
              "      <td>34</td>\n",
              "      <td>13</td>\n",
              "      <td>5</td>\n",
              "    </tr>\n",
              "    <tr>\n",
              "      <th>4</th>\n",
              "      <td>Maxwel Dutra de Paula</td>\n",
              "      <td>56</td>\n",
              "      <td>30</td>\n",
              "      <td>11</td>\n",
              "    </tr>\n",
              "    <tr>\n",
              "      <th>6</th>\n",
              "      <td>Rodrigo Soares Da Cruz</td>\n",
              "      <td>40</td>\n",
              "      <td>22</td>\n",
              "      <td>3</td>\n",
              "    </tr>\n",
              "    <tr>\n",
              "      <th>8</th>\n",
              "      <td>Leonardo</td>\n",
              "      <td>40</td>\n",
              "      <td>23</td>\n",
              "      <td>6</td>\n",
              "    </tr>\n",
              "    <tr>\n",
              "      <th>12</th>\n",
              "      <td>José Ricardo de Oliveira</td>\n",
              "      <td>53</td>\n",
              "      <td>27</td>\n",
              "      <td>12</td>\n",
              "    </tr>\n",
              "    <tr>\n",
              "      <th>16</th>\n",
              "      <td>Fabio de Oliveira mattins</td>\n",
              "      <td>50</td>\n",
              "      <td>25</td>\n",
              "      <td>6</td>\n",
              "    </tr>\n",
              "    <tr>\n",
              "      <th>17</th>\n",
              "      <td>Ruan JJ</td>\n",
              "      <td>27</td>\n",
              "      <td>20</td>\n",
              "      <td>8</td>\n",
              "    </tr>\n",
              "    <tr>\n",
              "      <th>18</th>\n",
              "      <td>Wilson Caetano Pinto Moreira</td>\n",
              "      <td>49</td>\n",
              "      <td>21</td>\n",
              "      <td>5</td>\n",
              "    </tr>\n",
              "    <tr>\n",
              "      <th>37</th>\n",
              "      <td>Thadeu Giannattasio Nobres</td>\n",
              "      <td>31</td>\n",
              "      <td>12</td>\n",
              "      <td>1</td>\n",
              "    </tr>\n",
              "    <tr>\n",
              "      <th>45</th>\n",
              "      <td>Renan</td>\n",
              "      <td>31</td>\n",
              "      <td>12</td>\n",
              "      <td>1</td>\n",
              "    </tr>\n",
              "    <tr>\n",
              "      <th>46</th>\n",
              "      <td>Denivaldo</td>\n",
              "      <td>33</td>\n",
              "      <td>15</td>\n",
              "      <td>5</td>\n",
              "    </tr>\n",
              "    <tr>\n",
              "      <th>51</th>\n",
              "      <td>Lucas de Souza</td>\n",
              "      <td>32</td>\n",
              "      <td>16</td>\n",
              "      <td>2</td>\n",
              "    </tr>\n",
              "    <tr>\n",
              "      <th>57</th>\n",
              "      <td>Thiago Luigi Costa Lessa</td>\n",
              "      <td>36</td>\n",
              "      <td>18</td>\n",
              "      <td>3</td>\n",
              "    </tr>\n",
              "    <tr>\n",
              "      <th>66</th>\n",
              "      <td>Fernando</td>\n",
              "      <td>36</td>\n",
              "      <td>13</td>\n",
              "      <td>2</td>\n",
              "    </tr>\n",
              "    <tr>\n",
              "      <th>73</th>\n",
              "      <td>Thiago barros</td>\n",
              "      <td>37</td>\n",
              "      <td>20</td>\n",
              "      <td>9</td>\n",
              "    </tr>\n",
              "    <tr>\n",
              "      <th>74</th>\n",
              "      <td>CARLOS José Guimarães das Virgens</td>\n",
              "      <td>39</td>\n",
              "      <td>22</td>\n",
              "      <td>8</td>\n",
              "    </tr>\n",
              "    <tr>\n",
              "      <th>75</th>\n",
              "      <td>Helena Juvêncio Bemfica</td>\n",
              "      <td>36</td>\n",
              "      <td>20</td>\n",
              "      <td>3</td>\n",
              "    </tr>\n",
              "    <tr>\n",
              "      <th>81</th>\n",
              "      <td>Ricardo Oliveira</td>\n",
              "      <td>45</td>\n",
              "      <td>23</td>\n",
              "      <td>13</td>\n",
              "    </tr>\n",
              "    <tr>\n",
              "      <th>86</th>\n",
              "      <td>Filipe Moraes</td>\n",
              "      <td>40</td>\n",
              "      <td>20</td>\n",
              "      <td>4</td>\n",
              "    </tr>\n",
              "    <tr>\n",
              "      <th>93</th>\n",
              "      <td>Gleidson</td>\n",
              "      <td>39</td>\n",
              "      <td>16</td>\n",
              "      <td>9</td>\n",
              "    </tr>\n",
              "    <tr>\n",
              "      <th>98</th>\n",
              "      <td>Luciano de Almeida Poubel Vieira</td>\n",
              "      <td>39</td>\n",
              "      <td>23</td>\n",
              "      <td>5</td>\n",
              "    </tr>\n",
              "    <tr>\n",
              "      <th>102</th>\n",
              "      <td>Cássio Henrique Silva Nascimento</td>\n",
              "      <td>37</td>\n",
              "      <td>22</td>\n",
              "      <td>12</td>\n",
              "    </tr>\n",
              "    <tr>\n",
              "      <th>103</th>\n",
              "      <td>Rafael Fagundes</td>\n",
              "      <td>43</td>\n",
              "      <td>26</td>\n",
              "      <td>3</td>\n",
              "    </tr>\n",
              "    <tr>\n",
              "      <th>105</th>\n",
              "      <td>Mauricio Maynard do Lago</td>\n",
              "      <td>64</td>\n",
              "      <td>13</td>\n",
              "      <td>5</td>\n",
              "    </tr>\n",
              "    <tr>\n",
              "      <th>114</th>\n",
              "      <td>Felipe Cunha</td>\n",
              "      <td>44</td>\n",
              "      <td>24</td>\n",
              "      <td>13</td>\n",
              "    </tr>\n",
              "    <tr>\n",
              "      <th>115</th>\n",
              "      <td>Pablo cristiano da Silva Daniel</td>\n",
              "      <td>38</td>\n",
              "      <td>25</td>\n",
              "      <td>8</td>\n",
              "    </tr>\n",
              "    <tr>\n",
              "      <th>120</th>\n",
              "      <td>Bruno Sampaio Muniz da Silva</td>\n",
              "      <td>32</td>\n",
              "      <td>13</td>\n",
              "      <td>4</td>\n",
              "    </tr>\n",
              "    <tr>\n",
              "      <th>136</th>\n",
              "      <td>Jorge Antônio</td>\n",
              "      <td>37</td>\n",
              "      <td>12</td>\n",
              "      <td>1</td>\n",
              "    </tr>\n",
              "    <tr>\n",
              "      <th>138</th>\n",
              "      <td>Rodolfo Barbosa</td>\n",
              "      <td>30</td>\n",
              "      <td>17</td>\n",
              "      <td>1</td>\n",
              "    </tr>\n",
              "    <tr>\n",
              "      <th>143</th>\n",
              "      <td>Thiago Santos Silva</td>\n",
              "      <td>36</td>\n",
              "      <td>11</td>\n",
              "      <td>3</td>\n",
              "    </tr>\n",
              "    <tr>\n",
              "      <th>147</th>\n",
              "      <td>Dayvid Lopes Faria</td>\n",
              "      <td>29</td>\n",
              "      <td>13</td>\n",
              "      <td>1</td>\n",
              "    </tr>\n",
              "  </tbody>\n",
              "</table>\n",
              "</div>\n",
              "      <button class=\"colab-df-convert\" onclick=\"convertToInteractive('df-0efb04d6-80d2-44cf-b6f8-b061e1a0d73d')\"\n",
              "              title=\"Convert this dataframe to an interactive table.\"\n",
              "              style=\"display:none;\">\n",
              "        \n",
              "  <svg xmlns=\"http://www.w3.org/2000/svg\" height=\"24px\"viewBox=\"0 0 24 24\"\n",
              "       width=\"24px\">\n",
              "    <path d=\"M0 0h24v24H0V0z\" fill=\"none\"/>\n",
              "    <path d=\"M18.56 5.44l.94 2.06.94-2.06 2.06-.94-2.06-.94-.94-2.06-.94 2.06-2.06.94zm-11 1L8.5 8.5l.94-2.06 2.06-.94-2.06-.94L8.5 2.5l-.94 2.06-2.06.94zm10 10l.94 2.06.94-2.06 2.06-.94-2.06-.94-.94-2.06-.94 2.06-2.06.94z\"/><path d=\"M17.41 7.96l-1.37-1.37c-.4-.4-.92-.59-1.43-.59-.52 0-1.04.2-1.43.59L10.3 9.45l-7.72 7.72c-.78.78-.78 2.05 0 2.83L4 21.41c.39.39.9.59 1.41.59.51 0 1.02-.2 1.41-.59l7.78-7.78 2.81-2.81c.8-.78.8-2.07 0-2.86zM5.41 20L4 18.59l7.72-7.72 1.47 1.35L5.41 20z\"/>\n",
              "  </svg>\n",
              "      </button>\n",
              "      \n",
              "  <style>\n",
              "    .colab-df-container {\n",
              "      display:flex;\n",
              "      flex-wrap:wrap;\n",
              "      gap: 12px;\n",
              "    }\n",
              "\n",
              "    .colab-df-convert {\n",
              "      background-color: #E8F0FE;\n",
              "      border: none;\n",
              "      border-radius: 50%;\n",
              "      cursor: pointer;\n",
              "      display: none;\n",
              "      fill: #1967D2;\n",
              "      height: 32px;\n",
              "      padding: 0 0 0 0;\n",
              "      width: 32px;\n",
              "    }\n",
              "\n",
              "    .colab-df-convert:hover {\n",
              "      background-color: #E2EBFA;\n",
              "      box-shadow: 0px 1px 2px rgba(60, 64, 67, 0.3), 0px 1px 3px 1px rgba(60, 64, 67, 0.15);\n",
              "      fill: #174EA6;\n",
              "    }\n",
              "\n",
              "    [theme=dark] .colab-df-convert {\n",
              "      background-color: #3B4455;\n",
              "      fill: #D2E3FC;\n",
              "    }\n",
              "\n",
              "    [theme=dark] .colab-df-convert:hover {\n",
              "      background-color: #434B5C;\n",
              "      box-shadow: 0px 1px 3px 1px rgba(0, 0, 0, 0.15);\n",
              "      filter: drop-shadow(0px 1px 2px rgba(0, 0, 0, 0.3));\n",
              "      fill: #FFFFFF;\n",
              "    }\n",
              "  </style>\n",
              "\n",
              "      <script>\n",
              "        const buttonEl =\n",
              "          document.querySelector('#df-0efb04d6-80d2-44cf-b6f8-b061e1a0d73d button.colab-df-convert');\n",
              "        buttonEl.style.display =\n",
              "          google.colab.kernel.accessAllowed ? 'block' : 'none';\n",
              "\n",
              "        async function convertToInteractive(key) {\n",
              "          const element = document.querySelector('#df-0efb04d6-80d2-44cf-b6f8-b061e1a0d73d');\n",
              "          const dataTable =\n",
              "            await google.colab.kernel.invokeFunction('convertToInteractive',\n",
              "                                                     [key], {});\n",
              "          if (!dataTable) return;\n",
              "\n",
              "          const docLinkHtml = 'Like what you see? Visit the ' +\n",
              "            '<a target=\"_blank\" href=https://colab.research.google.com/notebooks/data_table.ipynb>data table notebook</a>'\n",
              "            + ' to learn more about interactive tables.';\n",
              "          element.innerHTML = '';\n",
              "          dataTable['output_type'] = 'display_data';\n",
              "          await google.colab.output.renderOutput(dataTable, element);\n",
              "          const docLink = document.createElement('div');\n",
              "          docLink.innerHTML = docLinkHtml;\n",
              "          element.appendChild(docLink);\n",
              "        }\n",
              "      </script>\n",
              "    </div>\n",
              "  </div>\n",
              "  "
            ]
          },
          "metadata": {},
          "execution_count": 858
        }
      ]
    },
    {
      "cell_type": "markdown",
      "source": [
        "Vamos começar a Estatistica dos faixa pretas de volta redonda, pois foi onde obetivemos maior número de dados. \n"
      ],
      "metadata": {
        "id": "w9aVxAEz-oXj"
      }
    },
    {
      "cell_type": "code",
      "source": [
        "#Media das idade\n",
        "DEFP['Idade'].mean()"
      ],
      "metadata": {
        "colab": {
          "base_uri": "https://localhost:8080/"
        },
        "id": "DqCvlZoV-mwx",
        "outputId": "aaf7d2e5-c20a-427a-f762-c61883d17ade"
      },
      "execution_count": 859,
      "outputs": [
        {
          "output_type": "execute_result",
          "data": {
            "text/plain": [
              "35.17982910901861"
            ]
          },
          "metadata": {},
          "execution_count": 859
        }
      ]
    },
    {
      "cell_type": "code",
      "source": [
        "#Media do tempo que treinar jiu-jitsu\n",
        "DEFP['Há quanto anos treina Jiu-Jitsu. '].mean()"
      ],
      "metadata": {
        "colab": {
          "base_uri": "https://localhost:8080/"
        },
        "id": "-c8sHp65_GOf",
        "outputId": "ce311223-29cb-4dff-8b97-9c198d1bd562"
      },
      "execution_count": 860,
      "outputs": [
        {
          "output_type": "execute_result",
          "data": {
            "text/plain": [
              "19.029895610147246"
            ]
          },
          "metadata": {},
          "execution_count": 860
        }
      ]
    },
    {
      "cell_type": "code",
      "source": [
        "#Media Está há quanto anos na graduação atual\n",
        "DEFP['Está há quanto anos na graduação atual '].mean() "
      ],
      "metadata": {
        "colab": {
          "base_uri": "https://localhost:8080/"
        },
        "id": "JX0koKLNAQFU",
        "outputId": "e63ecd61-8a4f-4254-c5f1-3f64dba3cb47"
      },
      "execution_count": 861,
      "outputs": [
        {
          "output_type": "execute_result",
          "data": {
            "text/plain": [
              "8.793810058088638"
            ]
          },
          "metadata": {},
          "execution_count": 861
        }
      ]
    },
    {
      "cell_type": "code",
      "source": [
        "DFPVR[['Idade', 'Bairro']].plot.box()"
      ],
      "metadata": {
        "colab": {
          "base_uri": "https://localhost:8080/",
          "height": 283
        },
        "id": "7k9YrGje245v",
        "outputId": "98b5751e-1c87-4e05-e98e-a8873a907a43"
      },
      "execution_count": 865,
      "outputs": [
        {
          "output_type": "execute_result",
          "data": {
            "text/plain": [
              "<matplotlib.axes._subplots.AxesSubplot at 0x7fefba96e250>"
            ]
          },
          "metadata": {},
          "execution_count": 865
        },
        {
          "output_type": "display_data",
          "data": {
            "text/plain": [
              "<Figure size 432x288 with 1 Axes>"
            ],
            "image/png": "[encoded data removed]"
          },
          "metadata": {
            "needs_background": "light"
          }
        }
      ]
    },
    {
      "cell_type": "code",
      "source": [
        "DVR.plot.scatter(x=\"Graduação\", y=\"Idade\", alpha=0.9)"
      ],
      "metadata": {
        "colab": {
          "base_uri": "https://localhost:8080/",
          "height": 297
        },
        "id": "BqsPYFQK3oFT",
        "outputId": "3b0e512d-1490-4cd2-e8f8-9731bee288b8"
      },
      "execution_count": 866,
      "outputs": [
        {
          "output_type": "execute_result",
          "data": {
            "text/plain": [
              "<matplotlib.axes._subplots.AxesSubplot at 0x7fefba976310>"
            ]
          },
          "metadata": {},
          "execution_count": 866
        },
        {
          "output_type": "display_data",
          "data": {
            "text/plain": [
              "<Figure size 432x288 with 1 Axes>"
            ],
            "image/png": "[encoded data removed]"
          },
          "metadata": {
            "needs_background": "light"
          }
        }
      ]
    },
    {
      "cell_type": "code",
      "source": [
        "DVR.plot.scatter(x=\"Graduação\", y=\"Em relação aos treinos, qual a sua frequência ?\", alpha=0.9)"
      ],
      "metadata": {
        "colab": {
          "base_uri": "https://localhost:8080/",
          "height": 307
        },
        "id": "JXYPWdCP5KUz",
        "outputId": "636a2d1d-77c6-4b88-99de-aa126b0442ab"
      },
      "execution_count": 867,
      "outputs": [
        {
          "output_type": "execute_result",
          "data": {
            "text/plain": [
              "<matplotlib.axes._subplots.AxesSubplot at 0x7fefbb916d90>"
            ]
          },
          "metadata": {},
          "execution_count": 867
        },
        {
          "output_type": "display_data",
          "data": {
            "text/plain": [
              "<Figure size 432x288 with 1 Axes>"
            ],
            "image/png": "[encoded data removed]"
          },
          "metadata": {
            "needs_background": "light"
          }
        }
      ]
    },
    {
      "cell_type": "code",
      "source": [
        "# att"
      ],
      "metadata": {
        "id": "KXOddfx-_lnS"
      },
      "execution_count": null,
      "outputs": []
    }
  ]
}