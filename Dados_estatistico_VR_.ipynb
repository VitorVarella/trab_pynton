{
  "nbformat": 4,
  "nbformat_minor": 0,
  "metadata": {
    "colab": {
      "provenance": [],
      "mount_file_id": "1ufci-KWqbHhAtNA552apDUE7nz92eozr",
      "authorship_tag": "ABX9TyNiDgDDGpf6y4JXsDj94FVs",
      "include_colab_link": true
    },
    "kernelspec": {
      "name": "python3",
      "display_name": "Python 3"
    },
    "language_info": {
      "name": "python"
    }
  },
  "cells": [
    {
      "cell_type": "markdown",
      "metadata": {
        "id": "view-in-github",
        "colab_type": "text"
      },
      "source": [
        "<a href=\"https://colab.research.google.com/github/samuellevistrauss/trab_pynton/blob/main/Dados_estatistico_VR_.ipynb\" target=\"_parent\"><img src=\"https://colab.research.google.com/assets/colab-badge.svg\" alt=\"Open In Colab\"/></a>"
      ]
    },
    {
      "cell_type": "code",
      "execution_count": 3,
      "metadata": {
        "id": "wxqsYTBKifMP"
      },
      "outputs": [],
      "source": [
        "import pandas as pd\n",
        "import matplotlib.pyplot as plt\n",
        "def post_execute():\n",
        " if matplotlib.is_interactive():\n",
        "  draw_all()"
      ]
    },
    {
      "cell_type": "markdown",
      "source": [
        "# Nova seção"
      ],
      "metadata": {
        "id": "wAl4b39oq6Jh"
      }
    },
    {
      "cell_type": "markdown",
      "source": [
        "importando o Data frame "
      ],
      "metadata": {
        "id": "rP7ZNDKZjC_a"
      }
    },
    {
      "cell_type": "code",
      "source": [
        "Dados=pd.read_excel('/content/drive/MyDrive/Projeto Python/Dados.xlsx')\n",
        "Dados.head()"
      ],
      "metadata": {
        "colab": {
          "base_uri": "https://localhost:8080/",
          "height": 618
        },
        "id": "2BDCddPnjHbf",
        "outputId": "b90d7029-b147-42a0-b9ba-5731a8fe76f0"
      },
      "execution_count": 4,
      "outputs": [
        {
          "output_type": "execute_result",
          "data": {
            "text/plain": [
              "     Carimbo de data/hora                   Nome  Idade         Cidade   \\\n",
              "0 2022-10-08 14:04:12.035                wallace     34  Volta Redonda    \n",
              "1 2022-10-08 14:39:58.652                 Daniel     20  Volta Redonda    \n",
              "2 2022-10-08 16:00:06.378        Douglas Adriano     29  Volta Redonda    \n",
              "3 2022-10-08 16:05:28.263          Luiz Anderson     33         Valença   \n",
              "4 2022-10-08 16:12:31.973  Maxwel Dutra de Paula     56  Volta Redonda    \n",
              "\n",
              "           CPF Graduação  Há quanto anos treina Jiu-Jitsu.           Bairro  \\\n",
              "0  05922115766     Preta                                 13             249   \n",
              "1  17793635752      Roxa                                  3  Nova esperança   \n",
              "2  15120923712    Marrom                                 10   Monte castelo   \n",
              "3  13326919786     Preta                                 12       Aparecida   \n",
              "4  84644087734     Preta                                 30      Água limpa   \n",
              "\n",
              "        Sexo  Quanto tempo demorou para obter a graduação atual  \\\n",
              "0  Masculino                                                  7   \n",
              "1  Masculino                                                  2   \n",
              "2  Masculino                                                 10   \n",
              "3  Masculino                                                 12   \n",
              "4  Masculino                                                 19   \n",
              "\n",
              "   Está há quanto anos na graduação atual   \\\n",
              "0                                        5   \n",
              "1                                        1   \n",
              "2                                        2   \n",
              "3                                        2   \n",
              "4                                       11   \n",
              "\n",
              "  Em relação aos treinos, qual a sua frequência ?  \\\n",
              "0                       De 1 a 2 vezes por semana   \n",
              "1                       De 1 a 2 vezes por semana   \n",
              "2                       De 2 a 3 vezes por semana   \n",
              "3                       De 5 a 6 vezes por semana   \n",
              "4                       De 3 a 4 vezes por semana   \n",
              "\n",
              "    Se  você parou de treinar, Qual o foi o motivo ? É  federado.  CPF.1  \n",
              "0                                           Trabalho           Sim   NaN  \n",
              "1                                           Trabalho           Sim   NaN  \n",
              "2  Lesão no treino, Trabalho, Mudança de de cidad...           Não   NaN  \n",
              "3                       Mudança de de cidade/ estado           Sim   NaN  \n",
              "4                                          Não parei           Sim   NaN  "
            ],
            "text/html": [
              "\n",
              "  <div id=\"df-6ba98b74-0492-4a7c-9a52-8584eefad393\">\n",
              "    <div class=\"colab-df-container\">\n",
              "      <div>\n",
              "<style scoped>\n",
              "    .dataframe tbody tr th:only-of-type {\n",
              "        vertical-align: middle;\n",
              "    }\n",
              "\n",
              "    .dataframe tbody tr th {\n",
              "        vertical-align: top;\n",
              "    }\n",
              "\n",
              "    .dataframe thead th {\n",
              "        text-align: right;\n",
              "    }\n",
              "</style>\n",
              "<table border=\"1\" class=\"dataframe\">\n",
              "  <thead>\n",
              "    <tr style=\"text-align: right;\">\n",
              "      <th></th>\n",
              "      <th>Carimbo de data/hora</th>\n",
              "      <th>Nome</th>\n",
              "      <th>Idade</th>\n",
              "      <th>Cidade</th>\n",
              "      <th>CPF</th>\n",
              "      <th>Graduação</th>\n",
              "      <th>Há quanto anos treina Jiu-Jitsu.</th>\n",
              "      <th>Bairro</th>\n",
              "      <th>Sexo</th>\n",
              "      <th>Quanto tempo demorou para obter a graduação atual</th>\n",
              "      <th>Está há quanto anos na graduação atual</th>\n",
              "      <th>Em relação aos treinos, qual a sua frequência ?</th>\n",
              "      <th>Se  você parou de treinar, Qual o foi o motivo ?</th>\n",
              "      <th>É  federado.</th>\n",
              "      <th>CPF.1</th>\n",
              "    </tr>\n",
              "  </thead>\n",
              "  <tbody>\n",
              "    <tr>\n",
              "      <th>0</th>\n",
              "      <td>2022-10-08 14:04:12.035</td>\n",
              "      <td>wallace</td>\n",
              "      <td>34</td>\n",
              "      <td>Volta Redonda</td>\n",
              "      <td>05922115766</td>\n",
              "      <td>Preta</td>\n",
              "      <td>13</td>\n",
              "      <td>249</td>\n",
              "      <td>Masculino</td>\n",
              "      <td>7</td>\n",
              "      <td>5</td>\n",
              "      <td>De 1 a 2 vezes por semana</td>\n",
              "      <td>Trabalho</td>\n",
              "      <td>Sim</td>\n",
              "      <td>NaN</td>\n",
              "    </tr>\n",
              "    <tr>\n",
              "      <th>1</th>\n",
              "      <td>2022-10-08 14:39:58.652</td>\n",
              "      <td>Daniel</td>\n",
              "      <td>20</td>\n",
              "      <td>Volta Redonda</td>\n",
              "      <td>17793635752</td>\n",
              "      <td>Roxa</td>\n",
              "      <td>3</td>\n",
              "      <td>Nova esperança</td>\n",
              "      <td>Masculino</td>\n",
              "      <td>2</td>\n",
              "      <td>1</td>\n",
              "      <td>De 1 a 2 vezes por semana</td>\n",
              "      <td>Trabalho</td>\n",
              "      <td>Sim</td>\n",
              "      <td>NaN</td>\n",
              "    </tr>\n",
              "    <tr>\n",
              "      <th>2</th>\n",
              "      <td>2022-10-08 16:00:06.378</td>\n",
              "      <td>Douglas Adriano</td>\n",
              "      <td>29</td>\n",
              "      <td>Volta Redonda</td>\n",
              "      <td>15120923712</td>\n",
              "      <td>Marrom</td>\n",
              "      <td>10</td>\n",
              "      <td>Monte castelo</td>\n",
              "      <td>Masculino</td>\n",
              "      <td>10</td>\n",
              "      <td>2</td>\n",
              "      <td>De 2 a 3 vezes por semana</td>\n",
              "      <td>Lesão no treino, Trabalho, Mudança de de cidad...</td>\n",
              "      <td>Não</td>\n",
              "      <td>NaN</td>\n",
              "    </tr>\n",
              "    <tr>\n",
              "      <th>3</th>\n",
              "      <td>2022-10-08 16:05:28.263</td>\n",
              "      <td>Luiz Anderson</td>\n",
              "      <td>33</td>\n",
              "      <td>Valença</td>\n",
              "      <td>13326919786</td>\n",
              "      <td>Preta</td>\n",
              "      <td>12</td>\n",
              "      <td>Aparecida</td>\n",
              "      <td>Masculino</td>\n",
              "      <td>12</td>\n",
              "      <td>2</td>\n",
              "      <td>De 5 a 6 vezes por semana</td>\n",
              "      <td>Mudança de de cidade/ estado</td>\n",
              "      <td>Sim</td>\n",
              "      <td>NaN</td>\n",
              "    </tr>\n",
              "    <tr>\n",
              "      <th>4</th>\n",
              "      <td>2022-10-08 16:12:31.973</td>\n",
              "      <td>Maxwel Dutra de Paula</td>\n",
              "      <td>56</td>\n",
              "      <td>Volta Redonda</td>\n",
              "      <td>84644087734</td>\n",
              "      <td>Preta</td>\n",
              "      <td>30</td>\n",
              "      <td>Água limpa</td>\n",
              "      <td>Masculino</td>\n",
              "      <td>19</td>\n",
              "      <td>11</td>\n",
              "      <td>De 3 a 4 vezes por semana</td>\n",
              "      <td>Não parei</td>\n",
              "      <td>Sim</td>\n",
              "      <td>NaN</td>\n",
              "    </tr>\n",
              "  </tbody>\n",
              "</table>\n",
              "</div>\n",
              "      <button class=\"colab-df-convert\" onclick=\"convertToInteractive('df-6ba98b74-0492-4a7c-9a52-8584eefad393')\"\n",
              "              title=\"Convert this dataframe to an interactive table.\"\n",
              "              style=\"display:none;\">\n",
              "        \n",
              "  <svg xmlns=\"http://www.w3.org/2000/svg\" height=\"24px\"viewBox=\"0 0 24 24\"\n",
              "       width=\"24px\">\n",
              "    <path d=\"M0 0h24v24H0V0z\" fill=\"none\"/>\n",
              "    <path d=\"M18.56 5.44l.94 2.06.94-2.06 2.06-.94-2.06-.94-.94-2.06-.94 2.06-2.06.94zm-11 1L8.5 8.5l.94-2.06 2.06-.94-2.06-.94L8.5 2.5l-.94 2.06-2.06.94zm10 10l.94 2.06.94-2.06 2.06-.94-2.06-.94-.94-2.06-.94 2.06-2.06.94z\"/><path d=\"M17.41 7.96l-1.37-1.37c-.4-.4-.92-.59-1.43-.59-.52 0-1.04.2-1.43.59L10.3 9.45l-7.72 7.72c-.78.78-.78 2.05 0 2.83L4 21.41c.39.39.9.59 1.41.59.51 0 1.02-.2 1.41-.59l7.78-7.78 2.81-2.81c.8-.78.8-2.07 0-2.86zM5.41 20L4 18.59l7.72-7.72 1.47 1.35L5.41 20z\"/>\n",
              "  </svg>\n",
              "      </button>\n",
              "      \n",
              "  <style>\n",
              "    .colab-df-container {\n",
              "      display:flex;\n",
              "      flex-wrap:wrap;\n",
              "      gap: 12px;\n",
              "    }\n",
              "\n",
              "    .colab-df-convert {\n",
              "      background-color: #E8F0FE;\n",
              "      border: none;\n",
              "      border-radius: 50%;\n",
              "      cursor: pointer;\n",
              "      display: none;\n",
              "      fill: #1967D2;\n",
              "      height: 32px;\n",
              "      padding: 0 0 0 0;\n",
              "      width: 32px;\n",
              "    }\n",
              "\n",
              "    .colab-df-convert:hover {\n",
              "      background-color: #E2EBFA;\n",
              "      box-shadow: 0px 1px 2px rgba(60, 64, 67, 0.3), 0px 1px 3px 1px rgba(60, 64, 67, 0.15);\n",
              "      fill: #174EA6;\n",
              "    }\n",
              "\n",
              "    [theme=dark] .colab-df-convert {\n",
              "      background-color: #3B4455;\n",
              "      fill: #D2E3FC;\n",
              "    }\n",
              "\n",
              "    [theme=dark] .colab-df-convert:hover {\n",
              "      background-color: #434B5C;\n",
              "      box-shadow: 0px 1px 3px 1px rgba(0, 0, 0, 0.15);\n",
              "      filter: drop-shadow(0px 1px 2px rgba(0, 0, 0, 0.3));\n",
              "      fill: #FFFFFF;\n",
              "    }\n",
              "  </style>\n",
              "\n",
              "      <script>\n",
              "        const buttonEl =\n",
              "          document.querySelector('#df-6ba98b74-0492-4a7c-9a52-8584eefad393 button.colab-df-convert');\n",
              "        buttonEl.style.display =\n",
              "          google.colab.kernel.accessAllowed ? 'block' : 'none';\n",
              "\n",
              "        async function convertToInteractive(key) {\n",
              "          const element = document.querySelector('#df-6ba98b74-0492-4a7c-9a52-8584eefad393');\n",
              "          const dataTable =\n",
              "            await google.colab.kernel.invokeFunction('convertToInteractive',\n",
              "                                                     [key], {});\n",
              "          if (!dataTable) return;\n",
              "\n",
              "          const docLinkHtml = 'Like what you see? Visit the ' +\n",
              "            '<a target=\"_blank\" href=https://colab.research.google.com/notebooks/data_table.ipynb>data table notebook</a>'\n",
              "            + ' to learn more about interactive tables.';\n",
              "          element.innerHTML = '';\n",
              "          dataTable['output_type'] = 'display_data';\n",
              "          await google.colab.output.renderOutput(dataTable, element);\n",
              "          const docLink = document.createElement('div');\n",
              "          docLink.innerHTML = docLinkHtml;\n",
              "          element.appendChild(docLink);\n",
              "        }\n",
              "      </script>\n",
              "    </div>\n",
              "  </div>\n",
              "  "
            ]
          },
          "metadata": {},
          "execution_count": 4
        }
      ]
    },
    {
      "cell_type": "markdown",
      "source": [
        "Responta por cidade \n"
      ],
      "metadata": {
        "id": "7XuQmsaLkFZb"
      }
    },
    {
      "cell_type": "code",
      "source": [
        "DPC =Dados.groupby('Cidade ').size()\n",
        "display(DPC)"
      ],
      "metadata": {
        "colab": {
          "base_uri": "https://localhost:8080/",
          "height": 356
        },
        "id": "1nczpvFTkK5F",
        "outputId": "6d8c1c9e-94c8-4e5f-cc1a-751b840b3a1c"
      },
      "execution_count": 5,
      "outputs": [
        {
          "output_type": "display_data",
          "data": {
            "text/plain": [
              "Cidade \n",
              "Angra dos reis       1\n",
              "Barra do Piraí       7\n",
              "Barra mansa         10\n",
              "Mendes               5\n",
              "Miguel Pereira       2\n",
              "Pinheiral            8\n",
              "Piraí                1\n",
              "Resende              4\n",
              "Resende RJ           1\n",
              "Valença              1\n",
              "Vassouras            5\n",
              "Vassouras            1\n",
              "Volta Redonda        2\n",
              "Volta Redonda        1\n",
              "Volta Redonda      107\n",
              "Volta redonda        1\n",
              "Volta redonda        1\n",
              "dtype: int64"
            ]
          },
          "metadata": {}
        }
      ]
    },
    {
      "cell_type": "code",
      "source": [
        "Dados['Cidade '].unique()"
      ],
      "metadata": {
        "colab": {
          "base_uri": "https://localhost:8080/"
        },
        "id": "1iVo1ED2lS1z",
        "outputId": "b35ac6e1-eee3-41fb-9a2d-ad5931bb6a18"
      },
      "execution_count": 6,
      "outputs": [
        {
          "output_type": "execute_result",
          "data": {
            "text/plain": [
              "array(['Volta Redonda\\xa0', 'Valença', 'Barra mansa\\xa0', 'Pinheiral',\n",
              "       'Vassouras', 'Barra do Piraí', 'Miguel Pereira', 'Resende',\n",
              "       'Volta Redonda', 'Angra dos reis ', 'Piraí', 'Mendes',\n",
              "       'Volta redonda', 'Resende RJ ', 'Vassouras ', 'Volta Redonda ',\n",
              "       'Volta redonda '], dtype=object)"
            ]
          },
          "metadata": {},
          "execution_count": 6
        }
      ]
    },
    {
      "cell_type": "markdown",
      "source": [
        "Na aplicação do questionário, obtivemos respota de forma com  o nome da cidade escrita de forma diferente. Precimaos tratar os dados. Vamos usar  a função replace  para tratar os dados. "
      ],
      "metadata": {
        "id": "AB2wnPlzmYU0"
      }
    },
    {
      "cell_type": "code",
      "source": [
        "Dados['Cidade '] = Dados['Cidade '].apply(lambda x: str(x).replace('Volta redonda','Volta Redonda'))\n",
        "DPC =Dados.groupby('Cidade ').size()"
      ],
      "metadata": {
        "id": "13hloS0LsI3b"
      },
      "execution_count": 7,
      "outputs": []
    },
    {
      "cell_type": "code",
      "source": [
        "Dados['Cidade '] = Dados['Cidade '].apply(lambda x: str(x).replace('Volta Redonda ','Volta Redonda'))\n",
        "DPC =Dados.groupby('Cidade ').size()"
      ],
      "metadata": {
        "id": "HE45eswatfcj"
      },
      "execution_count": 8,
      "outputs": []
    },
    {
      "cell_type": "code",
      "source": [
        "Dados['Cidade '] = Dados['Cidade '].apply(lambda x: str(x).replace('Volta redonda ','Volta Redonda'))\n",
        "DPC =Dados.groupby('Cidade ').size()"
      ],
      "metadata": {
        "id": "Zkhj1rErsbSA"
      },
      "execution_count": 9,
      "outputs": []
    },
    {
      "cell_type": "code",
      "source": [
        "Dados['Cidade '] = Dados['Cidade '].apply(lambda x: str(x).replace('Volta redonda','Volta Redonda'))\n",
        "DPC =Dados.groupby('Cidade ').size()"
      ],
      "metadata": {
        "id": "bZmJ7is-uUFQ"
      },
      "execution_count": 10,
      "outputs": []
    },
    {
      "cell_type": "code",
      "source": [
        "Dados['Cidade '] = Dados['Cidade '].apply(lambda x: str(x).replace('Vassouras ','Vassouras'))\n",
        "DPC =Dados.groupby('Cidade ').size()"
      ],
      "metadata": {
        "id": "MJ5CGZg2uv5z"
      },
      "execution_count": 11,
      "outputs": []
    },
    {
      "cell_type": "code",
      "source": [
        "Dados['Cidade '] = Dados['Cidade '].apply(lambda x: str(x).replace('Resende RJ ','Resende'))\n",
        "DPC =Dados.groupby('Cidade ').size()"
      ],
      "metadata": {
        "id": "pAkHQECRu4Yl"
      },
      "execution_count": 12,
      "outputs": []
    },
    {
      "cell_type": "code",
      "source": [
        "Dados['Cidade '] = Dados['Cidade '].apply(lambda x: str(x).replace('Volta Redonda\\xa0','Volta Redonda'))\n",
        "DPC =Dados.groupby('Cidade ').size()\n",
        "display(DPC)"
      ],
      "metadata": {
        "colab": {
          "base_uri": "https://localhost:8080/",
          "height": 249
        },
        "id": "gl1mgIZVna9r",
        "outputId": "bb10f2c0-e07b-4541-f558-85171d738988"
      },
      "execution_count": 13,
      "outputs": [
        {
          "output_type": "display_data",
          "data": {
            "text/plain": [
              "Cidade \n",
              "Angra dos reis       1\n",
              "Barra do Piraí       7\n",
              "Barra mansa         10\n",
              "Mendes               5\n",
              "Miguel Pereira       2\n",
              "Pinheiral            8\n",
              "Piraí                1\n",
              "Resende              5\n",
              "Valença              1\n",
              "Vassouras            6\n",
              "Volta Redonda      112\n",
              "dtype: int64"
            ]
          },
          "metadata": {}
        }
      ]
    },
    {
      "cell_type": "code",
      "source": [
        "Dados['Cidade '].unique()\n"
      ],
      "metadata": {
        "colab": {
          "base_uri": "https://localhost:8080/"
        },
        "id": "PHzXH4pbpRcb",
        "outputId": "ad324812-54f2-4162-f298-189b2cd2c471"
      },
      "execution_count": 14,
      "outputs": [
        {
          "output_type": "execute_result",
          "data": {
            "text/plain": [
              "array(['Volta Redonda', 'Valença', 'Barra mansa\\xa0', 'Pinheiral',\n",
              "       'Vassouras', 'Barra do Piraí', 'Miguel Pereira', 'Resende',\n",
              "       'Angra dos reis ', 'Piraí', 'Mendes'], dtype=object)"
            ]
          },
          "metadata": {},
          "execution_count": 14
        }
      ]
    },
    {
      "cell_type": "code",
      "source": [
        "Dados.groupby('Graduação').size()"
      ],
      "metadata": {
        "colab": {
          "base_uri": "https://localhost:8080/"
        },
        "id": "VhejJgq4xo-g",
        "outputId": "2ea2eecf-b287-4f2e-f1f6-ac5db1dc8e1e"
      },
      "execution_count": 15,
      "outputs": [
        {
          "output_type": "execute_result",
          "data": {
            "text/plain": [
              "Graduação\n",
              " Roxa      1\n",
              "Azul      38\n",
              "Branca    30\n",
              "Marrom    16\n",
              "Preta     48\n",
              "Roxa      24\n",
              "Verde      1\n",
              "dtype: int64"
            ]
          },
          "metadata": {},
          "execution_count": 15
        }
      ]
    },
    {
      "cell_type": "code",
      "source": [
        "Dados['Graduação'] = Dados['Graduação'].apply(lambda x: str(x).replace(' Roxa','Roxa'))"
      ],
      "metadata": {
        "id": "0zSrY0fL99Bn"
      },
      "execution_count": 16,
      "outputs": []
    },
    {
      "cell_type": "code",
      "source": [
        "Dados.groupby('Graduação').size()"
      ],
      "metadata": {
        "colab": {
          "base_uri": "https://localhost:8080/"
        },
        "id": "iXnLpSdMyCcb",
        "outputId": "07007d31-03fe-4d79-a311-bef2c2a0eaf3"
      },
      "execution_count": 17,
      "outputs": [
        {
          "output_type": "execute_result",
          "data": {
            "text/plain": [
              "Graduação\n",
              "Azul      38\n",
              "Branca    30\n",
              "Marrom    16\n",
              "Preta     48\n",
              "Roxa      25\n",
              "Verde      1\n",
              "dtype: int64"
            ]
          },
          "metadata": {},
          "execution_count": 17
        }
      ]
    },
    {
      "cell_type": "markdown",
      "source": [
        "Vamos salvar os data frame  trato com a escrita Volta Redonda correta. "
      ],
      "metadata": {
        "id": "62rOH8vErIU-"
      }
    },
    {
      "cell_type": "code",
      "source": [
        "Dados.to_excel(\"Dados_alterado.xlsx\")"
      ],
      "metadata": {
        "id": "h08RlNhQrTOF"
      },
      "execution_count": 18,
      "outputs": []
    },
    {
      "cell_type": "markdown",
      "source": [
        "Vamos selecionar so os dados de Volta Redonda pois onde se obtever maior amostragem. \n"
      ],
      "metadata": {
        "id": "0zZF3cj9s-0W"
      }
    },
    {
      "cell_type": "code",
      "source": [
        "DVR=Dados[Dados['Cidade ']=='Volta Redonda']#Selecionando so os praticante de VR. \n",
        "DVR.to_excel(\"DadosVR.xlsx\")\n",
        "DVR.head()"
      ],
      "metadata": {
        "id": "DoXoMQjqvx1j",
        "colab": {
          "base_uri": "https://localhost:8080/",
          "height": 670
        },
        "outputId": "bafacda7-308d-4d85-b365-9c3c555553ab"
      },
      "execution_count": 19,
      "outputs": [
        {
          "output_type": "execute_result",
          "data": {
            "text/plain": [
              "     Carimbo de data/hora                    Nome  Idade        Cidade   \\\n",
              "0 2022-10-08 14:04:12.035                 wallace     34  Volta Redonda   \n",
              "1 2022-10-08 14:39:58.652                  Daniel     20  Volta Redonda   \n",
              "2 2022-10-08 16:00:06.378         Douglas Adriano     29  Volta Redonda   \n",
              "4 2022-10-08 16:12:31.973   Maxwel Dutra de Paula     56  Volta Redonda   \n",
              "6 2022-10-08 16:22:33.018  Rodrigo Soares Da Cruz     40  Volta Redonda   \n",
              "\n",
              "           CPF Graduação  Há quanto anos treina Jiu-Jitsu.           Bairro  \\\n",
              "0  05922115766     Preta                                 13             249   \n",
              "1  17793635752      Roxa                                  3  Nova esperança   \n",
              "2  15120923712    Marrom                                 10   Monte castelo   \n",
              "4  84644087734     Preta                                 30      Água limpa   \n",
              "6  10600318761     Preta                                 22     Sao Geraldo   \n",
              "\n",
              "        Sexo  Quanto tempo demorou para obter a graduação atual  \\\n",
              "0  Masculino                                                  7   \n",
              "1  Masculino                                                  2   \n",
              "2  Masculino                                                 10   \n",
              "4  Masculino                                                 19   \n",
              "6  Masculino                                                 19   \n",
              "\n",
              "   Está há quanto anos na graduação atual   \\\n",
              "0                                        5   \n",
              "1                                        1   \n",
              "2                                        2   \n",
              "4                                       11   \n",
              "6                                        3   \n",
              "\n",
              "  Em relação aos treinos, qual a sua frequência ?  \\\n",
              "0                       De 1 a 2 vezes por semana   \n",
              "1                       De 1 a 2 vezes por semana   \n",
              "2                       De 2 a 3 vezes por semana   \n",
              "4                       De 3 a 4 vezes por semana   \n",
              "6                       De 3 a 4 vezes por semana   \n",
              "\n",
              "    Se  você parou de treinar, Qual o foi o motivo ? É  federado.  CPF.1  \n",
              "0                                           Trabalho           Sim   NaN  \n",
              "1                                           Trabalho           Sim   NaN  \n",
              "2  Lesão no treino, Trabalho, Mudança de de cidad...           Não   NaN  \n",
              "4                                          Não parei           Sim   NaN  \n",
              "6   Horários, Trabalho, Mudança de de cidade/ estado           Sim   NaN  "
            ],
            "text/html": [
              "\n",
              "  <div id=\"df-67c8b054-3efb-4e7c-9911-a88f8a862bb6\">\n",
              "    <div class=\"colab-df-container\">\n",
              "      <div>\n",
              "<style scoped>\n",
              "    .dataframe tbody tr th:only-of-type {\n",
              "        vertical-align: middle;\n",
              "    }\n",
              "\n",
              "    .dataframe tbody tr th {\n",
              "        vertical-align: top;\n",
              "    }\n",
              "\n",
              "    .dataframe thead th {\n",
              "        text-align: right;\n",
              "    }\n",
              "</style>\n",
              "<table border=\"1\" class=\"dataframe\">\n",
              "  <thead>\n",
              "    <tr style=\"text-align: right;\">\n",
              "      <th></th>\n",
              "      <th>Carimbo de data/hora</th>\n",
              "      <th>Nome</th>\n",
              "      <th>Idade</th>\n",
              "      <th>Cidade</th>\n",
              "      <th>CPF</th>\n",
              "      <th>Graduação</th>\n",
              "      <th>Há quanto anos treina Jiu-Jitsu.</th>\n",
              "      <th>Bairro</th>\n",
              "      <th>Sexo</th>\n",
              "      <th>Quanto tempo demorou para obter a graduação atual</th>\n",
              "      <th>Está há quanto anos na graduação atual</th>\n",
              "      <th>Em relação aos treinos, qual a sua frequência ?</th>\n",
              "      <th>Se  você parou de treinar, Qual o foi o motivo ?</th>\n",
              "      <th>É  federado.</th>\n",
              "      <th>CPF.1</th>\n",
              "    </tr>\n",
              "  </thead>\n",
              "  <tbody>\n",
              "    <tr>\n",
              "      <th>0</th>\n",
              "      <td>2022-10-08 14:04:12.035</td>\n",
              "      <td>wallace</td>\n",
              "      <td>34</td>\n",
              "      <td>Volta Redonda</td>\n",
              "      <td>05922115766</td>\n",
              "      <td>Preta</td>\n",
              "      <td>13</td>\n",
              "      <td>249</td>\n",
              "      <td>Masculino</td>\n",
              "      <td>7</td>\n",
              "      <td>5</td>\n",
              "      <td>De 1 a 2 vezes por semana</td>\n",
              "      <td>Trabalho</td>\n",
              "      <td>Sim</td>\n",
              "      <td>NaN</td>\n",
              "    </tr>\n",
              "    <tr>\n",
              "      <th>1</th>\n",
              "      <td>2022-10-08 14:39:58.652</td>\n",
              "      <td>Daniel</td>\n",
              "      <td>20</td>\n",
              "      <td>Volta Redonda</td>\n",
              "      <td>17793635752</td>\n",
              "      <td>Roxa</td>\n",
              "      <td>3</td>\n",
              "      <td>Nova esperança</td>\n",
              "      <td>Masculino</td>\n",
              "      <td>2</td>\n",
              "      <td>1</td>\n",
              "      <td>De 1 a 2 vezes por semana</td>\n",
              "      <td>Trabalho</td>\n",
              "      <td>Sim</td>\n",
              "      <td>NaN</td>\n",
              "    </tr>\n",
              "    <tr>\n",
              "      <th>2</th>\n",
              "      <td>2022-10-08 16:00:06.378</td>\n",
              "      <td>Douglas Adriano</td>\n",
              "      <td>29</td>\n",
              "      <td>Volta Redonda</td>\n",
              "      <td>15120923712</td>\n",
              "      <td>Marrom</td>\n",
              "      <td>10</td>\n",
              "      <td>Monte castelo</td>\n",
              "      <td>Masculino</td>\n",
              "      <td>10</td>\n",
              "      <td>2</td>\n",
              "      <td>De 2 a 3 vezes por semana</td>\n",
              "      <td>Lesão no treino, Trabalho, Mudança de de cidad...</td>\n",
              "      <td>Não</td>\n",
              "      <td>NaN</td>\n",
              "    </tr>\n",
              "    <tr>\n",
              "      <th>4</th>\n",
              "      <td>2022-10-08 16:12:31.973</td>\n",
              "      <td>Maxwel Dutra de Paula</td>\n",
              "      <td>56</td>\n",
              "      <td>Volta Redonda</td>\n",
              "      <td>84644087734</td>\n",
              "      <td>Preta</td>\n",
              "      <td>30</td>\n",
              "      <td>Água limpa</td>\n",
              "      <td>Masculino</td>\n",
              "      <td>19</td>\n",
              "      <td>11</td>\n",
              "      <td>De 3 a 4 vezes por semana</td>\n",
              "      <td>Não parei</td>\n",
              "      <td>Sim</td>\n",
              "      <td>NaN</td>\n",
              "    </tr>\n",
              "    <tr>\n",
              "      <th>6</th>\n",
              "      <td>2022-10-08 16:22:33.018</td>\n",
              "      <td>Rodrigo Soares Da Cruz</td>\n",
              "      <td>40</td>\n",
              "      <td>Volta Redonda</td>\n",
              "      <td>10600318761</td>\n",
              "      <td>Preta</td>\n",
              "      <td>22</td>\n",
              "      <td>Sao Geraldo</td>\n",
              "      <td>Masculino</td>\n",
              "      <td>19</td>\n",
              "      <td>3</td>\n",
              "      <td>De 3 a 4 vezes por semana</td>\n",
              "      <td>Horários, Trabalho, Mudança de de cidade/ estado</td>\n",
              "      <td>Sim</td>\n",
              "      <td>NaN</td>\n",
              "    </tr>\n",
              "  </tbody>\n",
              "</table>\n",
              "</div>\n",
              "      <button class=\"colab-df-convert\" onclick=\"convertToInteractive('df-67c8b054-3efb-4e7c-9911-a88f8a862bb6')\"\n",
              "              title=\"Convert this dataframe to an interactive table.\"\n",
              "              style=\"display:none;\">\n",
              "        \n",
              "  <svg xmlns=\"http://www.w3.org/2000/svg\" height=\"24px\"viewBox=\"0 0 24 24\"\n",
              "       width=\"24px\">\n",
              "    <path d=\"M0 0h24v24H0V0z\" fill=\"none\"/>\n",
              "    <path d=\"M18.56 5.44l.94 2.06.94-2.06 2.06-.94-2.06-.94-.94-2.06-.94 2.06-2.06.94zm-11 1L8.5 8.5l.94-2.06 2.06-.94-2.06-.94L8.5 2.5l-.94 2.06-2.06.94zm10 10l.94 2.06.94-2.06 2.06-.94-2.06-.94-.94-2.06-.94 2.06-2.06.94z\"/><path d=\"M17.41 7.96l-1.37-1.37c-.4-.4-.92-.59-1.43-.59-.52 0-1.04.2-1.43.59L10.3 9.45l-7.72 7.72c-.78.78-.78 2.05 0 2.83L4 21.41c.39.39.9.59 1.41.59.51 0 1.02-.2 1.41-.59l7.78-7.78 2.81-2.81c.8-.78.8-2.07 0-2.86zM5.41 20L4 18.59l7.72-7.72 1.47 1.35L5.41 20z\"/>\n",
              "  </svg>\n",
              "      </button>\n",
              "      \n",
              "  <style>\n",
              "    .colab-df-container {\n",
              "      display:flex;\n",
              "      flex-wrap:wrap;\n",
              "      gap: 12px;\n",
              "    }\n",
              "\n",
              "    .colab-df-convert {\n",
              "      background-color: #E8F0FE;\n",
              "      border: none;\n",
              "      border-radius: 50%;\n",
              "      cursor: pointer;\n",
              "      display: none;\n",
              "      fill: #1967D2;\n",
              "      height: 32px;\n",
              "      padding: 0 0 0 0;\n",
              "      width: 32px;\n",
              "    }\n",
              "\n",
              "    .colab-df-convert:hover {\n",
              "      background-color: #E2EBFA;\n",
              "      box-shadow: 0px 1px 2px rgba(60, 64, 67, 0.3), 0px 1px 3px 1px rgba(60, 64, 67, 0.15);\n",
              "      fill: #174EA6;\n",
              "    }\n",
              "\n",
              "    [theme=dark] .colab-df-convert {\n",
              "      background-color: #3B4455;\n",
              "      fill: #D2E3FC;\n",
              "    }\n",
              "\n",
              "    [theme=dark] .colab-df-convert:hover {\n",
              "      background-color: #434B5C;\n",
              "      box-shadow: 0px 1px 3px 1px rgba(0, 0, 0, 0.15);\n",
              "      filter: drop-shadow(0px 1px 2px rgba(0, 0, 0, 0.3));\n",
              "      fill: #FFFFFF;\n",
              "    }\n",
              "  </style>\n",
              "\n",
              "      <script>\n",
              "        const buttonEl =\n",
              "          document.querySelector('#df-67c8b054-3efb-4e7c-9911-a88f8a862bb6 button.colab-df-convert');\n",
              "        buttonEl.style.display =\n",
              "          google.colab.kernel.accessAllowed ? 'block' : 'none';\n",
              "\n",
              "        async function convertToInteractive(key) {\n",
              "          const element = document.querySelector('#df-67c8b054-3efb-4e7c-9911-a88f8a862bb6');\n",
              "          const dataTable =\n",
              "            await google.colab.kernel.invokeFunction('convertToInteractive',\n",
              "                                                     [key], {});\n",
              "          if (!dataTable) return;\n",
              "\n",
              "          const docLinkHtml = 'Like what you see? Visit the ' +\n",
              "            '<a target=\"_blank\" href=https://colab.research.google.com/notebooks/data_table.ipynb>data table notebook</a>'\n",
              "            + ' to learn more about interactive tables.';\n",
              "          element.innerHTML = '';\n",
              "          dataTable['output_type'] = 'display_data';\n",
              "          await google.colab.output.renderOutput(dataTable, element);\n",
              "          const docLink = document.createElement('div');\n",
              "          docLink.innerHTML = docLinkHtml;\n",
              "          element.appendChild(docLink);\n",
              "        }\n",
              "      </script>\n",
              "    </div>\n",
              "  </div>\n",
              "  "
            ]
          },
          "metadata": {},
          "execution_count": 19
        }
      ]
    },
    {
      "cell_type": "markdown",
      "source": [
        "Vamoas começar com os dados estatistico."
      ],
      "metadata": {
        "id": "gYM4m5Wtw4rq"
      }
    },
    {
      "cell_type": "code",
      "source": [
        "DPG = DVR.groupby('Graduação').size()\n",
        "display(DPG)\n",
        "DPG.to_excel(\"DPG.xlsx\")"
      ],
      "metadata": {
        "colab": {
          "base_uri": "https://localhost:8080/",
          "height": 160
        },
        "id": "LM5gpIE0zEM4",
        "outputId": "1d5fe554-b4ae-49f8-b523-cb1955636d0c"
      },
      "execution_count": 36,
      "outputs": [
        {
          "output_type": "display_data",
          "data": {
            "text/plain": [
              "Graduação\n",
              "Azul      30\n",
              "Branca    20\n",
              "Marrom     9\n",
              "Preta     31\n",
              "Roxa      21\n",
              "Verde      1\n",
              "dtype: int64"
            ]
          },
          "metadata": {}
        }
      ]
    },
    {
      "cell_type": "code",
      "source": [
        "DVR.groupby('Bairro').size()#Selicionando os bairros. "
      ],
      "metadata": {
        "colab": {
          "base_uri": "https://localhost:8080/"
        },
        "id": "I5vUiPrJ1GxO",
        "outputId": "ff2460d5-45ae-4336-d55d-9bf3545fd317"
      },
      "execution_count": 22,
      "outputs": [
        {
          "output_type": "execute_result",
          "data": {
            "text/plain": [
              "Bairro\n",
              "249                 1\n",
              "Agua limpa          1\n",
              "Aterrado           12\n",
              "Açude 1             1\n",
              "Açude 2             1\n",
              "                   ..\n",
              "Volta grande 1      1\n",
              "Volta grande 3      1\n",
              "santo agostinho     1\n",
              "Água Limpa          2\n",
              "Água limpa          5\n",
              "Length: 72, dtype: int64"
            ]
          },
          "metadata": {},
          "execution_count": 22
        }
      ]
    },
    {
      "cell_type": "code",
      "source": [
        "DVRSEXO=DVR.groupby('Sexo').size()\n",
        "DVRSEXO.head()"
      ],
      "metadata": {
        "colab": {
          "base_uri": "https://localhost:8080/"
        },
        "id": "bZF3rbw51nll",
        "outputId": "b975de30-aa3e-4831-85da-e3a8232dbdb8"
      },
      "execution_count": 23,
      "outputs": [
        {
          "output_type": "execute_result",
          "data": {
            "text/plain": [
              "Sexo\n",
              "Femenino       5\n",
              "Masculino    107\n",
              "dtype: int64"
            ]
          },
          "metadata": {},
          "execution_count": 23
        }
      ]
    },
    {
      "cell_type": "code",
      "source": [
        "DVRSEXO.plot(kind='bar', x='Graduação', y=0, figsize=(5,6), colormap='Blues_r');"
      ],
      "metadata": {
        "colab": {
          "base_uri": "https://localhost:8080/",
          "height": 428
        },
        "id": "DGUQ5_mS2qkJ",
        "outputId": "4b036707-c0ee-42c0-c414-73ca755fd117"
      },
      "execution_count": 24,
      "outputs": [
        {
          "output_type": "display_data",
          "data": {
            "text/plain": [
              "<Figure size 360x432 with 1 Axes>"
            ],
            "image/png": "[encoded data removed]"
          },
          "metadata": {
            "needs_background": "light"
          }
        }
      ]
    },
    {
      "cell_type": "markdown",
      "source": [
        "Vamos gera o grafico quantidade por graduação."
      ],
      "metadata": {
        "id": "q-VphAub06tE"
      }
    },
    {
      "cell_type": "code",
      "source": [
        "DPG.plot(kind='bar', x='Graduação', y=0, figsize=(15,6), colormap='gray');"
      ],
      "metadata": {
        "colab": {
          "base_uri": "https://localhost:8080/",
          "height": 416
        },
        "id": "pv4Bilx69Lhc",
        "outputId": "34923bc0-eff3-45ed-ff17-08a9cd9de26c"
      },
      "execution_count": 25,
      "outputs": [
        {
          "output_type": "display_data",
          "data": {
            "text/plain": [
              "<Figure size 1080x432 with 1 Axes>"
            ],
            "image/png": "[encoded data removed]"
          },
          "metadata": {
            "needs_background": "light"
          }
        }
      ]
    },
    {
      "cell_type": "markdown",
      "source": [
        "Vamos gerar um grafico com os faixas preta da cidade de Volta Redonda."
      ],
      "metadata": {
        "id": "ozNNqSd5zHF_"
      }
    },
    {
      "cell_type": "code",
      "source": [
        "DFPVR=DVR[DVR['Graduação']=='Preta']\n",
        "DFPVR.head()\n"
      ],
      "metadata": {
        "colab": {
          "base_uri": "https://localhost:8080/",
          "height": 652
        },
        "id": "COuYa8ubzOoW",
        "outputId": "fd9ed46e-e4b5-4a86-b189-e2e3697799a5"
      },
      "execution_count": 26,
      "outputs": [
        {
          "output_type": "execute_result",
          "data": {
            "text/plain": [
              "      Carimbo de data/hora                      Nome  Idade        Cidade   \\\n",
              "0  2022-10-08 14:04:12.035                   wallace     34  Volta Redonda   \n",
              "4  2022-10-08 16:12:31.973     Maxwel Dutra de Paula     56  Volta Redonda   \n",
              "6  2022-10-08 16:22:33.018    Rodrigo Soares Da Cruz     40  Volta Redonda   \n",
              "8  2022-10-08 16:35:47.710                  Leonardo     40  Volta Redonda   \n",
              "12 2022-10-08 17:03:29.390  José Ricardo de Oliveira     53  Volta Redonda   \n",
              "\n",
              "            CPF Graduação  Há quanto anos treina Jiu-Jitsu.   \\\n",
              "0   05922115766     Preta                                 13   \n",
              "4   84644087734     Preta                                 30   \n",
              "6   10600318761     Preta                                 22   \n",
              "8   09504584730     Preta                                 23   \n",
              "12  00188579737     Preta                                 27   \n",
              "\n",
              "              Bairro       Sexo  \\\n",
              "0                249  Masculino   \n",
              "4         Água limpa  Masculino   \n",
              "6        Sao Geraldo  Masculino   \n",
              "8            Rústico  Masculino   \n",
              "12  Jardim Belvedere  Masculino   \n",
              "\n",
              "    Quanto tempo demorou para obter a graduação atual  \\\n",
              "0                                                   7   \n",
              "4                                                  19   \n",
              "6                                                  19   \n",
              "8                                                  17   \n",
              "12                                                 15   \n",
              "\n",
              "    Está há quanto anos na graduação atual   \\\n",
              "0                                         5   \n",
              "4                                        11   \n",
              "6                                         3   \n",
              "8                                         6   \n",
              "12                                       12   \n",
              "\n",
              "   Em relação aos treinos, qual a sua frequência ?  \\\n",
              "0                        De 1 a 2 vezes por semana   \n",
              "4                        De 3 a 4 vezes por semana   \n",
              "6                        De 3 a 4 vezes por semana   \n",
              "8                        De 1 a 2 vezes por semana   \n",
              "12                       De 2 a 3 vezes por semana   \n",
              "\n",
              "     Se  você parou de treinar, Qual o foi o motivo ? É  federado.  CPF.1  \n",
              "0                                            Trabalho           Sim   NaN  \n",
              "4                                           Não parei           Sim   NaN  \n",
              "6    Horários, Trabalho, Mudança de de cidade/ estado           Sim   NaN  \n",
              "8   Lesão fora do treino, Horários, Trabalho, Muda...           Sim   NaN  \n",
              "12                               Lesão fora do treino           Não   NaN  "
            ],
            "text/html": [
              "\n",
              "  <div id=\"df-a8b0fe29-9184-4674-ad0a-38370809c944\">\n",
              "    <div class=\"colab-df-container\">\n",
              "      <div>\n",
              "<style scoped>\n",
              "    .dataframe tbody tr th:only-of-type {\n",
              "        vertical-align: middle;\n",
              "    }\n",
              "\n",
              "    .dataframe tbody tr th {\n",
              "        vertical-align: top;\n",
              "    }\n",
              "\n",
              "    .dataframe thead th {\n",
              "        text-align: right;\n",
              "    }\n",
              "</style>\n",
              "<table border=\"1\" class=\"dataframe\">\n",
              "  <thead>\n",
              "    <tr style=\"text-align: right;\">\n",
              "      <th></th>\n",
              "      <th>Carimbo de data/hora</th>\n",
              "      <th>Nome</th>\n",
              "      <th>Idade</th>\n",
              "      <th>Cidade</th>\n",
              "      <th>CPF</th>\n",
              "      <th>Graduação</th>\n",
              "      <th>Há quanto anos treina Jiu-Jitsu.</th>\n",
              "      <th>Bairro</th>\n",
              "      <th>Sexo</th>\n",
              "      <th>Quanto tempo demorou para obter a graduação atual</th>\n",
              "      <th>Está há quanto anos na graduação atual</th>\n",
              "      <th>Em relação aos treinos, qual a sua frequência ?</th>\n",
              "      <th>Se  você parou de treinar, Qual o foi o motivo ?</th>\n",
              "      <th>É  federado.</th>\n",
              "      <th>CPF.1</th>\n",
              "    </tr>\n",
              "  </thead>\n",
              "  <tbody>\n",
              "    <tr>\n",
              "      <th>0</th>\n",
              "      <td>2022-10-08 14:04:12.035</td>\n",
              "      <td>wallace</td>\n",
              "      <td>34</td>\n",
              "      <td>Volta Redonda</td>\n",
              "      <td>05922115766</td>\n",
              "      <td>Preta</td>\n",
              "      <td>13</td>\n",
              "      <td>249</td>\n",
              "      <td>Masculino</td>\n",
              "      <td>7</td>\n",
              "      <td>5</td>\n",
              "      <td>De 1 a 2 vezes por semana</td>\n",
              "      <td>Trabalho</td>\n",
              "      <td>Sim</td>\n",
              "      <td>NaN</td>\n",
              "    </tr>\n",
              "    <tr>\n",
              "      <th>4</th>\n",
              "      <td>2022-10-08 16:12:31.973</td>\n",
              "      <td>Maxwel Dutra de Paula</td>\n",
              "      <td>56</td>\n",
              "      <td>Volta Redonda</td>\n",
              "      <td>84644087734</td>\n",
              "      <td>Preta</td>\n",
              "      <td>30</td>\n",
              "      <td>Água limpa</td>\n",
              "      <td>Masculino</td>\n",
              "      <td>19</td>\n",
              "      <td>11</td>\n",
              "      <td>De 3 a 4 vezes por semana</td>\n",
              "      <td>Não parei</td>\n",
              "      <td>Sim</td>\n",
              "      <td>NaN</td>\n",
              "    </tr>\n",
              "    <tr>\n",
              "      <th>6</th>\n",
              "      <td>2022-10-08 16:22:33.018</td>\n",
              "      <td>Rodrigo Soares Da Cruz</td>\n",
              "      <td>40</td>\n",
              "      <td>Volta Redonda</td>\n",
              "      <td>10600318761</td>\n",
              "      <td>Preta</td>\n",
              "      <td>22</td>\n",
              "      <td>Sao Geraldo</td>\n",
              "      <td>Masculino</td>\n",
              "      <td>19</td>\n",
              "      <td>3</td>\n",
              "      <td>De 3 a 4 vezes por semana</td>\n",
              "      <td>Horários, Trabalho, Mudança de de cidade/ estado</td>\n",
              "      <td>Sim</td>\n",
              "      <td>NaN</td>\n",
              "    </tr>\n",
              "    <tr>\n",
              "      <th>8</th>\n",
              "      <td>2022-10-08 16:35:47.710</td>\n",
              "      <td>Leonardo</td>\n",
              "      <td>40</td>\n",
              "      <td>Volta Redonda</td>\n",
              "      <td>09504584730</td>\n",
              "      <td>Preta</td>\n",
              "      <td>23</td>\n",
              "      <td>Rústico</td>\n",
              "      <td>Masculino</td>\n",
              "      <td>17</td>\n",
              "      <td>6</td>\n",
              "      <td>De 1 a 2 vezes por semana</td>\n",
              "      <td>Lesão fora do treino, Horários, Trabalho, Muda...</td>\n",
              "      <td>Sim</td>\n",
              "      <td>NaN</td>\n",
              "    </tr>\n",
              "    <tr>\n",
              "      <th>12</th>\n",
              "      <td>2022-10-08 17:03:29.390</td>\n",
              "      <td>José Ricardo de Oliveira</td>\n",
              "      <td>53</td>\n",
              "      <td>Volta Redonda</td>\n",
              "      <td>00188579737</td>\n",
              "      <td>Preta</td>\n",
              "      <td>27</td>\n",
              "      <td>Jardim Belvedere</td>\n",
              "      <td>Masculino</td>\n",
              "      <td>15</td>\n",
              "      <td>12</td>\n",
              "      <td>De 2 a 3 vezes por semana</td>\n",
              "      <td>Lesão fora do treino</td>\n",
              "      <td>Não</td>\n",
              "      <td>NaN</td>\n",
              "    </tr>\n",
              "  </tbody>\n",
              "</table>\n",
              "</div>\n",
              "      <button class=\"colab-df-convert\" onclick=\"convertToInteractive('df-a8b0fe29-9184-4674-ad0a-38370809c944')\"\n",
              "              title=\"Convert this dataframe to an interactive table.\"\n",
              "              style=\"display:none;\">\n",
              "        \n",
              "  <svg xmlns=\"http://www.w3.org/2000/svg\" height=\"24px\"viewBox=\"0 0 24 24\"\n",
              "       width=\"24px\">\n",
              "    <path d=\"M0 0h24v24H0V0z\" fill=\"none\"/>\n",
              "    <path d=\"M18.56 5.44l.94 2.06.94-2.06 2.06-.94-2.06-.94-.94-2.06-.94 2.06-2.06.94zm-11 1L8.5 8.5l.94-2.06 2.06-.94-2.06-.94L8.5 2.5l-.94 2.06-2.06.94zm10 10l.94 2.06.94-2.06 2.06-.94-2.06-.94-.94-2.06-.94 2.06-2.06.94z\"/><path d=\"M17.41 7.96l-1.37-1.37c-.4-.4-.92-.59-1.43-.59-.52 0-1.04.2-1.43.59L10.3 9.45l-7.72 7.72c-.78.78-.78 2.05 0 2.83L4 21.41c.39.39.9.59 1.41.59.51 0 1.02-.2 1.41-.59l7.78-7.78 2.81-2.81c.8-.78.8-2.07 0-2.86zM5.41 20L4 18.59l7.72-7.72 1.47 1.35L5.41 20z\"/>\n",
              "  </svg>\n",
              "      </button>\n",
              "      \n",
              "  <style>\n",
              "    .colab-df-container {\n",
              "      display:flex;\n",
              "      flex-wrap:wrap;\n",
              "      gap: 12px;\n",
              "    }\n",
              "\n",
              "    .colab-df-convert {\n",
              "      background-color: #E8F0FE;\n",
              "      border: none;\n",
              "      border-radius: 50%;\n",
              "      cursor: pointer;\n",
              "      display: none;\n",
              "      fill: #1967D2;\n",
              "      height: 32px;\n",
              "      padding: 0 0 0 0;\n",
              "      width: 32px;\n",
              "    }\n",
              "\n",
              "    .colab-df-convert:hover {\n",
              "      background-color: #E2EBFA;\n",
              "      box-shadow: 0px 1px 2px rgba(60, 64, 67, 0.3), 0px 1px 3px 1px rgba(60, 64, 67, 0.15);\n",
              "      fill: #174EA6;\n",
              "    }\n",
              "\n",
              "    [theme=dark] .colab-df-convert {\n",
              "      background-color: #3B4455;\n",
              "      fill: #D2E3FC;\n",
              "    }\n",
              "\n",
              "    [theme=dark] .colab-df-convert:hover {\n",
              "      background-color: #434B5C;\n",
              "      box-shadow: 0px 1px 3px 1px rgba(0, 0, 0, 0.15);\n",
              "      filter: drop-shadow(0px 1px 2px rgba(0, 0, 0, 0.3));\n",
              "      fill: #FFFFFF;\n",
              "    }\n",
              "  </style>\n",
              "\n",
              "      <script>\n",
              "        const buttonEl =\n",
              "          document.querySelector('#df-a8b0fe29-9184-4674-ad0a-38370809c944 button.colab-df-convert');\n",
              "        buttonEl.style.display =\n",
              "          google.colab.kernel.accessAllowed ? 'block' : 'none';\n",
              "\n",
              "        async function convertToInteractive(key) {\n",
              "          const element = document.querySelector('#df-a8b0fe29-9184-4674-ad0a-38370809c944');\n",
              "          const dataTable =\n",
              "            await google.colab.kernel.invokeFunction('convertToInteractive',\n",
              "                                                     [key], {});\n",
              "          if (!dataTable) return;\n",
              "\n",
              "          const docLinkHtml = 'Like what you see? Visit the ' +\n",
              "            '<a target=\"_blank\" href=https://colab.research.google.com/notebooks/data_table.ipynb>data table notebook</a>'\n",
              "            + ' to learn more about interactive tables.';\n",
              "          element.innerHTML = '';\n",
              "          dataTable['output_type'] = 'display_data';\n",
              "          await google.colab.output.renderOutput(dataTable, element);\n",
              "          const docLink = document.createElement('div');\n",
              "          docLink.innerHTML = docLinkHtml;\n",
              "          element.appendChild(docLink);\n",
              "        }\n",
              "      </script>\n",
              "    </div>\n",
              "  </div>\n",
              "  "
            ]
          },
          "metadata": {},
          "execution_count": 26
        }
      ]
    },
    {
      "cell_type": "code",
      "source": [
        "DFPVR.groupby('Bairro').size()"
      ],
      "metadata": {
        "colab": {
          "base_uri": "https://localhost:8080/"
        },
        "id": "hzM8X_eH0wcA",
        "outputId": "c1992cf9-e8d6-462f-8707-f400d5e4d836"
      },
      "execution_count": 27,
      "outputs": [
        {
          "output_type": "execute_result",
          "data": {
            "text/plain": [
              "Bairro\n",
              "249                     1\n",
              "Bela vista              1\n",
              "Belmonte                2\n",
              "Belvedere               1\n",
              "Brasilandia             1\n",
              "Califórnia              1\n",
              "Cidade nova             1\n",
              "Eucaliptal              1\n",
              "Jardim Belvedere        1\n",
              "Jd Mariana              1\n",
              "Jd amália               1\n",
              "Monte Castelo           1\n",
              "Monte castelo           1\n",
              "Morada da colina        1\n",
              "Morada do vale          1\n",
              "Parque das Ilhas        1\n",
              "Retiro                  3\n",
              "Rústico                 1\n",
              "Santa Cruz              2\n",
              "Sao Geraldo             1\n",
              "Sessenta                1\n",
              "São João                1\n",
              "São lucas               1\n",
              "Vila mury               1\n",
              "Vila rica tres pocos    1\n",
              "Água Limpa              1\n",
              "Água limpa              1\n",
              "dtype: int64"
            ]
          },
          "metadata": {},
          "execution_count": 27
        }
      ]
    },
    {
      "cell_type": "code",
      "source": [
        "DFPVR.to_excel(\"DFPVR.xlsx\")"
      ],
      "metadata": {
        "id": "z3_osNdA_DSm"
      },
      "execution_count": 28,
      "outputs": []
    },
    {
      "cell_type": "code",
      "source": [
        "DFPVR.columns"
      ],
      "metadata": {
        "colab": {
          "base_uri": "https://localhost:8080/"
        },
        "id": "2ihNLuDI9aQJ",
        "outputId": "826d715c-7220-4b3d-de1c-3f78db5c15a6"
      },
      "execution_count": 29,
      "outputs": [
        {
          "output_type": "execute_result",
          "data": {
            "text/plain": [
              "Index(['Carimbo de data/hora', 'Nome', 'Idade', 'Cidade ', 'CPF', 'Graduação',\n",
              "       'Há quanto anos treina Jiu-Jitsu. ', 'Bairro', 'Sexo',\n",
              "       'Quanto tempo demorou para obter a graduação atual',\n",
              "       'Está há quanto anos na graduação atual ',\n",
              "       'Em relação aos treinos, qual a sua frequência ?',\n",
              "       'Se  você parou de treinar, Qual o foi o motivo ?', 'É  federado. ',\n",
              "       'CPF.1'],\n",
              "      dtype='object')"
            ]
          },
          "metadata": {},
          "execution_count": 29
        }
      ]
    },
    {
      "cell_type": "markdown",
      "source": [
        "VAMOS TRATAR OS DADOS. NOME DO BAIRRO ESCRITO DE FORMA DEFERENTE. "
      ],
      "metadata": {
        "id": "phKEIcFm386O"
      }
    },
    {
      "cell_type": "code",
      "source": [
        "DVR['Bairro'] = DVR['Bairro'].apply(lambda x: str(x).replace('Água Limpa','Agua limpa '))"
      ],
      "metadata": {
        "colab": {
          "base_uri": "https://localhost:8080/"
        },
        "id": "KMihCZbd4LDq",
        "outputId": "e3748dea-5781-46f0-ee6e-a888f932ac54"
      },
      "execution_count": 30,
      "outputs": [
        {
          "output_type": "stream",
          "name": "stderr",
          "text": [
            "<ipython-input-30-a9951b5f4c48>:1: SettingWithCopyWarning: \n",
            "A value is trying to be set on a copy of a slice from a DataFrame.\n",
            "Try using .loc[row_indexer,col_indexer] = value instead\n",
            "\n",
            "See the caveats in the documentation: https://pandas.pydata.org/pandas-docs/stable/user_guide/indexing.html#returning-a-view-versus-a-copy\n",
            "  DVR['Bairro'] = DVR['Bairro'].apply(lambda x: str(x).replace('Água Limpa','Agua limpa '))\n"
          ]
        }
      ]
    },
    {
      "cell_type": "code",
      "source": [
        "DVR['Bairro'].unique()"
      ],
      "metadata": {
        "colab": {
          "base_uri": "https://localhost:8080/"
        },
        "id": "qOrFvmFr4mxm",
        "outputId": "9b8c9815-dc7f-41c1-df97-284da04c7070"
      },
      "execution_count": 31,
      "outputs": [
        {
          "output_type": "execute_result",
          "data": {
            "text/plain": [
              "array(['249', 'Nova esperança', 'Monte castelo', 'Água limpa',\n",
              "       'Sao Geraldo', 'Aterrado', 'Rústico', 'Jardim Belvedere',\n",
              "       'São Lucas', 'Roma', 'Cidade nova', 'Bela vista', 'Belvedere',\n",
              "       'Volta grande 1', 'Santo Agostinho', 'Belo Horizonte',\n",
              "       'Agua limpa', 'Ponte Alta', 'Morada da Colina', 'Jardim Normandia',\n",
              "       'Volta Grande', 'Vila Santa Cecília', 'Retiro', 'Parque das Ilhas',\n",
              "       'Sessenta', 'Monte Castelo', 'São luis', 'santo agostinho',\n",
              "       'Morada da colina', 'Vila rica tres pocos', 'Eucaliptal',\n",
              "       'Vila rica', 'Santa Cruz', 'Santa cruz', 'Jardim Amália 2',\n",
              "       'Belmonte', 'Massambará', 'Vila Rica', 'Volta grande 3',\n",
              "       'Jd Mariana', 'Morada do vale', 'Bom Jesus', 'Conforto',\n",
              "       'Vila Rica Tiradentes', 'Vale verde', 'Agua limpa ',\n",
              "       'Jardim belvedere', 'São Luís', 'Siderópolis', 'Açude 2',\n",
              "       'Niterói', 'Jd amália', 'Siderlândia', 'Jardim Paraíba',\n",
              "       'Vila Americana', 'Califórnia', 'Jardim Vila Rica Tiradentes',\n",
              "       'Açude 1', 'Jardim Amália 1', 'Siderville', 'Laranjal',\n",
              "       'Vila rica tira-dentes', 'Coqueiros', 'Volta grande',\n",
              "       'Santo agostinho', 'Brasilandia', 'São lucas', 'São João',\n",
              "       'Vila mury', 'Jardim esperança ', 'Monte castelo ', 'Retiro '],\n",
              "      dtype=object)"
            ]
          },
          "metadata": {},
          "execution_count": 31
        }
      ]
    },
    {
      "cell_type": "markdown",
      "source": [
        "Vamos fazer uma analise dos faixas preta de  Volta Redonda.  "
      ],
      "metadata": {
        "id": "PqjdpGR-28Lb"
      }
    },
    {
      "cell_type": "code",
      "source": [
        "DFPVR[['Nome','Idade','Há quanto anos treina Jiu-Jitsu. ','Está há quanto anos na graduação atual ']]"
      ],
      "metadata": {
        "id": "FvBfc4q23DcJ",
        "colab": {
          "base_uri": "https://localhost:8080/",
          "height": 1000
        },
        "outputId": "cfe46f71-2507-4381-c639-5889a9891c5c"
      },
      "execution_count": 38,
      "outputs": [
        {
          "output_type": "execute_result",
          "data": {
            "text/plain": [
              "                                  Nome  Idade  \\\n",
              "0                              wallace     34   \n",
              "4                Maxwel Dutra de Paula     56   \n",
              "6               Rodrigo Soares Da Cruz     40   \n",
              "8                             Leonardo     40   \n",
              "12            José Ricardo de Oliveira     53   \n",
              "16           Fabio de Oliveira mattins     50   \n",
              "17                             Ruan JJ     27   \n",
              "18        Wilson Caetano Pinto Moreira     49   \n",
              "37          Thadeu Giannattasio Nobres     31   \n",
              "45                               Renan     31   \n",
              "46                           Denivaldo     33   \n",
              "51                      Lucas de Souza     32   \n",
              "57            Thiago Luigi Costa Lessa     36   \n",
              "66                            Fernando     36   \n",
              "73                       Thiago barros     37   \n",
              "74   CARLOS José Guimarães das Virgens     39   \n",
              "75             Helena Juvêncio Bemfica     36   \n",
              "81                    Ricardo Oliveira     45   \n",
              "86                       Filipe Moraes     40   \n",
              "93                            Gleidson     39   \n",
              "98    Luciano de Almeida Poubel Vieira     39   \n",
              "102   Cássio Henrique Silva Nascimento     37   \n",
              "103                    Rafael Fagundes     43   \n",
              "105           Mauricio Maynard do Lago     64   \n",
              "114                       Felipe Cunha     44   \n",
              "115    Pablo cristiano da Silva Daniel     38   \n",
              "120       Bruno Sampaio Muniz da Silva     32   \n",
              "136                      Jorge Antônio     37   \n",
              "138                    Rodolfo Barbosa     30   \n",
              "143                Thiago Santos Silva     36   \n",
              "147                 Dayvid Lopes Faria     29   \n",
              "\n",
              "     Há quanto anos treina Jiu-Jitsu.   \\\n",
              "0                                   13   \n",
              "4                                   30   \n",
              "6                                   22   \n",
              "8                                   23   \n",
              "12                                  27   \n",
              "16                                  25   \n",
              "17                                  20   \n",
              "18                                  21   \n",
              "37                                  12   \n",
              "45                                  12   \n",
              "46                                  15   \n",
              "51                                  16   \n",
              "57                                  18   \n",
              "66                                  13   \n",
              "73                                  20   \n",
              "74                                  22   \n",
              "75                                  20   \n",
              "81                                  23   \n",
              "86                                  20   \n",
              "93                                  16   \n",
              "98                                  23   \n",
              "102                                 22   \n",
              "103                                 26   \n",
              "105                                 13   \n",
              "114                                 24   \n",
              "115                                 25   \n",
              "120                                 13   \n",
              "136                                 12   \n",
              "138                                 17   \n",
              "143                                 11   \n",
              "147                                 13   \n",
              "\n",
              "     Está há quanto anos na graduação atual   \n",
              "0                                          5  \n",
              "4                                         11  \n",
              "6                                          3  \n",
              "8                                          6  \n",
              "12                                        12  \n",
              "16                                         6  \n",
              "17                                         8  \n",
              "18                                         5  \n",
              "37                                         1  \n",
              "45                                         1  \n",
              "46                                         5  \n",
              "51                                         2  \n",
              "57                                         3  \n",
              "66                                         2  \n",
              "73                                         9  \n",
              "74                                         8  \n",
              "75                                         3  \n",
              "81                                        13  \n",
              "86                                         4  \n",
              "93                                         9  \n",
              "98                                         5  \n",
              "102                                       12  \n",
              "103                                        3  \n",
              "105                                        5  \n",
              "114                                       13  \n",
              "115                                        8  \n",
              "120                                        4  \n",
              "136                                        1  \n",
              "138                                        1  \n",
              "143                                        3  \n",
              "147                                        1  "
            ],
            "text/html": [
              "\n",
              "  <div id=\"df-aa6cbb5a-beb6-4e62-ae44-c5e1764ad120\">\n",
              "    <div class=\"colab-df-container\">\n",
              "      <div>\n",
              "<style scoped>\n",
              "    .dataframe tbody tr th:only-of-type {\n",
              "        vertical-align: middle;\n",
              "    }\n",
              "\n",
              "    .dataframe tbody tr th {\n",
              "        vertical-align: top;\n",
              "    }\n",
              "\n",
              "    .dataframe thead th {\n",
              "        text-align: right;\n",
              "    }\n",
              "</style>\n",
              "<table border=\"1\" class=\"dataframe\">\n",
              "  <thead>\n",
              "    <tr style=\"text-align: right;\">\n",
              "      <th></th>\n",
              "      <th>Nome</th>\n",
              "      <th>Idade</th>\n",
              "      <th>Há quanto anos treina Jiu-Jitsu.</th>\n",
              "      <th>Está há quanto anos na graduação atual</th>\n",
              "    </tr>\n",
              "  </thead>\n",
              "  <tbody>\n",
              "    <tr>\n",
              "      <th>0</th>\n",
              "      <td>wallace</td>\n",
              "      <td>34</td>\n",
              "      <td>13</td>\n",
              "      <td>5</td>\n",
              "    </tr>\n",
              "    <tr>\n",
              "      <th>4</th>\n",
              "      <td>Maxwel Dutra de Paula</td>\n",
              "      <td>56</td>\n",
              "      <td>30</td>\n",
              "      <td>11</td>\n",
              "    </tr>\n",
              "    <tr>\n",
              "      <th>6</th>\n",
              "      <td>Rodrigo Soares Da Cruz</td>\n",
              "      <td>40</td>\n",
              "      <td>22</td>\n",
              "      <td>3</td>\n",
              "    </tr>\n",
              "    <tr>\n",
              "      <th>8</th>\n",
              "      <td>Leonardo</td>\n",
              "      <td>40</td>\n",
              "      <td>23</td>\n",
              "      <td>6</td>\n",
              "    </tr>\n",
              "    <tr>\n",
              "      <th>12</th>\n",
              "      <td>José Ricardo de Oliveira</td>\n",
              "      <td>53</td>\n",
              "      <td>27</td>\n",
              "      <td>12</td>\n",
              "    </tr>\n",
              "    <tr>\n",
              "      <th>16</th>\n",
              "      <td>Fabio de Oliveira mattins</td>\n",
              "      <td>50</td>\n",
              "      <td>25</td>\n",
              "      <td>6</td>\n",
              "    </tr>\n",
              "    <tr>\n",
              "      <th>17</th>\n",
              "      <td>Ruan JJ</td>\n",
              "      <td>27</td>\n",
              "      <td>20</td>\n",
              "      <td>8</td>\n",
              "    </tr>\n",
              "    <tr>\n",
              "      <th>18</th>\n",
              "      <td>Wilson Caetano Pinto Moreira</td>\n",
              "      <td>49</td>\n",
              "      <td>21</td>\n",
              "      <td>5</td>\n",
              "    </tr>\n",
              "    <tr>\n",
              "      <th>37</th>\n",
              "      <td>Thadeu Giannattasio Nobres</td>\n",
              "      <td>31</td>\n",
              "      <td>12</td>\n",
              "      <td>1</td>\n",
              "    </tr>\n",
              "    <tr>\n",
              "      <th>45</th>\n",
              "      <td>Renan</td>\n",
              "      <td>31</td>\n",
              "      <td>12</td>\n",
              "      <td>1</td>\n",
              "    </tr>\n",
              "    <tr>\n",
              "      <th>46</th>\n",
              "      <td>Denivaldo</td>\n",
              "      <td>33</td>\n",
              "      <td>15</td>\n",
              "      <td>5</td>\n",
              "    </tr>\n",
              "    <tr>\n",
              "      <th>51</th>\n",
              "      <td>Lucas de Souza</td>\n",
              "      <td>32</td>\n",
              "      <td>16</td>\n",
              "      <td>2</td>\n",
              "    </tr>\n",
              "    <tr>\n",
              "      <th>57</th>\n",
              "      <td>Thiago Luigi Costa Lessa</td>\n",
              "      <td>36</td>\n",
              "      <td>18</td>\n",
              "      <td>3</td>\n",
              "    </tr>\n",
              "    <tr>\n",
              "      <th>66</th>\n",
              "      <td>Fernando</td>\n",
              "      <td>36</td>\n",
              "      <td>13</td>\n",
              "      <td>2</td>\n",
              "    </tr>\n",
              "    <tr>\n",
              "      <th>73</th>\n",
              "      <td>Thiago barros</td>\n",
              "      <td>37</td>\n",
              "      <td>20</td>\n",
              "      <td>9</td>\n",
              "    </tr>\n",
              "    <tr>\n",
              "      <th>74</th>\n",
              "      <td>CARLOS José Guimarães das Virgens</td>\n",
              "      <td>39</td>\n",
              "      <td>22</td>\n",
              "      <td>8</td>\n",
              "    </tr>\n",
              "    <tr>\n",
              "      <th>75</th>\n",
              "      <td>Helena Juvêncio Bemfica</td>\n",
              "      <td>36</td>\n",
              "      <td>20</td>\n",
              "      <td>3</td>\n",
              "    </tr>\n",
              "    <tr>\n",
              "      <th>81</th>\n",
              "      <td>Ricardo Oliveira</td>\n",
              "      <td>45</td>\n",
              "      <td>23</td>\n",
              "      <td>13</td>\n",
              "    </tr>\n",
              "    <tr>\n",
              "      <th>86</th>\n",
              "      <td>Filipe Moraes</td>\n",
              "      <td>40</td>\n",
              "      <td>20</td>\n",
              "      <td>4</td>\n",
              "    </tr>\n",
              "    <tr>\n",
              "      <th>93</th>\n",
              "      <td>Gleidson</td>\n",
              "      <td>39</td>\n",
              "      <td>16</td>\n",
              "      <td>9</td>\n",
              "    </tr>\n",
              "    <tr>\n",
              "      <th>98</th>\n",
              "      <td>Luciano de Almeida Poubel Vieira</td>\n",
              "      <td>39</td>\n",
              "      <td>23</td>\n",
              "      <td>5</td>\n",
              "    </tr>\n",
              "    <tr>\n",
              "      <th>102</th>\n",
              "      <td>Cássio Henrique Silva Nascimento</td>\n",
              "      <td>37</td>\n",
              "      <td>22</td>\n",
              "      <td>12</td>\n",
              "    </tr>\n",
              "    <tr>\n",
              "      <th>103</th>\n",
              "      <td>Rafael Fagundes</td>\n",
              "      <td>43</td>\n",
              "      <td>26</td>\n",
              "      <td>3</td>\n",
              "    </tr>\n",
              "    <tr>\n",
              "      <th>105</th>\n",
              "      <td>Mauricio Maynard do Lago</td>\n",
              "      <td>64</td>\n",
              "      <td>13</td>\n",
              "      <td>5</td>\n",
              "    </tr>\n",
              "    <tr>\n",
              "      <th>114</th>\n",
              "      <td>Felipe Cunha</td>\n",
              "      <td>44</td>\n",
              "      <td>24</td>\n",
              "      <td>13</td>\n",
              "    </tr>\n",
              "    <tr>\n",
              "      <th>115</th>\n",
              "      <td>Pablo cristiano da Silva Daniel</td>\n",
              "      <td>38</td>\n",
              "      <td>25</td>\n",
              "      <td>8</td>\n",
              "    </tr>\n",
              "    <tr>\n",
              "      <th>120</th>\n",
              "      <td>Bruno Sampaio Muniz da Silva</td>\n",
              "      <td>32</td>\n",
              "      <td>13</td>\n",
              "      <td>4</td>\n",
              "    </tr>\n",
              "    <tr>\n",
              "      <th>136</th>\n",
              "      <td>Jorge Antônio</td>\n",
              "      <td>37</td>\n",
              "      <td>12</td>\n",
              "      <td>1</td>\n",
              "    </tr>\n",
              "    <tr>\n",
              "      <th>138</th>\n",
              "      <td>Rodolfo Barbosa</td>\n",
              "      <td>30</td>\n",
              "      <td>17</td>\n",
              "      <td>1</td>\n",
              "    </tr>\n",
              "    <tr>\n",
              "      <th>143</th>\n",
              "      <td>Thiago Santos Silva</td>\n",
              "      <td>36</td>\n",
              "      <td>11</td>\n",
              "      <td>3</td>\n",
              "    </tr>\n",
              "    <tr>\n",
              "      <th>147</th>\n",
              "      <td>Dayvid Lopes Faria</td>\n",
              "      <td>29</td>\n",
              "      <td>13</td>\n",
              "      <td>1</td>\n",
              "    </tr>\n",
              "  </tbody>\n",
              "</table>\n",
              "</div>\n",
              "      <button class=\"colab-df-convert\" onclick=\"convertToInteractive('df-aa6cbb5a-beb6-4e62-ae44-c5e1764ad120')\"\n",
              "              title=\"Convert this dataframe to an interactive table.\"\n",
              "              style=\"display:none;\">\n",
              "        \n",
              "  <svg xmlns=\"http://www.w3.org/2000/svg\" height=\"24px\"viewBox=\"0 0 24 24\"\n",
              "       width=\"24px\">\n",
              "    <path d=\"M0 0h24v24H0V0z\" fill=\"none\"/>\n",
              "    <path d=\"M18.56 5.44l.94 2.06.94-2.06 2.06-.94-2.06-.94-.94-2.06-.94 2.06-2.06.94zm-11 1L8.5 8.5l.94-2.06 2.06-.94-2.06-.94L8.5 2.5l-.94 2.06-2.06.94zm10 10l.94 2.06.94-2.06 2.06-.94-2.06-.94-.94-2.06-.94 2.06-2.06.94z\"/><path d=\"M17.41 7.96l-1.37-1.37c-.4-.4-.92-.59-1.43-.59-.52 0-1.04.2-1.43.59L10.3 9.45l-7.72 7.72c-.78.78-.78 2.05 0 2.83L4 21.41c.39.39.9.59 1.41.59.51 0 1.02-.2 1.41-.59l7.78-7.78 2.81-2.81c.8-.78.8-2.07 0-2.86zM5.41 20L4 18.59l7.72-7.72 1.47 1.35L5.41 20z\"/>\n",
              "  </svg>\n",
              "      </button>\n",
              "      \n",
              "  <style>\n",
              "    .colab-df-container {\n",
              "      display:flex;\n",
              "      flex-wrap:wrap;\n",
              "      gap: 12px;\n",
              "    }\n",
              "\n",
              "    .colab-df-convert {\n",
              "      background-color: #E8F0FE;\n",
              "      border: none;\n",
              "      border-radius: 50%;\n",
              "      cursor: pointer;\n",
              "      display: none;\n",
              "      fill: #1967D2;\n",
              "      height: 32px;\n",
              "      padding: 0 0 0 0;\n",
              "      width: 32px;\n",
              "    }\n",
              "\n",
              "    .colab-df-convert:hover {\n",
              "      background-color: #E2EBFA;\n",
              "      box-shadow: 0px 1px 2px rgba(60, 64, 67, 0.3), 0px 1px 3px 1px rgba(60, 64, 67, 0.15);\n",
              "      fill: #174EA6;\n",
              "    }\n",
              "\n",
              "    [theme=dark] .colab-df-convert {\n",
              "      background-color: #3B4455;\n",
              "      fill: #D2E3FC;\n",
              "    }\n",
              "\n",
              "    [theme=dark] .colab-df-convert:hover {\n",
              "      background-color: #434B5C;\n",
              "      box-shadow: 0px 1px 3px 1px rgba(0, 0, 0, 0.15);\n",
              "      filter: drop-shadow(0px 1px 2px rgba(0, 0, 0, 0.3));\n",
              "      fill: #FFFFFF;\n",
              "    }\n",
              "  </style>\n",
              "\n",
              "      <script>\n",
              "        const buttonEl =\n",
              "          document.querySelector('#df-aa6cbb5a-beb6-4e62-ae44-c5e1764ad120 button.colab-df-convert');\n",
              "        buttonEl.style.display =\n",
              "          google.colab.kernel.accessAllowed ? 'block' : 'none';\n",
              "\n",
              "        async function convertToInteractive(key) {\n",
              "          const element = document.querySelector('#df-aa6cbb5a-beb6-4e62-ae44-c5e1764ad120');\n",
              "          const dataTable =\n",
              "            await google.colab.kernel.invokeFunction('convertToInteractive',\n",
              "                                                     [key], {});\n",
              "          if (!dataTable) return;\n",
              "\n",
              "          const docLinkHtml = 'Like what you see? Visit the ' +\n",
              "            '<a target=\"_blank\" href=https://colab.research.google.com/notebooks/data_table.ipynb>data table notebook</a>'\n",
              "            + ' to learn more about interactive tables.';\n",
              "          element.innerHTML = '';\n",
              "          dataTable['output_type'] = 'display_data';\n",
              "          await google.colab.output.renderOutput(dataTable, element);\n",
              "          const docLink = document.createElement('div');\n",
              "          docLink.innerHTML = docLinkHtml;\n",
              "          element.appendChild(docLink);\n",
              "        }\n",
              "      </script>\n",
              "    </div>\n",
              "  </div>\n",
              "  "
            ]
          },
          "metadata": {},
          "execution_count": 38
        }
      ]
    },
    {
      "cell_type": "code",
      "source": [
        "DEFP=DFPVR[['Idade','Há quanto anos treina Jiu-Jitsu. ','Está há quanto anos na graduação atual ']].describe()"
      ],
      "metadata": {
        "id": "NibYmCvr4ic6"
      },
      "execution_count": 40,
      "outputs": []
    },
    {
      "cell_type": "code",
      "source": [
        "DEFP.describe()"
      ],
      "metadata": {
        "colab": {
          "base_uri": "https://localhost:8080/",
          "height": 300
        },
        "id": "ZmYlZkmI4bZY",
        "outputId": "9e6852f3-988b-45a8-f13f-16170209c85e"
      },
      "execution_count": 41,
      "outputs": [
        {
          "output_type": "execute_result",
          "data": {
            "text/plain": [
              "           Idade  Há quanto anos treina Jiu-Jitsu.   \\\n",
              "count   8.000000                           8.000000   \n",
              "mean   35.179829                          19.029896   \n",
              "std    15.577766                           9.020502   \n",
              "min     8.309601                           5.303681   \n",
              "25%    30.000000                          12.500000   \n",
              "50%    35.250000                          19.467742   \n",
              "75%    39.721774                          24.750000   \n",
              "max    64.000000                          31.000000   \n",
              "\n",
              "       Está há quanto anos na graduação atual   \n",
              "count                                 8.000000  \n",
              "mean                                  8.793810  \n",
              "std                                   9.677601  \n",
              "min                                   1.000000  \n",
              "25%                                   3.601570  \n",
              "50%                                   5.274194  \n",
              "75%                                   9.250000  \n",
              "max                                  31.000000  "
            ],
            "text/html": [
              "\n",
              "  <div id=\"df-a9aa56af-408d-4fa1-afd4-af5cd41f7ef4\">\n",
              "    <div class=\"colab-df-container\">\n",
              "      <div>\n",
              "<style scoped>\n",
              "    .dataframe tbody tr th:only-of-type {\n",
              "        vertical-align: middle;\n",
              "    }\n",
              "\n",
              "    .dataframe tbody tr th {\n",
              "        vertical-align: top;\n",
              "    }\n",
              "\n",
              "    .dataframe thead th {\n",
              "        text-align: right;\n",
              "    }\n",
              "</style>\n",
              "<table border=\"1\" class=\"dataframe\">\n",
              "  <thead>\n",
              "    <tr style=\"text-align: right;\">\n",
              "      <th></th>\n",
              "      <th>Idade</th>\n",
              "      <th>Há quanto anos treina Jiu-Jitsu.</th>\n",
              "      <th>Está há quanto anos na graduação atual</th>\n",
              "    </tr>\n",
              "  </thead>\n",
              "  <tbody>\n",
              "    <tr>\n",
              "      <th>count</th>\n",
              "      <td>8.000000</td>\n",
              "      <td>8.000000</td>\n",
              "      <td>8.000000</td>\n",
              "    </tr>\n",
              "    <tr>\n",
              "      <th>mean</th>\n",
              "      <td>35.179829</td>\n",
              "      <td>19.029896</td>\n",
              "      <td>8.793810</td>\n",
              "    </tr>\n",
              "    <tr>\n",
              "      <th>std</th>\n",
              "      <td>15.577766</td>\n",
              "      <td>9.020502</td>\n",
              "      <td>9.677601</td>\n",
              "    </tr>\n",
              "    <tr>\n",
              "      <th>min</th>\n",
              "      <td>8.309601</td>\n",
              "      <td>5.303681</td>\n",
              "      <td>1.000000</td>\n",
              "    </tr>\n",
              "    <tr>\n",
              "      <th>25%</th>\n",
              "      <td>30.000000</td>\n",
              "      <td>12.500000</td>\n",
              "      <td>3.601570</td>\n",
              "    </tr>\n",
              "    <tr>\n",
              "      <th>50%</th>\n",
              "      <td>35.250000</td>\n",
              "      <td>19.467742</td>\n",
              "      <td>5.274194</td>\n",
              "    </tr>\n",
              "    <tr>\n",
              "      <th>75%</th>\n",
              "      <td>39.721774</td>\n",
              "      <td>24.750000</td>\n",
              "      <td>9.250000</td>\n",
              "    </tr>\n",
              "    <tr>\n",
              "      <th>max</th>\n",
              "      <td>64.000000</td>\n",
              "      <td>31.000000</td>\n",
              "      <td>31.000000</td>\n",
              "    </tr>\n",
              "  </tbody>\n",
              "</table>\n",
              "</div>\n",
              "      <button class=\"colab-df-convert\" onclick=\"convertToInteractive('df-a9aa56af-408d-4fa1-afd4-af5cd41f7ef4')\"\n",
              "              title=\"Convert this dataframe to an interactive table.\"\n",
              "              style=\"display:none;\">\n",
              "        \n",
              "  <svg xmlns=\"http://www.w3.org/2000/svg\" height=\"24px\"viewBox=\"0 0 24 24\"\n",
              "       width=\"24px\">\n",
              "    <path d=\"M0 0h24v24H0V0z\" fill=\"none\"/>\n",
              "    <path d=\"M18.56 5.44l.94 2.06.94-2.06 2.06-.94-2.06-.94-.94-2.06-.94 2.06-2.06.94zm-11 1L8.5 8.5l.94-2.06 2.06-.94-2.06-.94L8.5 2.5l-.94 2.06-2.06.94zm10 10l.94 2.06.94-2.06 2.06-.94-2.06-.94-.94-2.06-.94 2.06-2.06.94z\"/><path d=\"M17.41 7.96l-1.37-1.37c-.4-.4-.92-.59-1.43-.59-.52 0-1.04.2-1.43.59L10.3 9.45l-7.72 7.72c-.78.78-.78 2.05 0 2.83L4 21.41c.39.39.9.59 1.41.59.51 0 1.02-.2 1.41-.59l7.78-7.78 2.81-2.81c.8-.78.8-2.07 0-2.86zM5.41 20L4 18.59l7.72-7.72 1.47 1.35L5.41 20z\"/>\n",
              "  </svg>\n",
              "      </button>\n",
              "      \n",
              "  <style>\n",
              "    .colab-df-container {\n",
              "      display:flex;\n",
              "      flex-wrap:wrap;\n",
              "      gap: 12px;\n",
              "    }\n",
              "\n",
              "    .colab-df-convert {\n",
              "      background-color: #E8F0FE;\n",
              "      border: none;\n",
              "      border-radius: 50%;\n",
              "      cursor: pointer;\n",
              "      display: none;\n",
              "      fill: #1967D2;\n",
              "      height: 32px;\n",
              "      padding: 0 0 0 0;\n",
              "      width: 32px;\n",
              "    }\n",
              "\n",
              "    .colab-df-convert:hover {\n",
              "      background-color: #E2EBFA;\n",
              "      box-shadow: 0px 1px 2px rgba(60, 64, 67, 0.3), 0px 1px 3px 1px rgba(60, 64, 67, 0.15);\n",
              "      fill: #174EA6;\n",
              "    }\n",
              "\n",
              "    [theme=dark] .colab-df-convert {\n",
              "      background-color: #3B4455;\n",
              "      fill: #D2E3FC;\n",
              "    }\n",
              "\n",
              "    [theme=dark] .colab-df-convert:hover {\n",
              "      background-color: #434B5C;\n",
              "      box-shadow: 0px 1px 3px 1px rgba(0, 0, 0, 0.15);\n",
              "      filter: drop-shadow(0px 1px 2px rgba(0, 0, 0, 0.3));\n",
              "      fill: #FFFFFF;\n",
              "    }\n",
              "  </style>\n",
              "\n",
              "      <script>\n",
              "        const buttonEl =\n",
              "          document.querySelector('#df-a9aa56af-408d-4fa1-afd4-af5cd41f7ef4 button.colab-df-convert');\n",
              "        buttonEl.style.display =\n",
              "          google.colab.kernel.accessAllowed ? 'block' : 'none';\n",
              "\n",
              "        async function convertToInteractive(key) {\n",
              "          const element = document.querySelector('#df-a9aa56af-408d-4fa1-afd4-af5cd41f7ef4');\n",
              "          const dataTable =\n",
              "            await google.colab.kernel.invokeFunction('convertToInteractive',\n",
              "                                                     [key], {});\n",
              "          if (!dataTable) return;\n",
              "\n",
              "          const docLinkHtml = 'Like what you see? Visit the ' +\n",
              "            '<a target=\"_blank\" href=https://colab.research.google.com/notebooks/data_table.ipynb>data table notebook</a>'\n",
              "            + ' to learn more about interactive tables.';\n",
              "          element.innerHTML = '';\n",
              "          dataTable['output_type'] = 'display_data';\n",
              "          await google.colab.output.renderOutput(dataTable, element);\n",
              "          const docLink = document.createElement('div');\n",
              "          docLink.innerHTML = docLinkHtml;\n",
              "          element.appendChild(docLink);\n",
              "        }\n",
              "      </script>\n",
              "    </div>\n",
              "  </div>\n",
              "  "
            ]
          },
          "metadata": {},
          "execution_count": 41
        }
      ]
    },
    {
      "cell_type": "code",
      "source": [
        "DEFP.mean()"
      ],
      "metadata": {
        "colab": {
          "base_uri": "https://localhost:8080/"
        },
        "id": "UEjDDMfp6Ai7",
        "outputId": "8eeb3399-c988-41fd-d2e4-a9b59d37e44f"
      },
      "execution_count": 35,
      "outputs": [
        {
          "output_type": "execute_result",
          "data": {
            "text/plain": [
              "Idade                                      35.179829\n",
              "Há quanto anos treina Jiu-Jitsu.           19.029896\n",
              "Está há quanto anos na graduação atual      8.793810\n",
              "dtype: float64"
            ]
          },
          "metadata": {},
          "execution_count": 35
        }
      ]
    }
  ]
}